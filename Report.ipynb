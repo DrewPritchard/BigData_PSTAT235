{
 "cells": [
  {
   "cell_type": "code",
   "execution_count": 1,
   "metadata": {},
   "outputs": [],
   "source": [
    "from pyspark.sql import SparkSession\n",
    "from pyspark import SparkContext\n",
    "from pyspark.sql import SQLContext\n",
    "from pyspark.ml.linalg import DenseVector\n",
    "import pyspark.sql.functions as F\n",
    "import seaborn as sns\n",
    "import matplotlib.pyplot as plt\n",
    "import pyspark.sql.types as typ\n",
    "from pyspark.ml.classification import LogisticRegression\n",
    "from pyspark.ml.evaluation import MulticlassClassificationEvaluator\n",
    "from pyspark.sql.functions import isnan, when, count, col\n",
    "\n",
    "\n",
    "import re\n",
    "import pandas as pd\n",
    "import numpy as np\n",
    "from pyspark.sql import SparkSession\n",
    "\n",
    "spark = SparkSession \\\n",
    "    .builder \\\n",
    "    .master(\"local[*]\") \\\n",
    "    .appName(\"Jonas_rentalPrice-Copy1\") \\\n",
    "    .config(\"spark.executor.memory\", '4g') \\\n",
    "    .config('spark.executor.cores', '1') \\\n",
    "    .config('spark.cores.max', '1') \\\n",
    "    .config(\"spark.driver.memory\",'1g') \\\n",
    "    .getOrCreate()\n",
    "\n",
    "sc = spark.sparkContext\n",
    "sqlCtx = SQLContext(sc)"
   ]
  },
  {
   "cell_type": "code",
   "execution_count": 2,
   "metadata": {},
   "outputs": [],
   "source": [
    "data_pd = pd.read_json(\"data/train.json\")"
   ]
  },
  {
   "cell_type": "markdown",
   "metadata": {},
   "source": [
    "# Check the validity of the data"
   ]
  },
  {
   "cell_type": "code",
   "execution_count": 3,
   "metadata": {},
   "outputs": [
    {
     "data": {
      "text/plain": [
       "{True}"
      ]
     },
     "execution_count": 3,
     "metadata": {},
     "output_type": "execute_result"
    }
   ],
   "source": [
    "set([t>=0 for t in data_pd[\"bathrooms\"].tolist()])"
   ]
  },
  {
   "cell_type": "code",
   "execution_count": 4,
   "metadata": {},
   "outputs": [
    {
     "data": {
      "text/plain": [
       "{True}"
      ]
     },
     "execution_count": 4,
     "metadata": {},
     "output_type": "execute_result"
    }
   ],
   "source": [
    "set([t>=0 for t in data_pd[\"bedrooms\"].tolist()])"
   ]
  },
  {
   "cell_type": "markdown",
   "metadata": {},
   "source": [
    "So as you can see all houses in newyork have at least 0 bathrooms and have at least 0 bedrooms"
   ]
  },
  {
   "cell_type": "code",
   "execution_count": 5,
   "metadata": {},
   "outputs": [
    {
     "data": {
      "text/plain": [
       "{True}"
      ]
     },
     "execution_count": 5,
     "metadata": {},
     "output_type": "execute_result"
    }
   ],
   "source": [
    "import time\n",
    "import datetime\n",
    "set([0<time.mktime(datetime.datetime.strptime(s, \"%Y-%m-%d %H:%M:%S\").timetuple()) for s in data_pd[\"created\"]])"
   ]
  },
  {
   "cell_type": "markdown",
   "metadata": {},
   "source": [
    "And all houses in NYC have a posted date"
   ]
  },
  {
   "cell_type": "code",
   "execution_count": 6,
   "metadata": {},
   "outputs": [
    {
     "data": {
      "text/plain": [
       "{False, True}"
      ]
     },
     "execution_count": 6,
     "metadata": {},
     "output_type": "execute_result"
    }
   ],
   "source": [
    "set([len(t.strip())>0 for t in data_pd[\"description\"].tolist()])"
   ]
  },
  {
   "cell_type": "code",
   "execution_count": 7,
   "metadata": {},
   "outputs": [
    {
     "data": {
      "text/plain": [
       "{False, True}"
      ]
     },
     "execution_count": 7,
     "metadata": {},
     "output_type": "execute_result"
    }
   ],
   "source": [
    "set([len(t.strip())>0 for t in data_pd[\"display_address\"].tolist()])"
   ]
  },
  {
   "cell_type": "markdown",
   "metadata": {},
   "source": [
    "So we can see there are some houses do not have descriptions and there are some houses do not have addresses"
   ]
  },
  {
   "cell_type": "code",
   "execution_count": 8,
   "metadata": {},
   "outputs": [
    {
     "data": {
      "text/plain": [
       "{False, True}"
      ]
     },
     "execution_count": 8,
     "metadata": {},
     "output_type": "execute_result"
    }
   ],
   "source": [
    "set([len(t)>0 for t in data_pd[\"features\"].tolist()])"
   ]
  },
  {
   "cell_type": "markdown",
   "metadata": {},
   "source": [
    "So there are some features that are empty"
   ]
  },
  {
   "cell_type": "code",
   "execution_count": 9,
   "metadata": {},
   "outputs": [
    {
     "data": {
      "text/plain": [
       "{False, True}"
      ]
     },
     "execution_count": 9,
     "metadata": {},
     "output_type": "execute_result"
    }
   ],
   "source": [
    "set([t>0 for t in data_pd[\"latitude\"].tolist()])"
   ]
  },
  {
   "cell_type": "markdown",
   "metadata": {},
   "source": [
    "We know NYC is about 40N, 74W, so 0 value on latitude is not possible. Some observation have their latitudes equals to 0, so they need to be imputed"
   ]
  },
  {
   "cell_type": "code",
   "execution_count": 10,
   "metadata": {},
   "outputs": [
    {
     "data": {
      "text/plain": [
       "{False, True}"
      ]
     },
     "execution_count": 10,
     "metadata": {},
     "output_type": "execute_result"
    }
   ],
   "source": [
    "set([t<0 for t in data_pd[\"longitude\"].tolist()])"
   ]
  },
  {
   "cell_type": "markdown",
   "metadata": {},
   "source": [
    "We know NYC is about 40N, 74W, so 0 value on longitude is not possible. Some observation have their longitudes equals to 0, so they need to be imputed"
   ]
  },
  {
   "cell_type": "code",
   "execution_count": 11,
   "metadata": {},
   "outputs": [
    {
     "data": {
      "text/plain": [
       "{True}"
      ]
     },
     "execution_count": 11,
     "metadata": {},
     "output_type": "execute_result"
    }
   ],
   "source": [
    "set([t>0 for t in data_pd[\"price\"].tolist()])"
   ]
  },
  {
   "cell_type": "markdown",
   "metadata": {},
   "source": [
    "All houses are not free, which is good"
   ]
  },
  {
   "cell_type": "code",
   "execution_count": 12,
   "metadata": {},
   "outputs": [
    {
     "data": {
      "text/plain": [
       "{False, True}"
      ]
     },
     "execution_count": 12,
     "metadata": {},
     "output_type": "execute_result"
    }
   ],
   "source": [
    "set([len(t)>0 for t in data_pd[\"street_address\"].tolist()])"
   ]
  },
  {
   "cell_type": "markdown",
   "metadata": {},
   "source": [
    "There are some observations that do not have **street_address**"
   ]
  },
  {
   "cell_type": "code",
   "execution_count": 13,
   "metadata": {},
   "outputs": [
    {
     "data": {
      "text/plain": [
       "{True}"
      ]
     },
     "execution_count": 13,
     "metadata": {},
     "output_type": "execute_result"
    }
   ],
   "source": [
    "set([np.isreal(t) for t in data_pd[\"listing_id\"].tolist()])"
   ]
  },
  {
   "cell_type": "code",
   "execution_count": 14,
   "metadata": {},
   "outputs": [
    {
     "data": {
      "text/plain": [
       "True"
      ]
     },
     "execution_count": 14,
     "metadata": {},
     "output_type": "execute_result"
    }
   ],
   "source": [
    "len(list(set(data_pd[\"listing_id\"].tolist())))==len(data_pd[\"listing_id\"].tolist())"
   ]
  },
  {
   "cell_type": "markdown",
   "metadata": {},
   "source": [
    "Each **listing_id** is unique, which is expected"
   ]
  },
  {
   "cell_type": "code",
   "execution_count": 15,
   "metadata": {},
   "outputs": [
    {
     "data": {
      "text/plain": [
       "{'high', 'low', 'medium'}"
      ]
     },
     "execution_count": 15,
     "metadata": {},
     "output_type": "execute_result"
    }
   ],
   "source": [
    "set([t for t in data_pd[\"interest_level\"].tolist()])"
   ]
  },
  {
   "cell_type": "markdown",
   "metadata": {},
   "source": [
    "Each observation must have an **interest_level** in (high, low, medium)"
   ]
  },
  {
   "cell_type": "markdown",
   "metadata": {},
   "source": [
    "# EDA"
   ]
  },
  {
   "cell_type": "code",
   "execution_count": 16,
   "metadata": {},
   "outputs": [
    {
     "data": {
      "text/plain": [
       "{'medium': 11229, 'low': 34284, 'high': 3839}"
      ]
     },
     "execution_count": 16,
     "metadata": {},
     "output_type": "execute_result"
    }
   ],
   "source": [
    "interest_level_count = dict()\n",
    "for j in [t for t in data_pd[\"interest_level\"].tolist()]:\n",
    "    interest_level_count[j] = interest_level_count.get(j,0) + 1\n",
    "interest_level_count"
   ]
  },
  {
   "cell_type": "markdown",
   "metadata": {},
   "source": [
    "We have counted the number of medium, low, and high. And as you can see, The data is a little bit imbalanced but not severe. "
   ]
  },
  {
   "cell_type": "markdown",
   "metadata": {},
   "source": [
    "## bathrooms and bedrooms"
   ]
  },
  {
   "cell_type": "code",
   "execution_count": 17,
   "metadata": {},
   "outputs": [
    {
     "data": {
      "text/plain": [
       "<matplotlib.axes._subplots.AxesSubplot at 0x7fe2343f2320>"
      ]
     },
     "execution_count": 17,
     "metadata": {},
     "output_type": "execute_result"
    },
    {
     "data": {
      "image/png": "[encoded data removed]",
      "text/plain": [
       "<Figure size 432x288 with 1 Axes>"
      ]
     },
     "metadata": {},
     "output_type": "display_data"
    }
   ],
   "source": [
    "data_pd[\"bathrooms\"].hist()"
   ]
  },
  {
   "cell_type": "code",
   "execution_count": 18,
   "metadata": {},
   "outputs": [
    {
     "data": {
      "text/plain": [
       "<matplotlib.axes._subplots.AxesSubplot at 0x7fe2344555c0>"
      ]
     },
     "execution_count": 18,
     "metadata": {},
     "output_type": "execute_result"
    },
    {
     "data": {
      "image/png": "[encoded data removed]",
      "text/plain": [
       "<Figure size 432x288 with 1 Axes>"
      ]
     },
     "metadata": {},
     "output_type": "display_data"
    }
   ],
   "source": [
    "data_pd[\"bedrooms\"].hist()"
   ]
  },
  {
   "cell_type": "code",
   "execution_count": 19,
   "metadata": {},
   "outputs": [
    {
     "data": {
      "text/plain": [
       "[<matplotlib.lines.Line2D at 0x7fe23442cbe0>]"
      ]
     },
     "execution_count": 19,
     "metadata": {},
     "output_type": "execute_result"
    },
    {
     "data": {
      "image/png": "[encoded data removed]",
      "text/plain": [
       "<Figure size 432x288 with 1 Axes>"
      ]
     },
     "metadata": {},
     "output_type": "display_data"
    }
   ],
   "source": [
    "from matplotlib import pyplot as plt\n",
    "plt.plot(data_pd[\"bedrooms\"], data_pd[\"bathrooms\"], 'o')"
   ]
  },
  {
   "cell_type": "markdown",
   "metadata": {},
   "source": [
    "From this plot, we can see there is a strange house that has 10 bathrooms but only 2 bedrooms. That is strange, and we may have a check on it"
   ]
  },
  {
   "cell_type": "code",
   "execution_count": 20,
   "metadata": {},
   "outputs": [
    {
     "data": {
      "text/plain": [
       "'***The building?s well-attended lobby welcomes the residents with its 24-hour doorman and concierge service as well as a fitness center, private storage rooms, bicycle storage, sauna and a laundry area on every floor. Many units have been completely renovated with beautiful new finishes, stone countertops and GE stainless steel appliances. Enjoy the Broadway theater district, Times Square, Central Park and exceptional dining and shopping<br /><br />***HUGE AS BIG AS A FOOT BALL FIELD AND FEATURES HIGH CEILING ,BRAND NEW KITCHEN ,MARBLE BATHROOM, TONS OF CLOSET SPACE ,UNOBSTRUCTED CITY VIEWS AND A TON OF LIGHT DUE TO ITS EXPOSURE AND HIGH FLOOR<br /><br />***TO SET UP TIME AND LOCATION CONTACT RUBENS 039-610-8860<br /><br /><p><a  website_redacted '"
      ]
     },
     "execution_count": 20,
     "metadata": {},
     "output_type": "execute_result"
    }
   ],
   "source": [
    "data_pd[data_pd[\"bathrooms\"]==10][\"description\"].tolist()[0]"
   ]
  },
  {
   "cell_type": "code",
   "execution_count": 21,
   "metadata": {},
   "outputs": [
    {
     "data": {
      "text/plain": [
       "[['https://photos.renthop.com/2/6849204_1f92b58ab45a9c2119cf5bae708a3864.jpg',\n",
       "  'https://photos.renthop.com/2/6849204_1ae5954a51b5345f0d884a3cccd46ba6.jpg',\n",
       "  'https://photos.renthop.com/2/6849204_0782c1a7feeb02b245be78b737a51b9d.jpg',\n",
       "  'https://photos.renthop.com/2/6849204_1b7803038b0d3af1499aee849085951f.jpg',\n",
       "  'https://photos.renthop.com/2/6849204_60bb31a548ed1d570ccfa79a09e4b19e.jpg']]"
      ]
     },
     "execution_count": 21,
     "metadata": {},
     "output_type": "execute_result"
    }
   ],
   "source": [
    "data_pd[data_pd[\"bathrooms\"]==10][\"photos\"].tolist()"
   ]
  },
  {
   "cell_type": "markdown",
   "metadata": {},
   "source": [
    "After checking thses images, I am prettysure that 10 bathrooms is an entry mistake. "
   ]
  },
  {
   "cell_type": "code",
   "execution_count": 22,
   "metadata": {},
   "outputs": [
    {
     "data": {
      "text/plain": [
       "(0.5334463134173691, 0.0)"
      ]
     },
     "execution_count": 22,
     "metadata": {},
     "output_type": "execute_result"
    }
   ],
   "source": [
    "from sklearn.linear_model import LinearRegression\n",
    "import scipy\n",
    "scipy.stats.pearsonr(data_pd[\"bathrooms\"], data_pd[\"bedrooms\"])"
   ]
  },
  {
   "cell_type": "markdown",
   "metadata": {},
   "source": [
    "The **bathrooms** and **bedrooms** are not highly correlated"
   ]
  },
  {
   "cell_type": "markdown",
   "metadata": {},
   "source": [
    "So as wee can see most houses in NYC have less than or equal to two bathrooms and have less than 3 bedrooms. "
   ]
  },
  {
   "cell_type": "code",
   "execution_count": 23,
   "metadata": {},
   "outputs": [
    {
     "data": {
      "text/plain": [
       "<seaborn.axisgrid.FacetGrid at 0x7fe2344401d0>"
      ]
     },
     "execution_count": 23,
     "metadata": {},
     "output_type": "execute_result"
    },
    {
     "data": {
      "image/png": "[encoded data removed]",
      "text/plain": [
       "<Figure size 417.75x360 with 1 Axes>"
      ]
     },
     "metadata": {},
     "output_type": "display_data"
    }
   ],
   "source": [
    "import seaborn\n",
    "seaborn.catplot(x=\"interest_level\", y=\"bathrooms\", hue = \"bedrooms\",data = data_pd)"
   ]
  },
  {
   "cell_type": "code",
   "execution_count": 24,
   "metadata": {},
   "outputs": [
    {
     "data": {
      "text/plain": [
       "<seaborn.axisgrid.FacetGrid at 0x7fe234753c50>"
      ]
     },
     "execution_count": 24,
     "metadata": {},
     "output_type": "execute_result"
    },
    {
     "data": {
      "image/png": "[encoded data removed]",
      "text/plain": [
       "<Figure size 421.625x360 with 1 Axes>"
      ]
     },
     "metadata": {},
     "output_type": "display_data"
    }
   ],
   "source": [
    "seaborn.catplot(x=\"interest_level\", y=\"bedrooms\", hue = \"bathrooms\",data = data_pd)"
   ]
  },
  {
   "cell_type": "markdown",
   "metadata": {},
   "source": [
    "We have observed that if there are more than 5 bathrooms or more than 4 bathrooms in a house, the **interest_level** associated with that house can rarely be high"
   ]
  },
  {
   "cell_type": "markdown",
   "metadata": {},
   "source": [
    "## price"
   ]
  },
  {
   "cell_type": "code",
   "execution_count": 25,
   "metadata": {},
   "outputs": [
    {
     "data": {
      "image/png": "[encoded data removed]",
      "text/plain": [
       "<Figure size 360x360 with 1 Axes>"
      ]
     },
     "metadata": {},
     "output_type": "display_data"
    }
   ],
   "source": [
    "g = seaborn.catplot(x=\"interest_level\", y=\"price\",data = data_pd).set(ylim=(0, 50000))"
   ]
  },
  {
   "cell_type": "markdown",
   "metadata": {},
   "source": [
    "And we can see the housing rental prices in NYC is very expensive. However, if a house's rental price is more than 10000, the interest level can rarely be high. "
   ]
  },
  {
   "cell_type": "markdown",
   "metadata": {},
   "source": [
    "## latitude and longitude"
   ]
  },
  {
   "cell_type": "code",
   "execution_count": 26,
   "metadata": {},
   "outputs": [
    {
     "data": {
      "text/plain": [
       "[(38, 44), (-80, -70)]"
      ]
     },
     "execution_count": 26,
     "metadata": {},
     "output_type": "execute_result"
    },
    {
     "data": {
      "image/png": "[encoded data removed]",
      "text/plain": [
       "<Figure size 432x288 with 1 Axes>"
      ]
     },
     "metadata": {},
     "output_type": "display_data"
    }
   ],
   "source": [
    "seaborn.scatterplot(x=\"longitude\",\n",
    "                    y=\"latitude\",\n",
    "                    hue = \"interest_level\",\n",
    "                    data = data_pd).set(ylim=(38, 44),xlim=(-80,-70))"
   ]
  },
  {
   "cell_type": "markdown",
   "metadata": {},
   "source": [
    "Let's zoom in for a little bit"
   ]
  },
  {
   "cell_type": "code",
   "execution_count": 27,
   "metadata": {},
   "outputs": [
    {
     "data": {
      "text/plain": [
       "[(40.4, 41), (-74.25, -73.75)]"
      ]
     },
     "execution_count": 27,
     "metadata": {},
     "output_type": "execute_result"
    },
    {
     "data": {
      "image/png": "[encoded data removed]",
      "text/plain": [
       "<Figure size 432x288 with 1 Axes>"
      ]
     },
     "metadata": {},
     "output_type": "display_data"
    }
   ],
   "source": [
    "seaborn.scatterplot(x=\"longitude\",\n",
    "                    y=\"latitude\",\n",
    "                    hue = \"interest_level\",\n",
    "                    data = data_pd).set(ylim=(40.4, 41),xlim=(-74.25,-73.75))"
   ]
  },
  {
   "cell_type": "markdown",
   "metadata": {},
   "source": [
    "As we can see, the medium, low, and high are have their own clusters each shape as a narrow oval. Therefore, gaussian mixture model may help in this case. "
   ]
  },
  {
   "cell_type": "markdown",
   "metadata": {},
   "source": [
    "## created"
   ]
  },
  {
   "cell_type": "code",
   "execution_count": 28,
   "metadata": {},
   "outputs": [],
   "source": [
    "createdUnixTime = list(map(lambda s:time.mktime(datetime.datetime.strptime(s, \n",
    "                                                         \"%Y-%m-%d %H:%M:%S\").timetuple()), \n",
    "         data_pd[\"created\"].tolist()))"
   ]
  },
  {
   "cell_type": "code",
   "execution_count": 29,
   "metadata": {},
   "outputs": [
    {
     "data": {
      "text/plain": [
       "(0.0, 3550.0)"
      ]
     },
     "execution_count": 29,
     "metadata": {},
     "output_type": "execute_result"
    },
    {
     "data": {
      "image/png": "[encoded data removed]",
      "text/plain": [
       "<Figure size 432x288 with 1 Axes>"
      ]
     },
     "metadata": {},
     "output_type": "display_data"
    }
   ],
   "source": [
    "import matplotlib.pyplot as plt\n",
    "\n",
    "# An \"interface\" to matplotlib.axes.Axes.hist() method\n",
    "n, bins, patches = plt.hist(x=createdUnixTime, \n",
    "                            bins=20, \n",
    "                            color='#0504aa',\n",
    "                            alpha=0.7, rwidth=2)\n",
    "plt.grid(axis='y', alpha=0.75)\n",
    "plt.xlabel('Value')\n",
    "plt.ylabel('Frequency')\n",
    "maxfreq = n.max()\n",
    "# Set a clean upper y-axis limit.\n",
    "plt.ylim(ymax=np.ceil(maxfreq / 10) * 10 if maxfreq % 10 else maxfreq + 10)"
   ]
  },
  {
   "cell_type": "code",
   "execution_count": 30,
   "metadata": {},
   "outputs": [],
   "source": [
    "data_pd[\"createdUnixTime\"] = createdUnixTime"
   ]
  },
  {
   "cell_type": "code",
   "execution_count": 31,
   "metadata": {},
   "outputs": [
    {
     "data": {
      "text/plain": [
       "<seaborn.axisgrid.FacetGrid at 0x7fe2347b4c50>"
      ]
     },
     "execution_count": 31,
     "metadata": {},
     "output_type": "execute_result"
    },
    {
     "data": {
      "image/png": "[encoded data removed]",
      "text/plain": [
       "<Figure size 360x360 with 1 Axes>"
      ]
     },
     "metadata": {},
     "output_type": "display_data"
    }
   ],
   "source": [
    "seaborn.catplot(x=\"interest_level\", y=\"createdUnixTime\",data = data_pd)"
   ]
  },
  {
   "cell_type": "markdown",
   "metadata": {},
   "source": [
    "As you can see the created time for **high** has some gaps that **medium** and **low** does not have, so we may be able to utilize that after some careful feature engineering. "
   ]
  },
  {
   "cell_type": "markdown",
   "metadata": {},
   "source": [
    "## features"
   ]
  },
  {
   "cell_type": "code",
   "execution_count": 32,
   "metadata": {},
   "outputs": [
    {
     "data": {
      "text/plain": [
       "(0.0, 11150.0)"
      ]
     },
     "execution_count": 32,
     "metadata": {},
     "output_type": "execute_result"
    },
    {
     "data": {
      "image/png": "[encoded data removed]",
      "text/plain": [
       "<Figure size 432x288 with 1 Axes>"
      ]
     },
     "metadata": {},
     "output_type": "display_data"
    }
   ],
   "source": [
    "import matplotlib.pyplot as plt\n",
    "\n",
    "# An \"interface\" to matplotlib.axes.Axes.hist() method\n",
    "n, bins, patches = plt.hist(x=[len(t) for t in data_pd[\"features\"].tolist()], \n",
    "                            bins=20, \n",
    "                            color='#0504aa',\n",
    "                            alpha=0.7, rwidth=2)\n",
    "plt.grid(axis='y', alpha=0.75)\n",
    "plt.xlabel('Value')\n",
    "plt.ylabel('Frequency')\n",
    "maxfreq = n.max()\n",
    "# Set a clean upper y-axis limit.\n",
    "plt.ylim(ymax=np.ceil(maxfreq / 10) * 10 if maxfreq % 10 else maxfreq + 10)"
   ]
  },
  {
   "cell_type": "markdown",
   "metadata": {},
   "source": [
    "And most rows in the **features** column have less than 10 items"
   ]
  },
  {
   "cell_type": "code",
   "execution_count": 33,
   "metadata": {},
   "outputs": [],
   "source": [
    "data_pd[\"features_len\"] = list(map(len, data_pd[\"features\"].tolist()))"
   ]
  },
  {
   "cell_type": "code",
   "execution_count": 34,
   "metadata": {},
   "outputs": [
    {
     "data": {
      "text/plain": [
       "<seaborn.axisgrid.FacetGrid at 0x7fe23481c4e0>"
      ]
     },
     "execution_count": 34,
     "metadata": {},
     "output_type": "execute_result"
    },
    {
     "data": {
      "image/png": "[encoded data removed]",
      "text/plain": [
       "<Figure size 360x360 with 1 Axes>"
      ]
     },
     "metadata": {},
     "output_type": "display_data"
    }
   ],
   "source": [
    "seaborn.catplot(x=\"interest_level\",\n",
    "                    y=\"features_len\",\n",
    "                    data = data_pd)"
   ]
  },
  {
   "cell_type": "markdown",
   "metadata": {},
   "source": [
    "And seems like the length of the **features** does not help..."
   ]
  },
  {
   "cell_type": "markdown",
   "metadata": {},
   "source": [
    "# Feature Engineering"
   ]
  },
  {
   "cell_type": "markdown",
   "metadata": {},
   "source": [
    "## created"
   ]
  },
  {
   "cell_type": "markdown",
   "metadata": {},
   "source": [
    "For both model tesing the prediction, the **created** is converted to the unix time, so that becomes a real number suitable for various of models. "
   ]
  },
  {
   "cell_type": "code",
   "execution_count": 35,
   "metadata": {},
   "outputs": [
    {
     "name": "stdout",
     "output_type": "stream",
     "text": [
      "    input_data_pd[\"created\"] = input_data_pd[\"created\"].apply(lambda s: time.mktime(datetime.datetime.strptime(s, \"%Y-%m-%d %H:%M:%S\").timetuple()))\r\n",
      "    input_data_pd_train[\"created\"] = input_data_pd_train[\"created\"].apply(lambda s: time.mktime(datetime.datetime.strptime(s, \"%Y-%m-%d %H:%M:%S\").timetuple()))\r\n",
      "    input_data_pd_test[\"created\"] = input_data_pd_test[\"created\"].apply(lambda s: time.mktime(datetime.datetime.strptime(s, \"%Y-%m-%d %H:%M:%S\").timetuple()))\r\n"
     ]
    }
   ],
   "source": [
    "! cat projectModelRunner.py | grep \"mktime\""
   ]
  },
  {
   "cell_type": "markdown",
   "metadata": {},
   "source": [
    "## latitude and longitude"
   ]
  },
  {
   "cell_type": "code",
   "execution_count": 36,
   "metadata": {},
   "outputs": [
    {
     "name": "stdout",
     "output_type": "stream",
     "text": [
      "\r\n",
      "        assemblerForGMM = VectorAssembler(inputCols=[\"out_latitude\", \"out_longitude\"],\r\n",
      "                                          outputCol=\"gmmFeatures\")\r\n",
      "\r\n",
      "\r\n",
      "        gmm = GaussianMixture(featuresCol=\"gmmFeatures\",\r\n",
      "                              predictionCol=\"gmmPrediction\",\r\n",
      "                              k=7,\r\n",
      "                              probabilityCol=\"gmmAssignmentProbability\",\r\n",
      "                              tol=0.01,\r\n",
      "                              maxIter=100,\r\n",
      "                              seed=None)\r\n",
      "\r\n",
      "        gmmLabelOneHotEncoder = OneHotEncoder(inputCol=\"gmmPrediction\", outputCol=\"gmmPredictionVector\")\r\n",
      "\r\n"
     ]
    }
   ],
   "source": [
    "! head -49 Miscellaneous/ModelPipConfig.py | tail -15"
   ]
  },
  {
   "cell_type": "markdown",
   "metadata": {},
   "source": [
    "Because we assume that houses' 2D locations with different interest level are distributed in NYC by different Gaussian mixtures. Points are clustered and one hot encoded and then fitted into the model"
   ]
  },
  {
   "cell_type": "markdown",
   "metadata": {},
   "source": [
    "## Extreme Value Imputation"
   ]
  },
  {
   "cell_type": "markdown",
   "metadata": {},
   "source": [
    "I believe that observations with a modified z-score (based on the median absolute deviation) greater than 5.5 are extreme outliers and are entered mistakenly. I wrote the following code for cleaning those outliers. "
   ]
  },
  {
   "cell_type": "code",
   "execution_count": 37,
   "metadata": {
    "scrolled": false
   },
   "outputs": [
    {
     "name": "stdout",
     "output_type": "stream",
     "text": [
      "from pyspark.ml.util import JavaMLReadable, JavaMLWritable\r\n",
      "from pyspark.ml.wrapper import JavaEstimator, JavaModel, JavaParams, JavaTransformer, _jvm\r\n",
      "from pyspark.ml.common import inherit_doc\r\n",
      "from pyspark import since, keyword_only, SparkContext\r\n",
      "from pyspark.sql import DataFrame\r\n",
      "\r\n",
      "from pyspark.ml.param.shared import *\r\n",
      "from pyspark.ml import Pipeline, Transformer\r\n",
      "from typing import Iterable,List\r\n",
      "import numpy as np\r\n",
      "from pyspark.sql import Row\r\n",
      "from pyspark.sql.functions import udf\r\n",
      "from pyspark.sql.functions import when, lit, col\r\n",
      "from pyspark.sql.functions import monotonically_increasing_id\r\n",
      "from pyspark.sql.types import FloatType\r\n",
      "from Miscellaneous.Logger import Logger\r\n",
      "\r\n",
      "class OutlierSmoother(Transformer):\r\n",
      "    def __init__(self, thresh: float, inputCols: List[str]=None, outputCols: List[str]=None):\r\n",
      "        if len(inputCols) != len(outputCols):\r\n",
      "            raise ValueError(\"the length of input cols must be equal to the length of output cols\")\r\n",
      "        super(OutlierSmoother, self).__init__()\r\n",
      "        self.inputCols = inputCols\r\n",
      "        self.outputCols = outputCols\r\n",
      "        self.thresh = thresh\r\n",
      "\r\n",
      "    @staticmethod\r\n",
      "    def is_outlier(points, thresh=3.5):\r\n",
      "        \"\"\"\r\n",
      "        Returns a boolean array with True if points are outliers and False\r\n",
      "        otherwise.\r\n",
      "\r\n",
      "        Parameters:\r\n",
      "        -----------\r\n",
      "            points : An numobservations by numdimensions array of observations\r\n",
      "            thresh : The modified z-score to use as a threshold. Observations with\r\n",
      "                a modified z-score (based on the median absolute deviation) greater\r\n",
      "                than this value will be classified as outliers.\r\n",
      "\r\n",
      "        Returns:\r\n",
      "        --------\r\n",
      "            mask : A numobservations-length boolean array.\r\n",
      "\r\n",
      "        References:\r\n",
      "        ----------\r\n",
      "            Boris Iglewicz and David Hoaglin (1993), \"Volume 16: How to Detect and\r\n",
      "            Handle Outliers\", The ASQC Basic References in Quality Control:\r\n",
      "            Statistical Techniques, Edward F. Mykytka, Ph.D., Editor.\r\n",
      "        \"\"\"\r\n",
      "        if len(points.shape) == 1:\r\n",
      "            points = points[:, None]\r\n",
      "        median = np.median(points, axis=0)\r\n",
      "        diff = np.sum((points - median) ** 2, axis=-1)\r\n",
      "        diff = np.sqrt(diff)\r\n",
      "        med_abs_deviation = np.median(diff)\r\n",
      "\r\n",
      "        modified_z_score = 0.6745 * diff / med_abs_deviation\r\n",
      "\r\n",
      "        return modified_z_score > thresh\r\n",
      "\r\n",
      "    @staticmethod\r\n",
      "    def replaceToNull(column, value):\r\n",
      "        return when(column != value, column).otherwise(lit(None))\r\n",
      "\r\n",
      "    def _transform(self, df: DataFrame) -> DataFrame:\r\n",
      "        tmpColList = None\r\n",
      "        tmpColListNpArrFinal = None\r\n",
      "        sc = SparkContext.getOrCreate()\r\n",
      "        new_df = None\r\n",
      "        outlierSmotherRowIdColName = \"outlierSmotherRowId\"\r\n",
      "        if outlierSmotherRowIdColName not in df.schema.names:\r\n",
      "            df = df.withColumn(outlierSmotherRowIdColName, monotonically_increasing_id())\r\n",
      "        else:\r\n",
      "            outlierSmotherRowIdColName = \"outlierSmotherRowId4\" + \"_\".join(df.schema.names)\r\n",
      "\r\n",
      "        for j in range(len(self.inputCols)):\r\n",
      "            tmpColList = df.select([self.inputCols[j]]).rdd.map(lambda r: r[0]).collect()\r\n",
      "            tmpColListNpArr = np.array(tmpColList)\r\n",
      "            outliersQList = self.is_outlier(tmpColListNpArr, self.thresh)\r\n",
      "\r\n",
      "            Logger.logger.info(str(sum(outliersQList)) + \" outliers in column \\'\" + self.inputCols[j] + \"\\' has been smoothened\")\r\n",
      "\r\n",
      "            outlierIndices = np.where(outliersQList)[0]\r\n",
      "            notOutliersQList = np.array([not j for j in outliersQList])\r\n",
      "\r\n",
      "\r\n",
      "            tmpColListAvg = sum(tmpColListNpArr*notOutliersQList)/sum(notOutliersQList)\r\n",
      "\r\n",
      "            for outlierIndex in outlierIndices:\r\n",
      "                tmpColListNpArr[outlierIndex] = tmpColListAvg\r\n",
      "\r\n",
      "            tmpColListNpArrFinal = tmpColListNpArr.tolist()\r\n",
      "            tmpColListNpArrDict = dict()\r\n",
      "\r\n",
      "            for arrItem in range(len(tmpColListNpArrFinal)):\r\n",
      "                tmpColListNpArrDict[arrItem] = tmpColListNpArrFinal[arrItem]\r\n",
      "\r\n",
      "            def valueToCategory(value):\r\n",
      "                return tmpColListNpArrDict.get(value)\r\n",
      "\r\n",
      "            udfValueToCategory = udf(valueToCategory, FloatType())\r\n",
      "            df = df.withColumn(self.outputCols[j], udfValueToCategory(outlierSmotherRowIdColName))\r\n",
      "\r\n",
      "        df = df.drop(outlierSmotherRowIdColName)\r\n",
      "        return df\r\n",
      "\r\n"
     ]
    }
   ],
   "source": [
    "! cat FeaturesMakers/OutlierSmoother.py"
   ]
  },
  {
   "cell_type": "markdown",
   "metadata": {},
   "source": [
    "Basically, the above code will set each of the extreme outliers' values to the average of the remaining data. "
   ]
  },
  {
   "cell_type": "markdown",
   "metadata": {},
   "source": [
    "# Model Selection, Parameter Tunning, and Cross Validation"
   ]
  },
  {
   "cell_type": "markdown",
   "metadata": {},
   "source": [
    "The model selected in this case is Random Forest. Because there are some \"cutting points\" in the plots, a tree model might help. More trees will increase the robustness of the prediction, and here we use 10 trees. "
   ]
  },
  {
   "cell_type": "markdown",
   "metadata": {},
   "source": [
    "Since we have clusterd the **latitude** and **longitude** with GMM, the number of clusters are unknown, so we need to tune that also. "
   ]
  },
  {
   "cell_type": "code",
   "execution_count": 38,
   "metadata": {},
   "outputs": [
    {
     "name": "stdout",
     "output_type": "stream",
     "text": [
      "        if self.method == \"RandomForest\":\r\n",
      "            Logger.logger.info(\"Using the RandomForest\")\r\n",
      "            rf = RandomForestClassifier(numTrees=10)\r\n",
      "            self.paramGrid = ParamGridBuilder().addGrid(gmm.k, [2, 10]).build()\r\n",
      "            self.estimator = rf\r\n"
     ]
    }
   ],
   "source": [
    "! head -73 Miscellaneous/ModelPipConfig.py | tail -5"
   ]
  },
  {
   "cell_type": "markdown",
   "metadata": {},
   "source": [
    "So we tune the number of clusters from 3 to 10"
   ]
  },
  {
   "cell_type": "markdown",
   "metadata": {},
   "source": [
    "The cross validation is used to tune the parameters. In this case, we are using the logloss which is defined as follows:\n",
    "\n",
    "$$\n",
    "log loss = -\\frac{1}{N}\\sum_{i=1}^N\\sum_{j=1}^My_{ij}\\log(p_{ij}),\n",
    "$$"
   ]
  },
  {
   "cell_type": "code",
   "execution_count": 39,
   "metadata": {},
   "outputs": [
    {
     "name": "stdout",
     "output_type": "stream",
     "text": [
      "from pyspark.ml.evaluation import Evaluator\r\n",
      "import numpy as np\r\n",
      "from Miscellaneous.Logger import Logger\r\n",
      "class MultiClassLogLossEvaluator(Evaluator):\r\n",
      "    def __init__(self, probabilityVectorCol=\"probability\", labelCol=\"label\"):\r\n",
      "        self.probabilityVectorCol = probabilityVectorCol\r\n",
      "        self.labelCol = labelCol\r\n",
      "\r\n",
      "    @staticmethod\r\n",
      "    def computeLogLoss(labels, probVecs):\r\n",
      "        if len(labels) != len(probVecs):\r\n",
      "            raise ValueError(\"the length of the labels must be equal to the length of the probVecs\")\r\n",
      "        if min(labels) < 0 or max(labels) > len(probVecs):\r\n",
      "            raise ValueError(\"Please ensure the labels are 0 based\")\r\n",
      "        N = len(labels)\r\n",
      "        M = len(probVecs[0])\r\n",
      "        result = 0.0\r\n",
      "        for i in range(N):\r\n",
      "            for j in range(M):\r\n",
      "                currVec = probVecs[i]\r\n",
      "                result = result + (int(labels[i]) == int(j))*np.log(currVec[j])\r\n",
      "        return -1*result/(N*1.0)\r\n",
      "\r\n",
      "    def evaluate(self, dataset):\r\n",
      "        normalize = lambda vec: vec / (vec).sum()\r\n",
      "        probVecs = [normalize(np.vectorize(lambda p: max(min(p, 1 - 10 ** (-7)), 10 ** (-7)))((row[self.probabilityVectorCol]).toArray())) for row in dataset.collect()]\r\n",
      "        labels = [int(row[self.labelCol]) for row in dataset.collect()]\r\n",
      "        result = MultiClassLogLossEvaluator.computeLogLoss(labels, probVecs)\r\n",
      "        Logger.logger.info(\"the logloss is: \" + str(result))\r\n",
      "        return result\r\n",
      "\r\n",
      "    def isLargerBetter(self):\r\n",
      "        return False\r\n"
     ]
    }
   ],
   "source": [
    "! cat ModelEvaluators/MultiClassLogLossEvaluator.py"
   ]
  },
  {
   "cell_type": "markdown",
   "metadata": {},
   "source": [
    "This metric is better when it is smaller. And the above evaluator is passed in the cross validator"
   ]
  },
  {
   "cell_type": "code",
   "execution_count": 40,
   "metadata": {},
   "outputs": [
    {
     "name": "stdout",
     "output_type": "stream",
     "text": [
      "        self.modelEvaluator = MultiClassLogLossEvaluator(probabilityVectorCol=\"probability\", labelCol=\"label\")\r\n"
     ]
    }
   ],
   "source": [
    "! head -58 Miscellaneous/ModelPipConfig.py | tail -1"
   ]
  },
  {
   "cell_type": "code",
   "execution_count": 41,
   "metadata": {},
   "outputs": [
    {
     "name": "stdout",
     "output_type": "stream",
     "text": [
      "    crossval = CrossValidator(estimator=Pipeline(stages=pipelineConfig.getStages()),\r\n",
      "                              estimatorParamMaps=pipelineConfig.getParamGrid(),\r\n",
      "                              evaluator=pipelineConfig.getModelEvaluator(),\r\n",
      "                              numFolds=5)\r\n",
      "\r\n"
     ]
    }
   ],
   "source": [
    "! head -133 projectModelRunner.py | tail -5"
   ]
  },
  {
   "cell_type": "code",
   "execution_count": 42,
   "metadata": {},
   "outputs": [
    {
     "name": "stdout",
     "output_type": "stream",
     "text": [
      "2019-02-28 13:03:02,725 INFO 61 outliers in column 'longitude' has been smoothened\r\n",
      "2019-02-28 13:03:03,729 INFO 210 outliers in column 'out_price' has been smoothened\r\n",
      "2019-02-28 13:03:08,105 INFO Test Error = 0.298738\r\n",
      "2019-02-28 13:03:10,345 INFO Log Loss = 0.74259\r\n",
      "2019-02-28 13:03:11,482 INFO Here is the confusion matrix with both row and column indices as: high, medium, low\r\n",
      "2019-02-28 13:03:11,482 INFO [[  77   11  687]\r\n",
      " [  45   12 2178]\r\n",
      " [  31    7 6857]]\r\n",
      "2019-02-28 13:03:11,496 INFO Printing the feature importances\r\n",
      "2019-02-28 13:03:11,497 INFO (5,[0,1,2,3,4],[0.055426949408782324,0.08326990122888284,0.012327367623213657,0.7837445809893646,0.06523120074975657])\r\n"
     ]
    }
   ],
   "source": [
    "! tail project.log"
   ]
  },
  {
   "cell_type": "markdown",
   "metadata": {},
   "source": [
    "Here is the confusion matrix based on the default threshold. The last line of this file gives a variable importance measure for each variable used in the random forest stage of the pipeline"
   ]
  },
  {
   "cell_type": "code",
   "execution_count": 43,
   "metadata": {},
   "outputs": [
    {
     "name": "stdout",
     "output_type": "stream",
     "text": [
      "\r\n",
      "        assembler = VectorAssembler(inputCols=[\"out_bathrooms\",\r\n",
      "                                               \"out_bedrooms\",\r\n",
      "                                               \"out_created\",\r\n",
      "                                               \"out_price2\",\r\n",
      "                                               \"gmmPredictionVector\"],\r\n",
      "                                    outputCol=\"features\")\r\n",
      "\r\n"
     ]
    }
   ],
   "source": [
    "! head -56 Miscellaneous/ModelPipConfig.py | tail -8"
   ]
  },
  {
   "cell_type": "markdown",
   "metadata": {},
   "source": [
    "Here is the order of the variables that we fitted into the random forest classifier. And as you can see, price is the most important variable follows by number of bathrooms and number of bedrooms. The optimal number of the GMM mixtures after the tunning is 2. Time created and GMM clusters are important, even more important than the number of bathrooms. "
   ]
  },
  {
   "cell_type": "markdown",
   "metadata": {},
   "source": [
    "# The business goal"
   ]
  },
  {
   "cell_type": "markdown",
   "metadata": {},
   "source": [
    "The business goal for this project is to predict the interest level of each listing of houses in NYC given their listing information. \n",
    "And we have generated estimated probabilities of each listing for different use cases. "
   ]
  },
  {
   "cell_type": "code",
   "execution_count": 44,
   "metadata": {},
   "outputs": [
    {
     "data": {
      "text/plain": [
       "array([[0.0581492 , 0.22273207, 0.71911873],\n",
       "       [0.04682822, 0.19841723, 0.75475455],\n",
       "       [0.09096233, 0.26590303, 0.64313464],\n",
       "       ...,\n",
       "       [0.03016406, 0.14294173, 0.82689421],\n",
       "       [0.03016406, 0.14294173, 0.82689421],\n",
       "       [0.0303191 , 0.14431689, 0.82536401]])"
      ]
     },
     "execution_count": 44,
     "metadata": {},
     "output_type": "execute_result"
    }
   ],
   "source": [
    "probabilities = list(map(eval,pd.read_csv(\"predictionOutput.csv\")[\"probability\"].tolist()))\n",
    "np.array(probabilities)"
   ]
  },
  {
   "cell_type": "code",
   "execution_count": 45,
   "metadata": {},
   "outputs": [],
   "source": [
    "labels = pd.read_csv(\"predictionOutput.csv\")[\"label\"].tolist()"
   ]
  },
  {
   "cell_type": "code",
   "execution_count": 46,
   "metadata": {},
   "outputs": [],
   "source": [
    "def getPredictionLabel(probabilities, weight):\n",
    "    #make sure the summation of thresh is 1\n",
    "    #ALSO make sure the indicies correspond with labels\n",
    "    output = []\n",
    "    for currProbVec in probabilities:\n",
    "        output.append(np.argmax( np.array(currProbVec)*np.array(weight) ))\n",
    "    return output"
   ]
  },
  {
   "cell_type": "code",
   "execution_count": 47,
   "metadata": {},
   "outputs": [],
   "source": [
    "from sklearn.metrics import confusion_matrix"
   ]
  },
  {
   "cell_type": "code",
   "execution_count": 48,
   "metadata": {},
   "outputs": [
    {
     "data": {
      "text/plain": [
       "array([[  77,   11,  687],\n",
       "       [  45,   12, 2178],\n",
       "       [  31,    7, 6857]])"
      ]
     },
     "execution_count": 48,
     "metadata": {},
     "output_type": "execute_result"
    }
   ],
   "source": [
    "confusion_matrix(labels,getPredictionLabel(probabilities, [1,1,1]))"
   ]
  },
  {
   "cell_type": "markdown",
   "metadata": {},
   "source": [
    "The above confusion matrix is generated by using the default threshold. \n",
    "We have obtained 77/(77+45+31) percition and 77/(77+11+687) recall. Which is quite good actually. "
   ]
  },
  {
   "cell_type": "markdown",
   "metadata": {},
   "source": [
    "To increase the recall, we can add more weight to the first label"
   ]
  },
  {
   "cell_type": "code",
   "execution_count": 49,
   "metadata": {},
   "outputs": [
    {
     "data": {
      "text/plain": [
       "array([[ 252,    0,  523],\n",
       "       [ 295,    0, 1940],\n",
       "       [ 346,    0, 6549]])"
      ]
     },
     "execution_count": 49,
     "metadata": {},
     "output_type": "execute_result"
    }
   ],
   "source": [
    "confusion_matrix(labels,getPredictionLabel(probabilities, [4,1,1]))"
   ]
  },
  {
   "cell_type": "markdown",
   "metadata": {},
   "source": [
    "Now the recall increased to about 50 percent, and precision is"
   ]
  },
  {
   "cell_type": "code",
   "execution_count": 52,
   "metadata": {},
   "outputs": [
    {
     "data": {
      "text/plain": [
       "0.2821948488241881"
      ]
     },
     "execution_count": 52,
     "metadata": {},
     "output_type": "execute_result"
    }
   ],
   "source": [
    "252/(252+295+346)"
   ]
  },
  {
   "cell_type": "markdown",
   "metadata": {},
   "source": [
    "Which is still not bad... And actually 28 percent precision is far above the threshold for generating leads for a shortening a sales cycle. "
   ]
  },
  {
   "cell_type": "markdown",
   "metadata": {},
   "source": [
    "If we want to increase the precision, we can do:"
   ]
  },
  {
   "cell_type": "code",
   "execution_count": 51,
   "metadata": {},
   "outputs": [
    {
     "data": {
      "text/plain": [
       "array([[  12,   59,  704],\n",
       "       [   5,   42, 2188],\n",
       "       [   2,   27, 6866]])"
      ]
     },
     "execution_count": 51,
     "metadata": {},
     "output_type": "execute_result"
    }
   ],
   "source": [
    "confusion_matrix(labels,getPredictionLabel(probabilities, [0.5,1,1]))"
   ]
  },
  {
   "cell_type": "markdown",
   "metadata": {},
   "source": [
    "## further improvements proposal"
   ]
  },
  {
   "cell_type": "markdown",
   "metadata": {},
   "source": [
    "1. We have fitted the time variable in the random forest as the unix time. In the random forest setting, that time will be cutted by the mean in between each two observations at each step chosen by the lowest Gini value. However, by this method the time variable is not important in this model. We may fit time as categories such as Months of a year, and that may improve the model performance. \n",
    "2. We have not mined the **description** which I think will be important. We may directly use the clustering of the texts and put the method in the pipeline just like the GMM. However, I think a better approach for the **description** would be to first use a model (such as LSTM) to fit a small portion of the data, save that result externally, one-hot encodes that result , and put that into the design matrix of our pipele. "
   ]
  }
 ],
 "metadata": {
  "kernelspec": {
   "display_name": "Python 3",
   "language": "python",
   "name": "python3"
  },
  "language_info": {
   "codemirror_mode": {
    "name": "ipython",
    "version": 3
   },
   "file_extension": ".py",
   "mimetype": "text/x-python",
   "name": "python",
   "nbconvert_exporter": "python",
   "pygments_lexer": "ipython3",
   "version": "3.6.5"
  }
 },
 "nbformat": 4,
 "nbformat_minor": 2
}
