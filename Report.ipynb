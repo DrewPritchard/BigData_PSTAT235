{
 "cells": [
  {
   "cell_type": "code",
   "execution_count": 2,
   "metadata": {},
   "outputs": [],
   "source": [
    "from pyspark.sql import SparkSession\n",
    "from pyspark import SparkContext\n",
    "from pyspark.sql import SQLContext\n",
    "from pyspark.ml.linalg import DenseVector\n",
    "import pyspark.sql.functions as F\n",
    "import seaborn as sns\n",
    "import matplotlib.pyplot as plt\n",
    "import pyspark.sql.types as typ\n",
    "from pyspark.ml.classification import LogisticRegression\n",
    "from pyspark.ml.evaluation import MulticlassClassificationEvaluator\n",
    "from pyspark.sql.functions import isnan, when, count, col\n",
    "\n",
    "\n",
    "import re\n",
    "import pandas as pd\n",
    "import numpy as np\n",
    "from pyspark.sql import SparkSession\n",
    "\n",
    "spark = SparkSession \\\n",
    "    .builder \\\n",
    "    .master(\"local[*]\") \\\n",
    "    .appName(\"Jonas_rentalPrice-Copy1\") \\\n",
    "    .config(\"spark.executor.memory\", '4g') \\\n",
    "    .config('spark.executor.cores', '1') \\\n",
    "    .config('spark.cores.max', '1') \\\n",
    "    .config(\"spark.driver.memory\",'1g') \\\n",
    "    .getOrCreate()\n",
    "\n",
    "sc = spark.sparkContext\n",
    "sqlCtx = SQLContext(sc)"
   ]
  },
  {
   "cell_type": "code",
   "execution_count": 3,
   "metadata": {},
   "outputs": [],
   "source": [
    "# import as pandas df\n",
    "data_pd = pd.read_json(\"data/train.json\")"
   ]
  },
  {
   "cell_type": "code",
   "execution_count": 4,
   "metadata": {},
   "outputs": [
    {
     "data": {
      "text/html": [
       "<div>\n",
       "<style scoped>\n",
       "    .dataframe tbody tr th:only-of-type {\n",
       "        vertical-align: middle;\n",
       "    }\n",
       "\n",
       "    .dataframe tbody tr th {\n",
       "        vertical-align: top;\n",
       "    }\n",
       "\n",
       "    .dataframe thead th {\n",
       "        text-align: right;\n",
       "    }\n",
       "</style>\n",
       "<table border=\"1\" class=\"dataframe\">\n",
       "  <thead>\n",
       "    <tr style=\"text-align: right;\">\n",
       "      <th></th>\n",
       "      <th>bathrooms</th>\n",
       "      <th>bedrooms</th>\n",
       "      <th>building_id</th>\n",
       "      <th>created</th>\n",
       "      <th>description</th>\n",
       "      <th>display_address</th>\n",
       "      <th>features</th>\n",
       "      <th>latitude</th>\n",
       "      <th>listing_id</th>\n",
       "      <th>longitude</th>\n",
       "      <th>manager_id</th>\n",
       "      <th>photos</th>\n",
       "      <th>price</th>\n",
       "      <th>street_address</th>\n",
       "      <th>interest_level</th>\n",
       "    </tr>\n",
       "  </thead>\n",
       "  <tbody>\n",
       "    <tr>\n",
       "      <th>10</th>\n",
       "      <td>1.5</td>\n",
       "      <td>3</td>\n",
       "      <td>53a5b119ba8f7b61d4e010512e0dfc85</td>\n",
       "      <td>2016-06-24 07:54:24</td>\n",
       "      <td>A Brand New 3 Bedroom 1.5 bath ApartmentEnjoy ...</td>\n",
       "      <td>Metropolitan Avenue</td>\n",
       "      <td>[]</td>\n",
       "      <td>40.7145</td>\n",
       "      <td>7211212</td>\n",
       "      <td>-73.9425</td>\n",
       "      <td>5ba989232d0489da1b5f2c45f6688adc</td>\n",
       "      <td>[https://photos.renthop.com/2/7211212_1ed4542e...</td>\n",
       "      <td>3000</td>\n",
       "      <td>792 Metropolitan Avenue</td>\n",
       "      <td>medium</td>\n",
       "    </tr>\n",
       "    <tr>\n",
       "      <th>10000</th>\n",
       "      <td>1.0</td>\n",
       "      <td>2</td>\n",
       "      <td>c5c8a357cba207596b04d1afd1e4f130</td>\n",
       "      <td>2016-06-12 12:19:27</td>\n",
       "      <td></td>\n",
       "      <td>Columbus Avenue</td>\n",
       "      <td>[Doorman, Elevator, Fitness Center, Cats Allow...</td>\n",
       "      <td>40.7947</td>\n",
       "      <td>7150865</td>\n",
       "      <td>-73.9667</td>\n",
       "      <td>7533621a882f71e25173b27e3139d83d</td>\n",
       "      <td>[https://photos.renthop.com/2/7150865_be3306c5...</td>\n",
       "      <td>5465</td>\n",
       "      <td>808 Columbus Avenue</td>\n",
       "      <td>low</td>\n",
       "    </tr>\n",
       "  </tbody>\n",
       "</table>\n",
       "</div>"
      ],
      "text/plain": [
       "       bathrooms  bedrooms                       building_id  \\\n",
       "10           1.5         3  53a5b119ba8f7b61d4e010512e0dfc85   \n",
       "10000        1.0         2  c5c8a357cba207596b04d1afd1e4f130   \n",
       "\n",
       "                   created                                        description  \\\n",
       "10     2016-06-24 07:54:24  A Brand New 3 Bedroom 1.5 bath ApartmentEnjoy ...   \n",
       "10000  2016-06-12 12:19:27                                                      \n",
       "\n",
       "           display_address                                           features  \\\n",
       "10     Metropolitan Avenue                                                 []   \n",
       "10000      Columbus Avenue  [Doorman, Elevator, Fitness Center, Cats Allow...   \n",
       "\n",
       "       latitude  listing_id  longitude                        manager_id  \\\n",
       "10      40.7145     7211212   -73.9425  5ba989232d0489da1b5f2c45f6688adc   \n",
       "10000   40.7947     7150865   -73.9667  7533621a882f71e25173b27e3139d83d   \n",
       "\n",
       "                                                  photos  price  \\\n",
       "10     [https://photos.renthop.com/2/7211212_1ed4542e...   3000   \n",
       "10000  [https://photos.renthop.com/2/7150865_be3306c5...   5465   \n",
       "\n",
       "                street_address interest_level  \n",
       "10     792 Metropolitan Avenue         medium  \n",
       "10000      808 Columbus Avenue            low  "
      ]
     },
     "execution_count": 4,
     "metadata": {},
     "output_type": "execute_result"
    }
   ],
   "source": [
    "# look at variables\n",
    "data_pd.head(2)"
   ]
  },
  {
   "cell_type": "markdown",
   "metadata": {},
   "source": [
    "# Data Cleaning"
   ]
  },
  {
   "cell_type": "code",
   "execution_count": 17,
   "metadata": {},
   "outputs": [
    {
     "data": {
      "text/html": [
       "<div>\n",
       "<style scoped>\n",
       "    .dataframe tbody tr th:only-of-type {\n",
       "        vertical-align: middle;\n",
       "    }\n",
       "\n",
       "    .dataframe tbody tr th {\n",
       "        vertical-align: top;\n",
       "    }\n",
       "\n",
       "    .dataframe thead th {\n",
       "        text-align: right;\n",
       "    }\n",
       "</style>\n",
       "<table border=\"1\" class=\"dataframe\">\n",
       "  <thead>\n",
       "    <tr style=\"text-align: right;\">\n",
       "      <th></th>\n",
       "      <th>bathrooms</th>\n",
       "      <th>bedrooms</th>\n",
       "      <th>latitude</th>\n",
       "      <th>listing_id</th>\n",
       "      <th>longitude</th>\n",
       "      <th>price</th>\n",
       "    </tr>\n",
       "  </thead>\n",
       "  <tbody>\n",
       "    <tr>\n",
       "      <th>count</th>\n",
       "      <td>49352.00000</td>\n",
       "      <td>49352.000000</td>\n",
       "      <td>49352.000000</td>\n",
       "      <td>4.935200e+04</td>\n",
       "      <td>49352.000000</td>\n",
       "      <td>4.935200e+04</td>\n",
       "    </tr>\n",
       "    <tr>\n",
       "      <th>mean</th>\n",
       "      <td>1.21218</td>\n",
       "      <td>1.541640</td>\n",
       "      <td>40.741545</td>\n",
       "      <td>7.024055e+06</td>\n",
       "      <td>-73.955716</td>\n",
       "      <td>3.830174e+03</td>\n",
       "    </tr>\n",
       "    <tr>\n",
       "      <th>std</th>\n",
       "      <td>0.50142</td>\n",
       "      <td>1.115018</td>\n",
       "      <td>0.638535</td>\n",
       "      <td>1.262746e+05</td>\n",
       "      <td>1.177912</td>\n",
       "      <td>2.206687e+04</td>\n",
       "    </tr>\n",
       "    <tr>\n",
       "      <th>min</th>\n",
       "      <td>0.00000</td>\n",
       "      <td>0.000000</td>\n",
       "      <td>0.000000</td>\n",
       "      <td>6.811957e+06</td>\n",
       "      <td>-118.271000</td>\n",
       "      <td>4.300000e+01</td>\n",
       "    </tr>\n",
       "    <tr>\n",
       "      <th>25%</th>\n",
       "      <td>1.00000</td>\n",
       "      <td>1.000000</td>\n",
       "      <td>40.728300</td>\n",
       "      <td>6.915888e+06</td>\n",
       "      <td>-73.991700</td>\n",
       "      <td>2.500000e+03</td>\n",
       "    </tr>\n",
       "    <tr>\n",
       "      <th>50%</th>\n",
       "      <td>1.00000</td>\n",
       "      <td>1.000000</td>\n",
       "      <td>40.751800</td>\n",
       "      <td>7.021070e+06</td>\n",
       "      <td>-73.977900</td>\n",
       "      <td>3.150000e+03</td>\n",
       "    </tr>\n",
       "    <tr>\n",
       "      <th>75%</th>\n",
       "      <td>1.00000</td>\n",
       "      <td>2.000000</td>\n",
       "      <td>40.774300</td>\n",
       "      <td>7.128733e+06</td>\n",
       "      <td>-73.954800</td>\n",
       "      <td>4.100000e+03</td>\n",
       "    </tr>\n",
       "    <tr>\n",
       "      <th>max</th>\n",
       "      <td>10.00000</td>\n",
       "      <td>8.000000</td>\n",
       "      <td>44.883500</td>\n",
       "      <td>7.753784e+06</td>\n",
       "      <td>0.000000</td>\n",
       "      <td>4.490000e+06</td>\n",
       "    </tr>\n",
       "  </tbody>\n",
       "</table>\n",
       "</div>"
      ],
      "text/plain": [
       "         bathrooms      bedrooms      latitude    listing_id     longitude  \\\n",
       "count  49352.00000  49352.000000  49352.000000  4.935200e+04  49352.000000   \n",
       "mean       1.21218      1.541640     40.741545  7.024055e+06    -73.955716   \n",
       "std        0.50142      1.115018      0.638535  1.262746e+05      1.177912   \n",
       "min        0.00000      0.000000      0.000000  6.811957e+06   -118.271000   \n",
       "25%        1.00000      1.000000     40.728300  6.915888e+06    -73.991700   \n",
       "50%        1.00000      1.000000     40.751800  7.021070e+06    -73.977900   \n",
       "75%        1.00000      2.000000     40.774300  7.128733e+06    -73.954800   \n",
       "max       10.00000      8.000000     44.883500  7.753784e+06      0.000000   \n",
       "\n",
       "              price  \n",
       "count  4.935200e+04  \n",
       "mean   3.830174e+03  \n",
       "std    2.206687e+04  \n",
       "min    4.300000e+01  \n",
       "25%    2.500000e+03  \n",
       "50%    3.150000e+03  \n",
       "75%    4.100000e+03  \n",
       "max    4.490000e+06  "
      ]
     },
     "execution_count": 17,
     "metadata": {},
     "output_type": "execute_result"
    }
   ],
   "source": [
    "## Summary statistics for numerical columns\n",
    "data_pd.describe()"
   ]
  },
  {
   "cell_type": "markdown",
   "metadata": {},
   "source": [
    "The average house has 1 bedroom and 1.5 bathrooms and is priced at about \\$3800. Additionally, looking at the min and max values for these columns, we can see that there are some rentals that have 0 bedrooms or 0 bathrooms! The minimum rental price is 43 dollars, and the maximum is 4.5 million. Additionally, we can see some outliers in the latitude and longitude values. There is at least one place listed as being on the equator, and another that has latitude close to that of Vermont. Furthermore, there is at least one place with longitude = 0 (the prime meridian that runs through the UK and West Africa), and one with a longitude of -118.27, which is approximately the longitude of Los Angeles! There's definitely some cleaning to do here!"
   ]
  },
  {
   "cell_type": "code",
   "execution_count": 6,
   "metadata": {},
   "outputs": [
    {
     "data": {
      "text/plain": [
       "{True}"
      ]
     },
     "execution_count": 6,
     "metadata": {},
     "output_type": "execute_result"
    }
   ],
   "source": [
    "# Does every listing have a date?\n",
    "import time\n",
    "import datetime\n",
    "set([0<time.mktime(datetime.datetime.strptime(s, \"%Y-%m-%d %H:%M:%S\").timetuple()) for s in data_pd[\"created\"]])"
   ]
  },
  {
   "cell_type": "markdown",
   "metadata": {},
   "source": [
    "And all houses in NYC have a posted date"
   ]
  },
  {
   "cell_type": "code",
   "execution_count": 7,
   "metadata": {},
   "outputs": [
    {
     "data": {
      "text/plain": [
       "{False, True}"
      ]
     },
     "execution_count": 7,
     "metadata": {},
     "output_type": "execute_result"
    }
   ],
   "source": [
    "# descriptions\n",
    "set([len(t.strip())>0 for t in data_pd[\"description\"].tolist()])"
   ]
  },
  {
   "cell_type": "code",
   "execution_count": 8,
   "metadata": {},
   "outputs": [
    {
     "data": {
      "text/plain": [
       "{False, True}"
      ]
     },
     "execution_count": 8,
     "metadata": {},
     "output_type": "execute_result"
    }
   ],
   "source": [
    "# addresses\n",
    "set([len(t.strip())>0 for t in data_pd[\"display_address\"].tolist()])"
   ]
  },
  {
   "cell_type": "code",
   "execution_count": 9,
   "metadata": {},
   "outputs": [
    {
     "data": {
      "text/plain": [
       "{False, True}"
      ]
     },
     "execution_count": 9,
     "metadata": {},
     "output_type": "execute_result"
    }
   ],
   "source": [
    "# features\n",
    "set([len(t)>0 for t in data_pd[\"features\"].tolist()])"
   ]
  },
  {
   "cell_type": "markdown",
   "metadata": {},
   "source": [
    "Some rentals have empty descriptions, addresses, or features"
   ]
  },
  {
   "cell_type": "code",
   "execution_count": 10,
   "metadata": {},
   "outputs": [
    {
     "data": {
      "text/plain": [
       "{False, True}"
      ]
     },
     "execution_count": 10,
     "metadata": {},
     "output_type": "execute_result"
    }
   ],
   "source": [
    "set([t>0 for t in data_pd[\"latitude\"].tolist()])"
   ]
  },
  {
   "cell_type": "markdown",
   "metadata": {},
   "source": [
    "We know NYC is about 40N, 74W, so rentals with latitude equal to 0 are likely to be errors. We will impute these values."
   ]
  },
  {
   "cell_type": "code",
   "execution_count": 16,
   "metadata": {},
   "outputs": [
    {
     "data": {
      "text/plain": [
       "array([[<matplotlib.axes._subplots.AxesSubplot object at 0x7fa13b6811d0>,\n",
       "        <matplotlib.axes._subplots.AxesSubplot object at 0x7fa13b676a90>],\n",
       "       [<matplotlib.axes._subplots.AxesSubplot object at 0x7fa13b6ebda0>,\n",
       "        <matplotlib.axes._subplots.AxesSubplot object at 0x7fa13b6e1080>],\n",
       "       [<matplotlib.axes._subplots.AxesSubplot object at 0x7fa13b6d6390>,\n",
       "        <matplotlib.axes._subplots.AxesSubplot object at 0x7fa13b6d6320>]],\n",
       "      dtype=object)"
      ]
     },
     "execution_count": 16,
     "metadata": {},
     "output_type": "execute_result"
    },
    {
     "data": {
      "image/png": "[encoded data removed]",
      "text/plain": [
       "<Figure size 432x288 with 6 Axes>"
      ]
     },
     "metadata": {
      "needs_background": "light"
     },
     "output_type": "display_data"
    }
   ],
   "source": [
    "set([t<0 for t in data_pd[\"longitude\"].tolist()])"
   ]
  },
  {
   "cell_type": "code",
   "execution_count": 12,
   "metadata": {},
   "outputs": [
    {
     "data": {
      "text/plain": [
       "{True}"
      ]
     },
     "execution_count": 12,
     "metadata": {},
     "output_type": "execute_result"
    }
   ],
   "source": [
    "set([t>0 for t in data_pd[\"price\"].tolist()])"
   ]
  },
  {
   "cell_type": "markdown",
   "metadata": {},
   "source": [
    "All houses are not free, which is good"
   ]
  },
  {
   "cell_type": "code",
   "execution_count": 13,
   "metadata": {},
   "outputs": [
    {
     "data": {
      "text/plain": [
       "{False, True}"
      ]
     },
     "execution_count": 13,
     "metadata": {},
     "output_type": "execute_result"
    }
   ],
   "source": [
    "set([len(t)>0 for t in data_pd[\"street_address\"].tolist()])"
   ]
  },
  {
   "cell_type": "markdown",
   "metadata": {},
   "source": [
    "There are some observations that do not have **street_address**"
   ]
  },
  {
   "cell_type": "code",
   "execution_count": 14,
   "metadata": {},
   "outputs": [
    {
     "data": {
      "text/plain": [
       "{True}"
      ]
     },
     "execution_count": 14,
     "metadata": {},
     "output_type": "execute_result"
    }
   ],
   "source": [
    "set([np.isreal(t) for t in data_pd[\"listing_id\"].tolist()])"
   ]
  },
  {
   "cell_type": "code",
   "execution_count": 15,
   "metadata": {},
   "outputs": [
    {
     "data": {
      "text/plain": [
       "True"
      ]
     },
     "execution_count": 15,
     "metadata": {},
     "output_type": "execute_result"
    }
   ],
   "source": [
    "len(list(set(data_pd[\"listing_id\"].tolist())))==len(data_pd[\"listing_id\"].tolist())"
   ]
  },
  {
   "cell_type": "markdown",
   "metadata": {},
   "source": [
    "Each **listing_id** is unique, which is expected"
   ]
  },
  {
   "cell_type": "code",
   "execution_count": 16,
   "metadata": {},
   "outputs": [
    {
     "data": {
      "text/plain": [
       "{'high', 'low', 'medium'}"
      ]
     },
     "execution_count": 16,
     "metadata": {},
     "output_type": "execute_result"
    }
   ],
   "source": [
    "set([t for t in data_pd[\"interest_level\"].tolist()])"
   ]
  },
  {
   "cell_type": "markdown",
   "metadata": {},
   "source": [
    "Each observation must have an **interest_level** in (high, low, medium)"
   ]
  },
  {
   "cell_type": "markdown",
   "metadata": {},
   "source": [
    "# EDA"
   ]
  },
  {
   "cell_type": "code",
   "execution_count": 17,
   "metadata": {},
   "outputs": [
    {
     "data": {
      "text/plain": [
       "{'medium': 11229, 'low': 34284, 'high': 3839}"
      ]
     },
     "execution_count": 17,
     "metadata": {},
     "output_type": "execute_result"
    }
   ],
   "source": [
    "interest_level_count = dict()\n",
    "for j in [t for t in data_pd[\"interest_level\"].tolist()]:\n",
    "    interest_level_count[j] = interest_level_count.get(j,0) + 1\n",
    "interest_level_count"
   ]
  },
  {
   "cell_type": "markdown",
   "metadata": {},
   "source": [
    "We have counted the number of medium, low, and high. And as you can see, The data is a little bit imbalanced but not severe. "
   ]
  },
  {
   "cell_type": "markdown",
   "metadata": {},
   "source": [
    "## bathrooms and bedrooms"
   ]
  },
  {
   "cell_type": "code",
   "execution_count": 17,
   "metadata": {},
   "outputs": [
    {
     "data": {
      "text/plain": [
       "<matplotlib.axes._subplots.AxesSubplot at 0x7fe2343f2320>"
      ]
     },
     "execution_count": 17,
     "metadata": {},
     "output_type": "execute_result"
    },
    {
     "data": {
      "image/png": "[encoded data removed]",
      "text/plain": [
       "<Figure size 432x288 with 1 Axes>"
      ]
     },
     "metadata": {},
     "output_type": "display_data"
    }
   ],
   "source": [
    "data_pd[\"bathrooms\"].hist()"
   ]
  },
  {
   "cell_type": "code",
   "execution_count": 18,
   "metadata": {},
   "outputs": [
    {
     "data": {
      "text/plain": [
       "<matplotlib.axes._subplots.AxesSubplot at 0x7fe2344555c0>"
      ]
     },
     "execution_count": 18,
     "metadata": {},
     "output_type": "execute_result"
    },
    {
     "data": {
      "image/png": "[encoded data removed]",
      "text/plain": [
       "<Figure size 432x288 with 1 Axes>"
      ]
     },
     "metadata": {},
     "output_type": "display_data"
    }
   ],
   "source": [
    "data_pd[\"bedrooms\"].hist()"
   ]
  },
  {
   "cell_type": "code",
   "execution_count": 19,
   "metadata": {},
   "outputs": [
    {
     "data": {
      "text/plain": [
       "[<matplotlib.lines.Line2D at 0x7fe23442cbe0>]"
      ]
     },
     "execution_count": 19,
     "metadata": {},
     "output_type": "execute_result"
    },
    {
     "data": {
      "image/png": "[encoded data removed]",
      "text/plain": [
       "<Figure size 432x288 with 1 Axes>"
      ]
     },
     "metadata": {},
     "output_type": "display_data"
    }
   ],
   "source": [
    "from matplotlib import pyplot as plt\n",
    "plt.plot(data_pd[\"bedrooms\"], data_pd[\"bathrooms\"], 'o')"
   ]
  },
  {
   "cell_type": "markdown",
   "metadata": {},
   "source": [
    "From this plot, we can see there is a strange house that has 10 bathrooms but only 2 bedrooms. That is strange, and we may have a check on it"
   ]
  },
  {
   "cell_type": "code",
   "execution_count": 20,
   "metadata": {},
   "outputs": [
    {
     "data": {
      "text/plain": [
       "'***The building?s well-attended lobby welcomes the residents with its 24-hour doorman and concierge service as well as a fitness center, private storage rooms, bicycle storage, sauna and a laundry area on every floor. Many units have been completely renovated with beautiful new finishes, stone countertops and GE stainless steel appliances. Enjoy the Broadway theater district, Times Square, Central Park and exceptional dining and shopping<br /><br />***HUGE AS BIG AS A FOOT BALL FIELD AND FEATURES HIGH CEILING ,BRAND NEW KITCHEN ,MARBLE BATHROOM, TONS OF CLOSET SPACE ,UNOBSTRUCTED CITY VIEWS AND A TON OF LIGHT DUE TO ITS EXPOSURE AND HIGH FLOOR<br /><br />***TO SET UP TIME AND LOCATION CONTACT RUBENS 039-610-8860<br /><br /><p><a  website_redacted '"
      ]
     },
     "execution_count": 20,
     "metadata": {},
     "output_type": "execute_result"
    }
   ],
   "source": [
    "data_pd[data_pd[\"bathrooms\"]==10][\"description\"].tolist()[0]"
   ]
  },
  {
   "cell_type": "code",
   "execution_count": 21,
   "metadata": {},
   "outputs": [
    {
     "data": {
      "text/plain": [
       "[['https://photos.renthop.com/2/6849204_1f92b58ab45a9c2119cf5bae708a3864.jpg',\n",
       "  'https://photos.renthop.com/2/6849204_1ae5954a51b5345f0d884a3cccd46ba6.jpg',\n",
       "  'https://photos.renthop.com/2/6849204_0782c1a7feeb02b245be78b737a51b9d.jpg',\n",
       "  'https://photos.renthop.com/2/6849204_1b7803038b0d3af1499aee849085951f.jpg',\n",
       "  'https://photos.renthop.com/2/6849204_60bb31a548ed1d570ccfa79a09e4b19e.jpg']]"
      ]
     },
     "execution_count": 21,
     "metadata": {},
     "output_type": "execute_result"
    }
   ],
   "source": [
    "data_pd[data_pd[\"bathrooms\"]==10][\"photos\"].tolist()"
   ]
  },
  {
   "cell_type": "markdown",
   "metadata": {},
   "source": [
    "After checking thses images, I am prettysure that 10 bathrooms is an entry mistake. "
   ]
  },
  {
   "cell_type": "code",
   "execution_count": 22,
   "metadata": {},
   "outputs": [
    {
     "data": {
      "text/plain": [
       "(0.5334463134173691, 0.0)"
      ]
     },
     "execution_count": 22,
     "metadata": {},
     "output_type": "execute_result"
    }
   ],
   "source": [
    "from sklearn.linear_model import LinearRegression\n",
    "import scipy\n",
    "scipy.stats.pearsonr(data_pd[\"bathrooms\"], data_pd[\"bedrooms\"])"
   ]
  },
  {
   "cell_type": "markdown",
   "metadata": {},
   "source": [
    "The **bathrooms** and **bedrooms** are not highly correlated"
   ]
  },
  {
   "cell_type": "markdown",
   "metadata": {},
   "source": [
    "So as wee can see most houses in NYC have less than or equal to two bathrooms and have less than 3 bedrooms. "
   ]
  },
  {
   "cell_type": "code",
   "execution_count": 18,
   "metadata": {},
   "outputs": [
    {
     "data": {
      "text/plain": [
       "<seaborn.axisgrid.FacetGrid at 0x7ff0816f0780>"
      ]
     },
     "execution_count": 18,
     "metadata": {},
     "output_type": "execute_result"
    },
    {
     "data": {
      "image/png": "[encoded data removed]",
      "text/plain": [
       "<Figure size 417.75x360 with 1 Axes>"
      ]
     },
     "metadata": {
      "needs_background": "light"
     },
     "output_type": "display_data"
    }
   ],
   "source": [
    "import seaborn\n",
    "seaborn.catplot(x=\"interest_level\", y=\"bathrooms\", hue = \"bedrooms\",data = data_pd, order=[\"low\",\"medium\",\"high\"])"
   ]
  },
  {
   "cell_type": "code",
   "execution_count": 19,
   "metadata": {},
   "outputs": [
    {
     "data": {
      "text/plain": [
       "<seaborn.axisgrid.FacetGrid at 0x7ff0816df240>"
      ]
     },
     "execution_count": 19,
     "metadata": {},
     "output_type": "execute_result"
    },
    {
     "data": {
      "image/png": "[encoded data removed]",
      "text/plain": [
       "<Figure size 421.625x360 with 1 Axes>"
      ]
     },
     "metadata": {
      "needs_background": "light"
     },
     "output_type": "display_data"
    }
   ],
   "source": [
    "seaborn.catplot(x=\"interest_level\", y=\"bedrooms\", hue = \"bathrooms\",data = data_pd, order=[\"low\",\"medium\",\"high\"])"
   ]
  },
  {
   "cell_type": "markdown",
   "metadata": {},
   "source": [
    "We have observed that if there are more than 5 bathrooms or more than 4 bathrooms in a house, the **interest_level** associated with that house can rarely be high"
   ]
  },
  {
   "cell_type": "markdown",
   "metadata": {},
   "source": [
    "## price"
   ]
  },
  {
   "cell_type": "code",
   "execution_count": 24,
   "metadata": {},
   "outputs": [],
   "source": [
    "mypal = {\"low\": \"#6da39c\", \"medium\": \"#ff9a16\", \"high\":\"#77043e\"}\n"
   ]
  },
  {
   "cell_type": "code",
   "execution_count": 25,
   "metadata": {},
   "outputs": [
    {
     "data": {
      "image/png": "[encoded data removed]",
      "text/plain": [
       "<Figure size 360x360 with 1 Axes>"
      ]
     },
     "metadata": {
      "needs_background": "light"
     },
     "output_type": "display_data"
    }
   ],
   "source": [
    "g = seaborn.catplot(x=\"interest_level\", y=\"price\",data = data_pd, order=[\"low\",\"medium\",\"high\"], palette=mypal).set(ylim=(0, 50000))"
   ]
  },
  {
   "cell_type": "markdown",
   "metadata": {},
   "source": [
    "And we can see the housing rental prices in NYC is very expensive. However, if a house's rental price is more than 10000, the interest level can rarely be high. "
   ]
  },
  {
   "cell_type": "markdown",
   "metadata": {},
   "source": [
    "## latitude and longitude"
   ]
  },
  {
   "cell_type": "code",
   "execution_count": 26,
   "metadata": {},
   "outputs": [
    {
     "data": {
      "text/plain": [
       "[(38, 44), (-80, -70)]"
      ]
     },
     "execution_count": 26,
     "metadata": {},
     "output_type": "execute_result"
    },
    {
     "data": {
      "image/png": "[encoded data removed]",
      "text/plain": [
       "<Figure size 432x288 with 1 Axes>"
      ]
     },
     "metadata": {},
     "output_type": "display_data"
    }
   ],
   "source": [
    "seaborn.scatterplot(x=\"longitude\",\n",
    "                    y=\"latitude\",\n",
    "                    hue = \"interest_level\",\n",
    "                    data = data_pd).set(ylim=(38, 44),xlim=(-80,-70))"
   ]
  },
  {
   "cell_type": "markdown",
   "metadata": {},
   "source": [
    "Let's zoom in for a little bit"
   ]
  },
  {
   "cell_type": "code",
   "execution_count": 27,
   "metadata": {},
   "outputs": [
    {
     "data": {
      "text/plain": [
       "[(40.4, 41), (-74.25, -73.75)]"
      ]
     },
     "execution_count": 27,
     "metadata": {},
     "output_type": "execute_result"
    },
    {
     "data": {
      "image/png": "[encoded data removed]",
      "text/plain": [
       "<Figure size 432x288 with 1 Axes>"
      ]
     },
     "metadata": {},
     "output_type": "display_data"
    }
   ],
   "source": [
    "seaborn.scatterplot(x=\"longitude\",\n",
    "                    y=\"latitude\",\n",
    "                    hue = \"interest_level\",\n",
    "                    data = data_pd).set(ylim=(40.4, 41),xlim=(-74.25,-73.75))"
   ]
  },
  {
   "cell_type": "markdown",
   "metadata": {},
   "source": [
    "As we can see, the medium, low, and high are have their own clusters each shape as a narrow oval. Therefore, gaussian mixture model may help in this case. "
   ]
  },
  {
   "cell_type": "markdown",
   "metadata": {},
   "source": [
    "## created"
   ]
  },
  {
   "cell_type": "code",
   "execution_count": 28,
   "metadata": {},
   "outputs": [],
   "source": [
    "createdUnixTime = list(map(lambda s:time.mktime(datetime.datetime.strptime(s, \n",
    "                                                         \"%Y-%m-%d %H:%M:%S\").timetuple()), \n",
    "         data_pd[\"created\"].tolist()))"
   ]
  },
  {
   "cell_type": "code",
   "execution_count": 29,
   "metadata": {},
   "outputs": [
    {
     "data": {
      "text/plain": [
       "(0.0, 3550.0)"
      ]
     },
     "execution_count": 29,
     "metadata": {},
     "output_type": "execute_result"
    },
    {
     "data": {
      "image/png": "[encoded data removed]",
      "text/plain": [
       "<Figure size 432x288 with 1 Axes>"
      ]
     },
     "metadata": {},
     "output_type": "display_data"
    }
   ],
   "source": [
    "import matplotlib.pyplot as plt\n",
    "\n",
    "# An \"interface\" to matplotlib.axes.Axes.hist() method\n",
    "n, bins, patches = plt.hist(x=createdUnixTime, \n",
    "                            bins=20, \n",
    "                            color='#0504aa',\n",
    "                            alpha=0.7, rwidth=2)\n",
    "plt.grid(axis='y', alpha=0.75)\n",
    "plt.xlabel('Value')\n",
    "plt.ylabel('Frequency')\n",
    "maxfreq = n.max()\n",
    "# Set a clean upper y-axis limit.\n",
    "plt.ylim(ymax=np.ceil(maxfreq / 10) * 10 if maxfreq % 10 else maxfreq + 10)"
   ]
  },
  {
   "cell_type": "code",
   "execution_count": 30,
   "metadata": {},
   "outputs": [],
   "source": [
    "data_pd[\"createdUnixTime\"] = createdUnixTime"
   ]
  },
  {
   "cell_type": "code",
   "execution_count": 31,
   "metadata": {},
   "outputs": [
    {
     "data": {
      "text/plain": [
       "<seaborn.axisgrid.FacetGrid at 0x7fe2347b4c50>"
      ]
     },
     "execution_count": 31,
     "metadata": {},
     "output_type": "execute_result"
    },
    {
     "data": {
      "image/png": "[encoded data removed]",
      "text/plain": [
       "<Figure size 360x360 with 1 Axes>"
      ]
     },
     "metadata": {},
     "output_type": "display_data"
    }
   ],
   "source": [
    "seaborn.catplot(x=\"interest_level\", y=\"createdUnixTime\",data = data_pd)"
   ]
  },
  {
   "cell_type": "markdown",
   "metadata": {},
   "source": [
    "As you can see the created time for **high** has some gaps that **medium** and **low** does not have, so we may be able to utilize that after some careful feature engineering. "
   ]
  },
  {
   "cell_type": "markdown",
   "metadata": {},
   "source": [
    "## features"
   ]
  },
  {
   "cell_type": "code",
   "execution_count": 32,
   "metadata": {},
   "outputs": [
    {
     "data": {
      "text/plain": [
       "(0.0, 11150.0)"
      ]
     },
     "execution_count": 32,
     "metadata": {},
     "output_type": "execute_result"
    },
    {
     "data": {
      "image/png": "[encoded data removed]",
      "text/plain": [
       "<Figure size 432x288 with 1 Axes>"
      ]
     },
     "metadata": {},
     "output_type": "display_data"
    }
   ],
   "source": [
    "import matplotlib.pyplot as plt\n",
    "\n",
    "# An \"interface\" to matplotlib.axes.Axes.hist() method\n",
    "n, bins, patches = plt.hist(x=[len(t) for t in data_pd[\"features\"].tolist()], \n",
    "                            bins=20, \n",
    "                            color='#0504aa',\n",
    "                            alpha=0.7, rwidth=2)\n",
    "plt.grid(axis='y', alpha=0.75)\n",
    "plt.xlabel('Value')\n",
    "plt.ylabel('Frequency')\n",
    "maxfreq = n.max()\n",
    "# Set a clean upper y-axis limit.\n",
    "plt.ylim(ymax=np.ceil(maxfreq / 10) * 10 if maxfreq % 10 else maxfreq + 10)"
   ]
  },
  {
   "cell_type": "markdown",
   "metadata": {},
   "source": [
    "And most rows in the **features** column have less than 10 items"
   ]
  },
  {
   "cell_type": "code",
   "execution_count": 33,
   "metadata": {},
   "outputs": [],
   "source": [
    "data_pd[\"features_len\"] = list(map(len, data_pd[\"features\"].tolist()))"
   ]
  },
  {
   "cell_type": "code",
   "execution_count": 34,
   "metadata": {},
   "outputs": [
    {
     "data": {
      "text/plain": [
       "<seaborn.axisgrid.FacetGrid at 0x7fe23481c4e0>"
      ]
     },
     "execution_count": 34,
     "metadata": {},
     "output_type": "execute_result"
    },
    {
     "data": {
      "image/png": "[encoded data removed]",
      "text/plain": [
       "<Figure size 360x360 with 1 Axes>"
      ]
     },
     "metadata": {},
     "output_type": "display_data"
    }
   ],
   "source": [
    "seaborn.catplot(x=\"interest_level\",\n",
    "                    y=\"features_len\",\n",
    "                    data = data_pd)"
   ]
  },
  {
   "cell_type": "markdown",
   "metadata": {},
   "source": [
    "And seems like the length of the **features** does not help..."
   ]
  },
  {
   "cell_type": "markdown",
   "metadata": {},
   "source": [
    "# Feature Engineering"
   ]
  },
  {
   "cell_type": "markdown",
   "metadata": {},
   "source": [
    "## created"
   ]
  },
  {
   "cell_type": "markdown",
   "metadata": {},
   "source": [
    "For both model tesing the prediction, the **created** is converted to the unix time, so that becomes a real number suitable for various of models. "
   ]
  },
  {
   "cell_type": "code",
   "execution_count": 35,
   "metadata": {},
   "outputs": [
    {
     "name": "stdout",
     "output_type": "stream",
     "text": [
      "    input_data_pd[\"created\"] = input_data_pd[\"created\"].apply(lambda s: time.mktime(datetime.datetime.strptime(s, \"%Y-%m-%d %H:%M:%S\").timetuple()))\r\n",
      "    input_data_pd_train[\"created\"] = input_data_pd_train[\"created\"].apply(lambda s: time.mktime(datetime.datetime.strptime(s, \"%Y-%m-%d %H:%M:%S\").timetuple()))\r\n",
      "    input_data_pd_test[\"created\"] = input_data_pd_test[\"created\"].apply(lambda s: time.mktime(datetime.datetime.strptime(s, \"%Y-%m-%d %H:%M:%S\").timetuple()))\r\n"
     ]
    }
   ],
   "source": [
    "! cat projectModelRunner.py | grep \"mktime\""
   ]
  },
  {
   "cell_type": "markdown",
   "metadata": {},
   "source": [
    "## latitude and longitude"
   ]
  },
  {
   "cell_type": "code",
   "execution_count": 36,
   "metadata": {},
   "outputs": [
    {
     "name": "stdout",
     "output_type": "stream",
     "text": [
      "\r\n",
      "        assemblerForGMM = VectorAssembler(inputCols=[\"out_latitude\", \"out_longitude\"],\r\n",
      "                                          outputCol=\"gmmFeatures\")\r\n",
      "\r\n",
      "\r\n",
      "        gmm = GaussianMixture(featuresCol=\"gmmFeatures\",\r\n",
      "                              predictionCol=\"gmmPrediction\",\r\n",
      "                              k=7,\r\n",
      "                              probabilityCol=\"gmmAssignmentProbability\",\r\n",
      "                              tol=0.01,\r\n",
      "                              maxIter=100,\r\n",
      "                              seed=None)\r\n",
      "\r\n",
      "        gmmLabelOneHotEncoder = OneHotEncoder(inputCol=\"gmmPrediction\", outputCol=\"gmmPredictionVector\")\r\n",
      "\r\n"
     ]
    }
   ],
   "source": [
    "! head -49 Miscellaneous/ModelPipConfig.py | tail -15"
   ]
  },
  {
   "cell_type": "markdown",
   "metadata": {},
   "source": [
    "Because we assume that houses' 2D locations with different interest level are distributed in NYC by different Gaussian mixtures. Points are clustered and one hot encoded and then fitted into the model"
   ]
  },
  {
   "cell_type": "markdown",
   "metadata": {},
   "source": [
    "## Extreme Value Imputation"
   ]
  },
  {
   "cell_type": "markdown",
   "metadata": {},
   "source": [
    "I believe that observations with a modified z-score (based on the median absolute deviation) greater than 5.5 are extreme outliers and are entered mistakenly. I wrote the following code for cleaning those outliers. \n",
    "\n",
    "**Note from Georgia** Which columns are you using this on, and is it reasonable? I can understand why you would care about outliers for geographical region, but I guess you could easily set the boundaries within 39-40 degrees lat and 68-71 degrees long... Additionally, **I don't think it's a good idea to impute prices**. This is what people read when they see the listing, so if there is an obvious mistake, then they may either 1) be put off by how expensive it is, or 2) be put off because it's a scam. "
   ]
  },
  {
   "cell_type": "code",
   "execution_count": 37,
   "metadata": {
    "scrolled": true
   },
   "outputs": [
    {
     "name": "stdout",
     "output_type": "stream",
     "text": [
      "from pyspark.ml.util import JavaMLReadable, JavaMLWritable\r\n",
      "from pyspark.ml.wrapper import JavaEstimator, JavaModel, JavaParams, JavaTransformer, _jvm\r\n",
      "from pyspark.ml.common import inherit_doc\r\n",
      "from pyspark import since, keyword_only, SparkContext\r\n",
      "from pyspark.sql import DataFrame\r\n",
      "\r\n",
      "from pyspark.ml.param.shared import *\r\n",
      "from pyspark.ml import Pipeline, Transformer\r\n",
      "from typing import Iterable,List\r\n",
      "import numpy as np\r\n",
      "from pyspark.sql import Row\r\n",
      "from pyspark.sql.functions import udf\r\n",
      "from pyspark.sql.functions import when, lit, col\r\n",
      "from pyspark.sql.functions import monotonically_increasing_id\r\n",
      "from pyspark.sql.types import FloatType\r\n",
      "from Miscellaneous.Logger import Logger\r\n",
      "\r\n",
      "class OutlierSmoother(Transformer):\r\n",
      "    def __init__(self, thresh: float, inputCols: List[str]=None, outputCols: List[str]=None):\r\n",
      "        if len(inputCols) != len(outputCols):\r\n",
      "            raise ValueError(\"the length of input cols must be equal to the length of output cols\")\r\n",
      "        super(OutlierSmoother, self).__init__()\r\n",
      "        self.inputCols = inputCols\r\n",
      "        self.outputCols = outputCols\r\n",
      "        self.thresh = thresh\r\n",
      "\r\n",
      "    @staticmethod\r\n",
      "    def is_outlier(points, thresh=3.5):\r\n",
      "        \"\"\"\r\n",
      "        Returns a boolean array with True if points are outliers and False\r\n",
      "        otherwise.\r\n",
      "\r\n",
      "        Parameters:\r\n",
      "        -----------\r\n",
      "            points : An numobservations by numdimensions array of observations\r\n",
      "            thresh : The modified z-score to use as a threshold. Observations with\r\n",
      "                a modified z-score (based on the median absolute deviation) greater\r\n",
      "                than this value will be classified as outliers.\r\n",
      "\r\n",
      "        Returns:\r\n",
      "        --------\r\n",
      "            mask : A numobservations-length boolean array.\r\n",
      "\r\n",
      "        References:\r\n",
      "        ----------\r\n",
      "            Boris Iglewicz and David Hoaglin (1993), \"Volume 16: How to Detect and\r\n",
      "            Handle Outliers\", The ASQC Basic References in Quality Control:\r\n",
      "            Statistical Techniques, Edward F. Mykytka, Ph.D., Editor.\r\n",
      "        \"\"\"\r\n",
      "        if len(points.shape) == 1:\r\n",
      "            points = points[:, None]\r\n",
      "        median = np.median(points, axis=0)\r\n",
      "        diff = np.sum((points - median) ** 2, axis=-1)\r\n",
      "        diff = np.sqrt(diff)\r\n",
      "        med_abs_deviation = np.median(diff)\r\n",
      "\r\n",
      "        modified_z_score = 0.6745 * diff / med_abs_deviation\r\n",
      "\r\n",
      "        return modified_z_score > thresh\r\n",
      "\r\n",
      "    @staticmethod\r\n",
      "    def replaceToNull(column, value):\r\n",
      "        return when(column != value, column).otherwise(lit(None))\r\n",
      "\r\n",
      "    def _transform(self, df: DataFrame) -> DataFrame:\r\n",
      "        tmpColList = None\r\n",
      "        tmpColListNpArrFinal = None\r\n",
      "        sc = SparkContext.getOrCreate()\r\n",
      "        new_df = None\r\n",
      "        outlierSmotherRowIdColName = \"outlierSmotherRowId\"\r\n",
      "        if outlierSmotherRowIdColName not in df.schema.names:\r\n",
      "            df = df.withColumn(outlierSmotherRowIdColName, monotonically_increasing_id())\r\n",
      "        else:\r\n",
      "            outlierSmotherRowIdColName = \"outlierSmotherRowId4\" + \"_\".join(df.schema.names)\r\n",
      "\r\n",
      "        for j in range(len(self.inputCols)):\r\n",
      "            tmpColList = df.select([self.inputCols[j]]).rdd.map(lambda r: r[0]).collect()\r\n",
      "            tmpColListNpArr = np.array(tmpColList)\r\n",
      "            outliersQList = self.is_outlier(tmpColListNpArr, self.thresh)\r\n",
      "\r\n",
      "            Logger.logger.info(str(sum(outliersQList)) + \" outliers in column \\'\" + self.inputCols[j] + \"\\' has been smoothened\")\r\n",
      "\r\n",
      "            outlierIndices = np.where(outliersQList)[0]\r\n",
      "            notOutliersQList = np.array([not j for j in outliersQList])\r\n",
      "\r\n",
      "\r\n",
      "            tmpColListAvg = sum(tmpColListNpArr*notOutliersQList)/sum(notOutliersQList)\r\n",
      "\r\n",
      "            for outlierIndex in outlierIndices:\r\n",
      "                tmpColListNpArr[outlierIndex] = tmpColListAvg\r\n",
      "\r\n",
      "            tmpColListNpArrFinal = tmpColListNpArr.tolist()\r\n",
      "            tmpColListNpArrDict = dict()\r\n",
      "\r\n",
      "            for arrItem in range(len(tmpColListNpArrFinal)):\r\n",
      "                tmpColListNpArrDict[arrItem] = tmpColListNpArrFinal[arrItem]\r\n",
      "\r\n",
      "            def valueToCategory(value):\r\n",
      "                return tmpColListNpArrDict.get(value)\r\n",
      "\r\n",
      "            udfValueToCategory = udf(valueToCategory, FloatType())\r\n",
      "            df = df.withColumn(self.outputCols[j], udfValueToCategory(outlierSmotherRowIdColName))\r\n",
      "\r\n",
      "        df = df.drop(outlierSmotherRowIdColName)\r\n",
      "        return df\r\n",
      "\r\n"
     ]
    }
   ],
   "source": [
    "! cat FeaturesMakers/OutlierSmoother.py"
   ]
  },
  {
   "cell_type": "markdown",
   "metadata": {},
   "source": [
    "Basically, the above code will set each of the extreme outliers' values to the average of the remaining data. "
   ]
  },
  {
   "cell_type": "markdown",
   "metadata": {},
   "source": [
    "# Description Column -- Three methods of text analysis\n",
    "## A. Count Vector"
   ]
  },
  {
   "cell_type": "code",
   "execution_count": 19,
   "metadata": {},
   "outputs": [],
   "source": [
    "# Make pyspark df\n",
    "train_data_df = sqlCtx.createDataFrame(data_pd)"
   ]
  },
  {
   "cell_type": "code",
   "execution_count": 20,
   "metadata": {},
   "outputs": [],
   "source": [
    "# Change the response to integer values\n",
    "from pyspark.sql.types import IntegerType\n",
    "from pyspark.sql.functions import udf\n",
    "\n",
    "def modify_values(r):\n",
    "    if r == \"high\":\n",
    "        return 2\n",
    "    else:\n",
    "        if r == \"medium\":\n",
    "            return 1\n",
    "        else:\n",
    "            return 0\n",
    "ol_val = udf(modify_values, IntegerType())\n",
    "new_df = train_data_df.withColumn(\"interest_level\",ol_val(train_data_df.interest_level))"
   ]
  },
  {
   "cell_type": "markdown",
   "metadata": {},
   "source": [
    "Create a function that cleans the data and then vectorizes the words:"
   ]
  },
  {
   "cell_type": "code",
   "execution_count": 22,
   "metadata": {},
   "outputs": [],
   "source": [
    "from pyspark.sql.functions import isnan\n",
    "from pyspark.sql.functions import when, lit, col\n",
    "from pyspark.ml.feature import RegexTokenizer, StopWordsRemover, CountVectorizer\n",
    "from pyspark.ml.classification import LogisticRegression\n",
    "from pyspark.ml import Pipeline\n",
    "from pyspark.ml.linalg import DenseVector\n",
    "from pyspark.sql.functions import col\n",
    "from pyspark.sql.types import IntegerType\n",
    "\n",
    "# Make the replace function\n",
    "def replace(column, value):\n",
    "    return when(column != value, column).otherwise(lit(\"none\"))\n",
    "\n",
    "# Make the full function\n",
    "def add_description_columns(df):\n",
    "    # select only the description\n",
    "    #train_data_df2 = df.select(\"interest_level\",\"description\")\n",
    "    # clean blanks\n",
    "    train4 = df.withColumn(\"description\", replace(col(\"description\"), '        '))\n",
    "    train4 = train4.withColumn(\"description\", replace(col(\"description\"), \"\"))\n",
    "    train4 = train4.withColumn(\"description\", replace(col(\"description\"), \" \"))\n",
    "    train4 = train4.withColumn(\"description\", replace(col(\"description\"), \"           \"))\n",
    "    # regular expression tokenizer\n",
    "    regexTokenizer = RegexTokenizer(inputCol=\"description\", outputCol=\"words\", pattern=\"\\\\W\") # I don't know what W is...\n",
    "\n",
    "    # stop words\n",
    "    add_stopwords = [\"a\",\"the\",\"it\",\"of\",\"the\",\"is\",\"and\",\"A\",\"this\",\"in\",\"for\"]\n",
    "    stopwordsRemover = StopWordsRemover(inputCol=\"words\", outputCol=\"filtered\").setStopWords(add_stopwords)\n",
    "\n",
    "    # count vectors\n",
    "    countVectors = CountVectorizer(inputCol=\"filtered\", outputCol=\"word_features\", vocabSize=1000, minDF=5)\n",
    "    \n",
    "    pipeline = Pipeline(stages=[regexTokenizer, stopwordsRemover, countVectors])\n",
    "\n",
    "    # Fit the pipeline to training documents.\n",
    "    pipelineFit = pipeline.fit(train4)\n",
    "    dataset = pipelineFit.transform(train4)\n",
    "    dataset = dataset.withColumn(\"label\", dataset[\"interest_level\"].cast(IntegerType()))\n",
    "    \n",
    "    return dataset[\"word_features\"]"
   ]
  },
  {
   "cell_type": "markdown",
   "metadata": {},
   "source": [
    "# Extract 'Hot' Neighborhoods"
   ]
  },
  {
   "cell_type": "code",
   "execution_count": 64,
   "metadata": {},
   "outputs": [],
   "source": [
    "# These are all the neighborhoods listed on the renthop website that users can use to filter\n",
    "def hot_hoods(df):\n",
    "    train5 = df.withColumn('Lenox_Hill', F.expr(\"IF(INSTR(description, 'Lenox Hill') > 0, 1, 0)\"))\\\n",
    "    .withColumn('Roosevelt_Island', F.expr(\"IF(INSTR(description, 'Roosevelt Island') > 0, 1, 0)\"))\\\n",
    "    .withColumn('CP', F.expr(\"IF(INSTR(description, 'Central Park') >0,1,0)\"))\\\n",
    "    .withColumn('Turtle_Bay', F.expr(\"IF(INSTR(description, 'Turtle Bay') > 0, 1, 0)\"))\\\n",
    "    .withColumn('Upper_East', F.expr(\"IF(INSTR(description, 'Upper East')|INSTR(description, 'upper East') >0,1,0)\"))\\\n",
    "    .withColumn('Upper_West', F.expr(\"IF(INSTR(description, 'Upper West')|INSTR(description, 'upper East') >0,1,0)\"))\\\n",
    "    .withColumn('Brooklyn', F.expr(\"IF(INSTR(description, 'Brooklyn') >0,1,0)\"))\\\n",
    "    .withColumn('HK', F.expr(\"IF(INSTR(description, 'Hell') >0,1,0)\"))\\\n",
    "    .withColumn('Midtown', F.expr(\"IF(INSTR(description, 'Midtown') >0,1,0)\"))\\\n",
    "    .withColumn('CH', F.expr(\"IF(INSTR(description, 'Carnegie Hill') >0,1,0)\"))\\\n",
    "    .withColumn('GD', F.expr(\"IF(INSTR(description, 'Garment') >0,1,0)\"))\\\n",
    "    .withColumn('MHill', F.expr(\"IF(INSTR(description, 'Murray') >0,1,0)\"))\\\n",
    "    .withColumn('Yorkville', F.expr(\"IF(INSTR(description, 'Yorkville') >0,1,0)\"))\\\n",
    "    .withColumn('TD', F.expr(\"IF(INSTR(description, 'Theater District') >0,1,0)\"))\\\n",
    "    .withColumn('SP', F.expr(\"IF(INSTR(description, 'Sutton Place') >0,1,0)\"))\\\n",
    "    .withColumn('Manhattan', F.expr(\"IF(INSTR(description, 'Manhattan') >0,1,0)\"))\\\n",
    "    .withColumn('TC', F.expr(\"IF(INSTR(description, 'Tudor') >0,1,0)\"))\\\n",
    "    .withColumn('Koreatown', F.expr(\"IF(INSTR(description, 'Koreatown') >0,1,0)\"))\\\n",
    "    .withColumn('LS', F.expr(\"IF(INSTR(description, 'Little Senegal') >0,1,0)\"))\\\n",
    "    .withColumn('Lincoln_Sq', F.expr(\"IF(INSTR(description, 'Lincoln Square') >0,1,0)\"))\n",
    "    \n",
    "    return train5.select(train5.columns[15:])"
   ]
  },
  {
   "cell_type": "code",
   "execution_count": 56,
   "metadata": {},
   "outputs": [
    {
     "data": {
      "text/plain": [
       "DataFrame[Lenox_Hill: int, Roosevelt_Island: int, CP: int, Turtle_Bay: int, Upper_East: int, Upper_West: int, Brooklyn: int, water: int, Times: int, HK: int, Midtown: int, CH: int, GD: int, MHill: int, Yorkville: int, TD: int, SP: int, Manhattan: int, TC: int, Koreatown: int, LS: int, Lincoln_Sq: int]"
      ]
     },
     "execution_count": 56,
     "metadata": {},
     "output_type": "execute_result"
    }
   ],
   "source": [
    "hot_hoods(train_data_df)"
   ]
  },
  {
   "cell_type": "markdown",
   "metadata": {},
   "source": [
    "# Count Photos\n",
    "\n",
    "People love pictures, so it's probably likely that potential renters won't be too interested in listings with zero pictures. We'd hazard a guess that listings with three or fewer photos might have less interest, but that beyond 7-8 it probably doesn't make too much difference. This nonlinear relationship might warrant bucketizing, but for now, we will simply use photo counts as a predictor."
   ]
  },
  {
   "cell_type": "code",
   "execution_count": 62,
   "metadata": {},
   "outputs": [],
   "source": [
    "def photo_taker(df):\n",
    "    train_data_df_p = df.select(\"interest_level\", \"photos\")\n",
    "    photo_rdd = train_data_df_p.rdd\n",
    "    photo_rdd = photo_rdd.map(lambda x: (x[0], len(x[1])))\n",
    "    photo_df = sqlCtx.createDataFrame(photo_rdd, [\"label\", \"features\"])\n",
    "    return photo_df[\"features\"]"
   ]
  },
  {
   "cell_type": "code",
   "execution_count": null,
   "metadata": {},
   "outputs": [],
   "source": [
    "# Need to extract photo_df from above to run this part to make the histogram\n",
    "photo_pd = photo_df.toPandas()\n",
    "photo_pd.hist(\"features\",\"label\")"
   ]
  },
  {
   "cell_type": "markdown",
   "metadata": {},
   "source": [
    "# Symbols and text attributes\n",
    "\n",
    "While word analysis might be very helpful, there might be other elements that influence a person's interest in a listing aside from actual words. Use of '******' might be eye-catching, and too many exclamations might be viewed as unprofessional. Additionally, excessive all caps words might also be seen as more likely to be a scam."
   ]
  },
  {
   "cell_type": "code",
   "execution_count": null,
   "metadata": {},
   "outputs": [],
   "source": []
  },
  {
   "cell_type": "code",
   "execution_count": null,
   "metadata": {},
   "outputs": [],
   "source": []
  },
  {
   "cell_type": "code",
   "execution_count": null,
   "metadata": {},
   "outputs": [],
   "source": []
  },
  {
   "cell_type": "code",
   "execution_count": null,
   "metadata": {},
   "outputs": [],
   "source": []
  },
  {
   "cell_type": "markdown",
   "metadata": {},
   "source": [
    "# Model Selection, Parameter Tunning, and Cross Validation"
   ]
  },
  {
   "cell_type": "markdown",
   "metadata": {},
   "source": [
    "The model selected in this case is Random Forest. Because there are some \"cutting points\" in the plots, a tree model might help. More trees will increase the robustness of the prediction, and here we use 10 trees. "
   ]
  },
  {
   "cell_type": "markdown",
   "metadata": {},
   "source": [
    "Since we have clusterd the **latitude** and **longitude** with GMM, the number of clusters are unknown, so we need to tune that also. "
   ]
  },
  {
   "cell_type": "code",
   "execution_count": 38,
   "metadata": {},
   "outputs": [
    {
     "name": "stdout",
     "output_type": "stream",
     "text": [
      "        if self.method == \"RandomForest\":\r\n",
      "            Logger.logger.info(\"Using the RandomForest\")\r\n",
      "            rf = RandomForestClassifier(numTrees=10)\r\n",
      "            self.paramGrid = ParamGridBuilder().addGrid(gmm.k, [2, 10]).build()\r\n",
      "            self.estimator = rf\r\n"
     ]
    }
   ],
   "source": [
    "! head -73 Miscellaneous/ModelPipConfig.py | tail -5"
   ]
  },
  {
   "cell_type": "markdown",
   "metadata": {},
   "source": [
    "So we tune the number of clusters from 3 to 10"
   ]
  },
  {
   "cell_type": "markdown",
   "metadata": {},
   "source": [
    "The cross validation is used to tune the parameters. In this case, we are using the logloss which is defined as follows:\n",
    "\n",
    "$$\n",
    "log loss = -\\frac{1}{N}\\sum_{i=1}^N\\sum_{j=1}^My_{ij}\\log(p_{ij}),\n",
    "$$"
   ]
  },
  {
   "cell_type": "code",
   "execution_count": 39,
   "metadata": {},
   "outputs": [
    {
     "name": "stdout",
     "output_type": "stream",
     "text": [
      "from pyspark.ml.evaluation import Evaluator\r\n",
      "import numpy as np\r\n",
      "from Miscellaneous.Logger import Logger\r\n",
      "class MultiClassLogLossEvaluator(Evaluator):\r\n",
      "    def __init__(self, probabilityVectorCol=\"probability\", labelCol=\"label\"):\r\n",
      "        self.probabilityVectorCol = probabilityVectorCol\r\n",
      "        self.labelCol = labelCol\r\n",
      "\r\n",
      "    @staticmethod\r\n",
      "    def computeLogLoss(labels, probVecs):\r\n",
      "        if len(labels) != len(probVecs):\r\n",
      "            raise ValueError(\"the length of the labels must be equal to the length of the probVecs\")\r\n",
      "        if min(labels) < 0 or max(labels) > len(probVecs):\r\n",
      "            raise ValueError(\"Please ensure the labels are 0 based\")\r\n",
      "        N = len(labels)\r\n",
      "        M = len(probVecs[0])\r\n",
      "        result = 0.0\r\n",
      "        for i in range(N):\r\n",
      "            for j in range(M):\r\n",
      "                currVec = probVecs[i]\r\n",
      "                result = result + (int(labels[i]) == int(j))*np.log(currVec[j])\r\n",
      "        return -1*result/(N*1.0)\r\n",
      "\r\n",
      "    def evaluate(self, dataset):\r\n",
      "        normalize = lambda vec: vec / (vec).sum()\r\n",
      "        probVecs = [normalize(np.vectorize(lambda p: max(min(p, 1 - 10 ** (-7)), 10 ** (-7)))((row[self.probabilityVectorCol]).toArray())) for row in dataset.collect()]\r\n",
      "        labels = [int(row[self.labelCol]) for row in dataset.collect()]\r\n",
      "        result = MultiClassLogLossEvaluator.computeLogLoss(labels, probVecs)\r\n",
      "        Logger.logger.info(\"the logloss is: \" + str(result))\r\n",
      "        return result\r\n",
      "\r\n",
      "    def isLargerBetter(self):\r\n",
      "        return False\r\n"
     ]
    }
   ],
   "source": [
    "! cat ModelEvaluators/MultiClassLogLossEvaluator.py"
   ]
  },
  {
   "cell_type": "markdown",
   "metadata": {},
   "source": [
    "This metric is better when it is smaller. And the above evaluator is passed in the cross validator"
   ]
  },
  {
   "cell_type": "code",
   "execution_count": 40,
   "metadata": {},
   "outputs": [
    {
     "name": "stdout",
     "output_type": "stream",
     "text": [
      "        self.modelEvaluator = MultiClassLogLossEvaluator(probabilityVectorCol=\"probability\", labelCol=\"label\")\r\n"
     ]
    }
   ],
   "source": [
    "! head -58 Miscellaneous/ModelPipConfig.py | tail -1"
   ]
  },
  {
   "cell_type": "code",
   "execution_count": 41,
   "metadata": {},
   "outputs": [
    {
     "name": "stdout",
     "output_type": "stream",
     "text": [
      "    crossval = CrossValidator(estimator=Pipeline(stages=pipelineConfig.getStages()),\r\n",
      "                              estimatorParamMaps=pipelineConfig.getParamGrid(),\r\n",
      "                              evaluator=pipelineConfig.getModelEvaluator(),\r\n",
      "                              numFolds=5)\r\n",
      "\r\n"
     ]
    }
   ],
   "source": [
    "! head -133 projectModelRunner.py | tail -5"
   ]
  },
  {
   "cell_type": "code",
   "execution_count": 42,
   "metadata": {},
   "outputs": [
    {
     "name": "stdout",
     "output_type": "stream",
     "text": [
      "2019-02-28 13:03:02,725 INFO 61 outliers in column 'longitude' has been smoothened\r\n",
      "2019-02-28 13:03:03,729 INFO 210 outliers in column 'out_price' has been smoothened\r\n",
      "2019-02-28 13:03:08,105 INFO Test Error = 0.298738\r\n",
      "2019-02-28 13:03:10,345 INFO Log Loss = 0.74259\r\n",
      "2019-02-28 13:03:11,482 INFO Here is the confusion matrix with both row and column indices as: high, medium, low\r\n",
      "2019-02-28 13:03:11,482 INFO [[  77   11  687]\r\n",
      " [  45   12 2178]\r\n",
      " [  31    7 6857]]\r\n",
      "2019-02-28 13:03:11,496 INFO Printing the feature importances\r\n",
      "2019-02-28 13:03:11,497 INFO (5,[0,1,2,3,4],[0.055426949408782324,0.08326990122888284,0.012327367623213657,0.7837445809893646,0.06523120074975657])\r\n"
     ]
    }
   ],
   "source": [
    "! tail project.log"
   ]
  },
  {
   "cell_type": "markdown",
   "metadata": {},
   "source": [
    "Here is the confusion matrix based on the default threshold. The last line of this file gives a variable importance measure for each variable used in the random forest stage of the pipeline"
   ]
  },
  {
   "cell_type": "code",
   "execution_count": 43,
   "metadata": {},
   "outputs": [
    {
     "name": "stdout",
     "output_type": "stream",
     "text": [
      "\r\n",
      "        assembler = VectorAssembler(inputCols=[\"out_bathrooms\",\r\n",
      "                                               \"out_bedrooms\",\r\n",
      "                                               \"out_created\",\r\n",
      "                                               \"out_price2\",\r\n",
      "                                               \"gmmPredictionVector\"],\r\n",
      "                                    outputCol=\"features\")\r\n",
      "\r\n"
     ]
    }
   ],
   "source": [
    "! head -56 Miscellaneous/ModelPipConfig.py | tail -8"
   ]
  },
  {
   "cell_type": "markdown",
   "metadata": {},
   "source": [
    "Here is the order of the variables that we fitted into the random forest classifier. And as you can see, price is the most important variable follows by number of bathrooms and number of bedrooms. The optimal number of the GMM mixtures after the tunning is 2. Time created and GMM clusters are important, even more important than the number of bathrooms. "
   ]
  },
  {
   "cell_type": "markdown",
   "metadata": {},
   "source": [
    "# The business goal"
   ]
  },
  {
   "cell_type": "markdown",
   "metadata": {},
   "source": [
    "The business goal for this project is to predict the interest level of each listing of houses in NYC given their listing information. \n",
    "And we have generated estimated probabilities of each listing for different use cases. "
   ]
  },
  {
   "cell_type": "code",
   "execution_count": 44,
   "metadata": {},
   "outputs": [
    {
     "data": {
      "text/plain": [
       "array([[0.0581492 , 0.22273207, 0.71911873],\n",
       "       [0.04682822, 0.19841723, 0.75475455],\n",
       "       [0.09096233, 0.26590303, 0.64313464],\n",
       "       ...,\n",
       "       [0.03016406, 0.14294173, 0.82689421],\n",
       "       [0.03016406, 0.14294173, 0.82689421],\n",
       "       [0.0303191 , 0.14431689, 0.82536401]])"
      ]
     },
     "execution_count": 44,
     "metadata": {},
     "output_type": "execute_result"
    }
   ],
   "source": [
    "probabilities = list(map(eval,pd.read_csv(\"predictionOutput.csv\")[\"probability\"].tolist()))\n",
    "np.array(probabilities)"
   ]
  },
  {
   "cell_type": "code",
   "execution_count": 45,
   "metadata": {},
   "outputs": [],
   "source": [
    "labels = pd.read_csv(\"predictionOutput.csv\")[\"label\"].tolist()"
   ]
  },
  {
   "cell_type": "code",
   "execution_count": 46,
   "metadata": {},
   "outputs": [],
   "source": [
    "def getPredictionLabel(probabilities, weight):\n",
    "    #make sure the summation of thresh is 1\n",
    "    #ALSO make sure the indicies correspond with labels\n",
    "    output = []\n",
    "    for currProbVec in probabilities:\n",
    "        output.append(np.argmax( np.array(currProbVec)*np.array(weight) ))\n",
    "    return output"
   ]
  },
  {
   "cell_type": "code",
   "execution_count": 47,
   "metadata": {},
   "outputs": [],
   "source": [
    "from sklearn.metrics import confusion_matrix"
   ]
  },
  {
   "cell_type": "code",
   "execution_count": 48,
   "metadata": {},
   "outputs": [
    {
     "data": {
      "text/plain": [
       "array([[  77,   11,  687],\n",
       "       [  45,   12, 2178],\n",
       "       [  31,    7, 6857]])"
      ]
     },
     "execution_count": 48,
     "metadata": {},
     "output_type": "execute_result"
    }
   ],
   "source": [
    "confusion_matrix(labels,getPredictionLabel(probabilities, [1,1,1]))"
   ]
  },
  {
   "cell_type": "markdown",
   "metadata": {},
   "source": [
    "The above confusion matrix is generated by using the default threshold. \n",
    "We have obtained 77/(77+45+31) percition and 77/(77+11+687) recall. Which is quite good actually. "
   ]
  },
  {
   "cell_type": "markdown",
   "metadata": {},
   "source": [
    "To increase the recall, we can add more weight to the first label"
   ]
  },
  {
   "cell_type": "code",
   "execution_count": 49,
   "metadata": {},
   "outputs": [
    {
     "data": {
      "text/plain": [
       "array([[ 252,    0,  523],\n",
       "       [ 295,    0, 1940],\n",
       "       [ 346,    0, 6549]])"
      ]
     },
     "execution_count": 49,
     "metadata": {},
     "output_type": "execute_result"
    }
   ],
   "source": [
    "confusion_matrix(labels,getPredictionLabel(probabilities, [4,1,1]))"
   ]
  },
  {
   "cell_type": "markdown",
   "metadata": {},
   "source": [
    "Now the recall increased to about 50 percent, and precision is"
   ]
  },
  {
   "cell_type": "code",
   "execution_count": 52,
   "metadata": {},
   "outputs": [
    {
     "data": {
      "text/plain": [
       "0.2821948488241881"
      ]
     },
     "execution_count": 52,
     "metadata": {},
     "output_type": "execute_result"
    }
   ],
   "source": [
    "252/(252+295+346)"
   ]
  },
  {
   "cell_type": "markdown",
   "metadata": {},
   "source": [
    "Which is still not bad... And actually 28 percent precision is far above the threshold for generating leads for a shortening a sales cycle. "
   ]
  },
  {
   "cell_type": "markdown",
   "metadata": {},
   "source": [
    "If we want to increase the precision, we can do:"
   ]
  },
  {
   "cell_type": "code",
   "execution_count": 51,
   "metadata": {},
   "outputs": [
    {
     "data": {
      "text/plain": [
       "array([[  12,   59,  704],\n",
       "       [   5,   42, 2188],\n",
       "       [   2,   27, 6866]])"
      ]
     },
     "execution_count": 51,
     "metadata": {},
     "output_type": "execute_result"
    }
   ],
   "source": [
    "confusion_matrix(labels,getPredictionLabel(probabilities, [0.5,1,1]))"
   ]
  },
  {
   "cell_type": "markdown",
   "metadata": {},
   "source": [
    "## further improvements proposal"
   ]
  },
  {
   "cell_type": "markdown",
   "metadata": {},
   "source": [
    "1. We have fitted the time variable in the random forest as the unix time. In the random forest setting, that time will be cutted by the mean in between each two observations at each step chosen by the lowest Gini value. However, by this method the time variable is not important in this model. We may fit time as categories such as Months of a year, and that may improve the model performance. \n",
    "2. We have not mined the **description** which I think will be important. We may directly use the clustering of the texts and put the method in the pipeline just like the GMM. However, I think a better approach for the **description** would be to first use a model (such as LSTM) to fit a small portion of the data, save that result externally, one-hot encodes that result , and put that into the design matrix of our pipele. "
   ]
  }
 ],
 "metadata": {
  "kernelspec": {
   "display_name": "Python 3",
   "language": "python",
   "name": "python3"
  },
  "language_info": {
   "codemirror_mode": {
    "name": "ipython",
    "version": 3
   },
   "file_extension": ".py",
   "mimetype": "text/x-python",
   "name": "python",
   "nbconvert_exporter": "python",
   "pygments_lexer": "ipython3",
   "version": "3.6.8"
  }
 },
 "nbformat": 4,
 "nbformat_minor": 2
}
