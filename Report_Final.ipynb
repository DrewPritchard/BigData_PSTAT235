{
 "cells": [
  {
   "cell_type": "markdown",
   "metadata": {},
   "source": [
    "# Notebook for PSTAT 235 Project\n"
   ]
  },
  {
   "cell_type": "markdown",
   "metadata": {},
   "source": [
    "## Predicting Property Hype   \n",
    "## Authors: \n",
    "    - Jonas Lundgren\n",
    "    - Georgia Titcomb\n",
    "    - Drew Pritchard\n",
    "    - Xining Li"
   ]
  },
  {
   "cell_type": "markdown",
   "metadata": {},
   "source": [
    "Contents\n",
    "1. Data Cleaning\n",
    "        1.1 Check for errors in columns\n",
    "        1.2 Impute extreme values\n",
    "2. Exploratory Data Analysis\n",
    "        2.1 Bathrooms and bedrooms\n",
    "        2.2 Price\n",
    "        2.3 Latitude and Longitude\n",
    "        2.4 Time created\n",
    "        2.5 Features (amenities)\n",
    "        2.6 Manager\n",
    "        2.7 Description\n",
    "3. Feature Engineering\n",
    "        3.1 Features (amenities)\n",
    "        3.2 Manager ID\n",
    "        3.3 Time created\n",
    "        3.4 Latitude and Longitude\n",
    "        3.5 Description\n",
    "                3.5.1 Using Count Vectorizer\n",
    "                3.5.2 Using TF-IDF\n",
    "                3.5.3 Using Word2Vec\n",
    "4. Model creation and parameter tuning\n",
    "        4.1 Baseline model\n",
    "                4.1.1 Logistic\n",
    "                4.1.2 Random Forest\n",
    "                4.1.3 Decision Tree\n",
    "        4.2 Amenities\n",
    "                4.2.1 Logistic\n",
    "                4.2.2 Random Forest\n",
    "                4.2.3 Decision Tree\n",
    "        4.3 Description\n",
    "                4.3.1 Logistic\n",
    "                4.3.2 Random Forest\n",
    "                4.3.3 Decision Tree\n",
    "        4.4. Mega model\n",
    "                4.4.1 Logistic\n",
    "                4.4.2 Random Forest\n",
    "                4.4.3 Decision Tree\n",
    "5. Evaluation\n",
    "6. Additional exploratory work\n",
    "        6.1 Time\n",
    "        6.2 Neighborhoods\n",
    "        6.3 Symbols\n",
    "        6.4 Photos"
   ]
  },
  {
   "cell_type": "code",
   "execution_count": 1,
   "metadata": {},
   "outputs": [],
   "source": [
    "from pyspark.sql import SparkSession\n",
    "from pyspark import SparkContext\n",
    "from pyspark.sql import SQLContext\n",
    "from pyspark.ml.linalg import DenseVector\n",
    "import pyspark.sql.functions as F\n",
    "import seaborn as sns\n",
    "import matplotlib.pyplot as plt\n",
    "import pyspark.sql.types as typ\n",
    "from pyspark.ml.classification import LogisticRegression\n",
    "from pyspark.ml.evaluation import MulticlassClassificationEvaluator\n",
    "from pyspark.sql.functions import isnan, when, count, col\n",
    "from pyspark.ml.clustering import BisectingKMeans\n",
    "from pyspark.sql.functions import collect_set\n",
    "from pyspark.ml.feature import StringIndexer\n",
    "from pyspark.ml.feature import Bucketizer\n",
    "from FeaturesMakers.OutlierSmoother import OutlierSmoother #Xining's smoother\n",
    "\n",
    "\n",
    "\n",
    "import re\n",
    "import pandas as pd\n",
    "import numpy as np\n",
    "from pyspark.sql import SparkSession\n",
    "\n",
    "spark = SparkSession \\\n",
    "    .builder \\\n",
    "    .master(\"local[*]\") \\\n",
    "    .appName(\"Jonas_rentalPrice-Copy1\") \\\n",
    "    .config(\"spark.executor.memory\", '4g') \\\n",
    "    .config('spark.executor.cores', '1') \\\n",
    "    .config('spark.cores.max', '1') \\\n",
    "    .config(\"spark.driver.memory\",'1g') \\\n",
    "    .getOrCreate()\n",
    "\n",
    "sc = spark.sparkContext\n",
    "sqlCtx = SQLContext(sc)"
   ]
  },
  {
   "cell_type": "code",
   "execution_count": 2,
   "metadata": {},
   "outputs": [],
   "source": [
    "# import as pandas df\n",
    "data_pd = pd.read_json(\"data/train.json\")"
   ]
  },
  {
   "cell_type": "code",
   "execution_count": 3,
   "metadata": {},
   "outputs": [
    {
     "data": {
      "text/html": [
       "<div>\n",
       "<style scoped>\n",
       "    .dataframe tbody tr th:only-of-type {\n",
       "        vertical-align: middle;\n",
       "    }\n",
       "\n",
       "    .dataframe tbody tr th {\n",
       "        vertical-align: top;\n",
       "    }\n",
       "\n",
       "    .dataframe thead th {\n",
       "        text-align: right;\n",
       "    }\n",
       "</style>\n",
       "<table border=\"1\" class=\"dataframe\">\n",
       "  <thead>\n",
       "    <tr style=\"text-align: right;\">\n",
       "      <th></th>\n",
       "      <th>bathrooms</th>\n",
       "      <th>bedrooms</th>\n",
       "      <th>building_id</th>\n",
       "      <th>created</th>\n",
       "      <th>description</th>\n",
       "      <th>display_address</th>\n",
       "      <th>features</th>\n",
       "      <th>latitude</th>\n",
       "      <th>listing_id</th>\n",
       "      <th>longitude</th>\n",
       "      <th>manager_id</th>\n",
       "      <th>photos</th>\n",
       "      <th>price</th>\n",
       "      <th>street_address</th>\n",
       "      <th>interest_level</th>\n",
       "    </tr>\n",
       "  </thead>\n",
       "  <tbody>\n",
       "    <tr>\n",
       "      <th>10</th>\n",
       "      <td>1.5</td>\n",
       "      <td>3</td>\n",
       "      <td>53a5b119ba8f7b61d4e010512e0dfc85</td>\n",
       "      <td>2016-06-24 07:54:24</td>\n",
       "      <td>A Brand New 3 Bedroom 1.5 bath ApartmentEnjoy ...</td>\n",
       "      <td>Metropolitan Avenue</td>\n",
       "      <td>[]</td>\n",
       "      <td>40.7145</td>\n",
       "      <td>7211212</td>\n",
       "      <td>-73.9425</td>\n",
       "      <td>5ba989232d0489da1b5f2c45f6688adc</td>\n",
       "      <td>[https://photos.renthop.com/2/7211212_1ed4542e...</td>\n",
       "      <td>3000</td>\n",
       "      <td>792 Metropolitan Avenue</td>\n",
       "      <td>medium</td>\n",
       "    </tr>\n",
       "    <tr>\n",
       "      <th>10000</th>\n",
       "      <td>1.0</td>\n",
       "      <td>2</td>\n",
       "      <td>c5c8a357cba207596b04d1afd1e4f130</td>\n",
       "      <td>2016-06-12 12:19:27</td>\n",
       "      <td></td>\n",
       "      <td>Columbus Avenue</td>\n",
       "      <td>[Doorman, Elevator, Fitness Center, Cats Allow...</td>\n",
       "      <td>40.7947</td>\n",
       "      <td>7150865</td>\n",
       "      <td>-73.9667</td>\n",
       "      <td>7533621a882f71e25173b27e3139d83d</td>\n",
       "      <td>[https://photos.renthop.com/2/7150865_be3306c5...</td>\n",
       "      <td>5465</td>\n",
       "      <td>808 Columbus Avenue</td>\n",
       "      <td>low</td>\n",
       "    </tr>\n",
       "  </tbody>\n",
       "</table>\n",
       "</div>"
      ],
      "text/plain": [
       "       bathrooms  bedrooms                       building_id  \\\n",
       "10           1.5         3  53a5b119ba8f7b61d4e010512e0dfc85   \n",
       "10000        1.0         2  c5c8a357cba207596b04d1afd1e4f130   \n",
       "\n",
       "                   created                                        description  \\\n",
       "10     2016-06-24 07:54:24  A Brand New 3 Bedroom 1.5 bath ApartmentEnjoy ...   \n",
       "10000  2016-06-12 12:19:27                                                      \n",
       "\n",
       "           display_address                                           features  \\\n",
       "10     Metropolitan Avenue                                                 []   \n",
       "10000      Columbus Avenue  [Doorman, Elevator, Fitness Center, Cats Allow...   \n",
       "\n",
       "       latitude  listing_id  longitude                        manager_id  \\\n",
       "10      40.7145     7211212   -73.9425  5ba989232d0489da1b5f2c45f6688adc   \n",
       "10000   40.7947     7150865   -73.9667  7533621a882f71e25173b27e3139d83d   \n",
       "\n",
       "                                                  photos  price  \\\n",
       "10     [https://photos.renthop.com/2/7211212_1ed4542e...   3000   \n",
       "10000  [https://photos.renthop.com/2/7150865_be3306c5...   5465   \n",
       "\n",
       "                street_address interest_level  \n",
       "10     792 Metropolitan Avenue         medium  \n",
       "10000      808 Columbus Avenue            low  "
      ]
     },
     "execution_count": 3,
     "metadata": {},
     "output_type": "execute_result"
    }
   ],
   "source": [
    "# look at variables\n",
    "data_pd.head(2)"
   ]
  },
  {
   "cell_type": "markdown",
   "metadata": {},
   "source": [
    "# 1 Data Cleaning"
   ]
  },
  {
   "cell_type": "markdown",
   "metadata": {},
   "source": [
    "## 1.1 Check Columns for Errors\n"
   ]
  },
  {
   "cell_type": "code",
   "execution_count": 98,
   "metadata": {},
   "outputs": [
    {
     "data": {
      "text/html": [
       "<div>\n",
       "<style scoped>\n",
       "    .dataframe tbody tr th:only-of-type {\n",
       "        vertical-align: middle;\n",
       "    }\n",
       "\n",
       "    .dataframe tbody tr th {\n",
       "        vertical-align: top;\n",
       "    }\n",
       "\n",
       "    .dataframe thead th {\n",
       "        text-align: right;\n",
       "    }\n",
       "</style>\n",
       "<table border=\"1\" class=\"dataframe\">\n",
       "  <thead>\n",
       "    <tr style=\"text-align: right;\">\n",
       "      <th></th>\n",
       "      <th>bathrooms</th>\n",
       "      <th>bedrooms</th>\n",
       "      <th>latitude</th>\n",
       "      <th>listing_id</th>\n",
       "      <th>longitude</th>\n",
       "      <th>price</th>\n",
       "    </tr>\n",
       "  </thead>\n",
       "  <tbody>\n",
       "    <tr>\n",
       "      <th>count</th>\n",
       "      <td>49352.00000</td>\n",
       "      <td>49352.000000</td>\n",
       "      <td>49352.000000</td>\n",
       "      <td>4.935200e+04</td>\n",
       "      <td>49352.000000</td>\n",
       "      <td>4.935200e+04</td>\n",
       "    </tr>\n",
       "    <tr>\n",
       "      <th>mean</th>\n",
       "      <td>1.21218</td>\n",
       "      <td>1.541640</td>\n",
       "      <td>40.741545</td>\n",
       "      <td>7.024055e+06</td>\n",
       "      <td>-73.955716</td>\n",
       "      <td>3.830174e+03</td>\n",
       "    </tr>\n",
       "    <tr>\n",
       "      <th>std</th>\n",
       "      <td>0.50142</td>\n",
       "      <td>1.115018</td>\n",
       "      <td>0.638535</td>\n",
       "      <td>1.262746e+05</td>\n",
       "      <td>1.177912</td>\n",
       "      <td>2.206687e+04</td>\n",
       "    </tr>\n",
       "    <tr>\n",
       "      <th>min</th>\n",
       "      <td>0.00000</td>\n",
       "      <td>0.000000</td>\n",
       "      <td>0.000000</td>\n",
       "      <td>6.811957e+06</td>\n",
       "      <td>-118.271000</td>\n",
       "      <td>4.300000e+01</td>\n",
       "    </tr>\n",
       "    <tr>\n",
       "      <th>25%</th>\n",
       "      <td>1.00000</td>\n",
       "      <td>1.000000</td>\n",
       "      <td>40.728300</td>\n",
       "      <td>6.915888e+06</td>\n",
       "      <td>-73.991700</td>\n",
       "      <td>2.500000e+03</td>\n",
       "    </tr>\n",
       "    <tr>\n",
       "      <th>50%</th>\n",
       "      <td>1.00000</td>\n",
       "      <td>1.000000</td>\n",
       "      <td>40.751800</td>\n",
       "      <td>7.021070e+06</td>\n",
       "      <td>-73.977900</td>\n",
       "      <td>3.150000e+03</td>\n",
       "    </tr>\n",
       "    <tr>\n",
       "      <th>75%</th>\n",
       "      <td>1.00000</td>\n",
       "      <td>2.000000</td>\n",
       "      <td>40.774300</td>\n",
       "      <td>7.128733e+06</td>\n",
       "      <td>-73.954800</td>\n",
       "      <td>4.100000e+03</td>\n",
       "    </tr>\n",
       "    <tr>\n",
       "      <th>max</th>\n",
       "      <td>10.00000</td>\n",
       "      <td>8.000000</td>\n",
       "      <td>44.883500</td>\n",
       "      <td>7.753784e+06</td>\n",
       "      <td>0.000000</td>\n",
       "      <td>4.490000e+06</td>\n",
       "    </tr>\n",
       "  </tbody>\n",
       "</table>\n",
       "</div>"
      ],
      "text/plain": [
       "         bathrooms      bedrooms      latitude    listing_id     longitude  \\\n",
       "count  49352.00000  49352.000000  49352.000000  4.935200e+04  49352.000000   \n",
       "mean       1.21218      1.541640     40.741545  7.024055e+06    -73.955716   \n",
       "std        0.50142      1.115018      0.638535  1.262746e+05      1.177912   \n",
       "min        0.00000      0.000000      0.000000  6.811957e+06   -118.271000   \n",
       "25%        1.00000      1.000000     40.728300  6.915888e+06    -73.991700   \n",
       "50%        1.00000      1.000000     40.751800  7.021070e+06    -73.977900   \n",
       "75%        1.00000      2.000000     40.774300  7.128733e+06    -73.954800   \n",
       "max       10.00000      8.000000     44.883500  7.753784e+06      0.000000   \n",
       "\n",
       "              price  \n",
       "count  4.935200e+04  \n",
       "mean   3.830174e+03  \n",
       "std    2.206687e+04  \n",
       "min    4.300000e+01  \n",
       "25%    2.500000e+03  \n",
       "50%    3.150000e+03  \n",
       "75%    4.100000e+03  \n",
       "max    4.490000e+06  "
      ]
     },
     "execution_count": 98,
     "metadata": {},
     "output_type": "execute_result"
    }
   ],
   "source": [
    "## Summary statistics for numerical columns\n",
    "data_pd.describe()"
   ]
  },
  {
   "cell_type": "markdown",
   "metadata": {},
   "source": [
    "The average house has 1 bedroom and 1.5 bathrooms and is priced at about \\$3800. Additionally, looking at the min and max values for these columns, we can see that there are some rentals that have 0 bedrooms or 0 bathrooms! The minimum rental price is 43 dollars, and the maximum is 4.5 million. Additionally, we can see some outliers in the latitude and longitude values. There is at least one place listed as being on the equator, and another that has latitude close to that of Vermont. Furthermore, there is at least one place with longitude = 0 (the prime meridian that runs through the UK and West Africa), and one with a longitude of -118.27, which is approximately the longitude of Los Angeles! There's definitely some cleaning to do here!"
   ]
  },
  {
   "cell_type": "code",
   "execution_count": 99,
   "metadata": {},
   "outputs": [
    {
     "data": {
      "text/plain": [
       "{True}"
      ]
     },
     "execution_count": 99,
     "metadata": {},
     "output_type": "execute_result"
    }
   ],
   "source": [
    "# Does every listing have a date?\n",
    "import time\n",
    "import datetime\n",
    "set([0<time.mktime(datetime.datetime.strptime(s, \"%Y-%m-%d %H:%M:%S\").timetuple()) for s in data_pd[\"created\"]])"
   ]
  },
  {
   "cell_type": "markdown",
   "metadata": {},
   "source": [
    "And all houses in NYC have a posted date"
   ]
  },
  {
   "cell_type": "code",
   "execution_count": 100,
   "metadata": {},
   "outputs": [
    {
     "data": {
      "text/plain": [
       "{False, True}"
      ]
     },
     "execution_count": 100,
     "metadata": {},
     "output_type": "execute_result"
    }
   ],
   "source": [
    "# descriptions\n",
    "set([len(t.strip())>0 for t in data_pd[\"description\"].tolist()])"
   ]
  },
  {
   "cell_type": "code",
   "execution_count": 101,
   "metadata": {},
   "outputs": [
    {
     "data": {
      "text/plain": [
       "{False, True}"
      ]
     },
     "execution_count": 101,
     "metadata": {},
     "output_type": "execute_result"
    }
   ],
   "source": [
    "# addresses\n",
    "set([len(t.strip())>0 for t in data_pd[\"display_address\"].tolist()])"
   ]
  },
  {
   "cell_type": "code",
   "execution_count": 102,
   "metadata": {},
   "outputs": [
    {
     "data": {
      "text/plain": [
       "{False, True}"
      ]
     },
     "execution_count": 102,
     "metadata": {},
     "output_type": "execute_result"
    }
   ],
   "source": [
    "# features\n",
    "set([len(t)>0 for t in data_pd[\"features\"].tolist()])"
   ]
  },
  {
   "cell_type": "markdown",
   "metadata": {},
   "source": [
    "Some rentals have empty descriptions, addresses, or features"
   ]
  },
  {
   "cell_type": "code",
   "execution_count": 103,
   "metadata": {},
   "outputs": [
    {
     "data": {
      "text/plain": [
       "{False, True}"
      ]
     },
     "execution_count": 103,
     "metadata": {},
     "output_type": "execute_result"
    }
   ],
   "source": [
    "set([t>0 for t in data_pd[\"latitude\"].tolist()])"
   ]
  },
  {
   "cell_type": "markdown",
   "metadata": {},
   "source": [
    "We know NYC is about 40N, 74W, so rentals with latitude equal to 0 are likely to be errors. We will impute these values."
   ]
  },
  {
   "cell_type": "code",
   "execution_count": 104,
   "metadata": {},
   "outputs": [
    {
     "data": {
      "text/plain": [
       "{False, True}"
      ]
     },
     "execution_count": 104,
     "metadata": {},
     "output_type": "execute_result"
    }
   ],
   "source": [
    "set([t<0 for t in data_pd[\"longitude\"].tolist()])"
   ]
  },
  {
   "cell_type": "code",
   "execution_count": 105,
   "metadata": {},
   "outputs": [
    {
     "data": {
      "text/plain": [
       "{True}"
      ]
     },
     "execution_count": 105,
     "metadata": {},
     "output_type": "execute_result"
    }
   ],
   "source": [
    "set([t>0 for t in data_pd[\"price\"].tolist()])"
   ]
  },
  {
   "cell_type": "markdown",
   "metadata": {},
   "source": [
    "All houses are not free, which is good"
   ]
  },
  {
   "cell_type": "code",
   "execution_count": 106,
   "metadata": {},
   "outputs": [
    {
     "data": {
      "text/plain": [
       "{False, True}"
      ]
     },
     "execution_count": 106,
     "metadata": {},
     "output_type": "execute_result"
    }
   ],
   "source": [
    "set([len(t)>0 for t in data_pd[\"street_address\"].tolist()])"
   ]
  },
  {
   "cell_type": "markdown",
   "metadata": {},
   "source": [
    "There are some observations that do not have **street_address**"
   ]
  },
  {
   "cell_type": "code",
   "execution_count": 107,
   "metadata": {},
   "outputs": [
    {
     "data": {
      "text/plain": [
       "{True}"
      ]
     },
     "execution_count": 107,
     "metadata": {},
     "output_type": "execute_result"
    }
   ],
   "source": [
    "set([np.isreal(t) for t in data_pd[\"listing_id\"].tolist()])"
   ]
  },
  {
   "cell_type": "code",
   "execution_count": 108,
   "metadata": {},
   "outputs": [
    {
     "data": {
      "text/plain": [
       "True"
      ]
     },
     "execution_count": 108,
     "metadata": {},
     "output_type": "execute_result"
    }
   ],
   "source": [
    "len(list(set(data_pd[\"listing_id\"].tolist())))==len(data_pd[\"listing_id\"].tolist())"
   ]
  },
  {
   "cell_type": "markdown",
   "metadata": {},
   "source": [
    "Each **listing_id** is unique, which is expected"
   ]
  },
  {
   "cell_type": "code",
   "execution_count": 109,
   "metadata": {},
   "outputs": [
    {
     "data": {
      "text/plain": [
       "{'high', 'low', 'medium'}"
      ]
     },
     "execution_count": 109,
     "metadata": {},
     "output_type": "execute_result"
    }
   ],
   "source": [
    "set([t for t in data_pd[\"interest_level\"].tolist()])"
   ]
  },
  {
   "cell_type": "markdown",
   "metadata": {},
   "source": [
    "Each observation must have an **interest_level** in (high, low, medium)"
   ]
  },
  {
   "cell_type": "markdown",
   "metadata": {},
   "source": [
    "## 1.2 Impute Values for Extreme Long/Lat"
   ]
  },
  {
   "cell_type": "code",
   "execution_count": 3,
   "metadata": {},
   "outputs": [],
   "source": [
    "train_df = spark.createDataFrame(data_pd)\n",
    "\n",
    "cols = [c for c in train_df.columns if (c == 'bathrooms' or c == 'bedrooms' or c == 'latitude' or c == 'longitude' or c == 'price')]   # exclude id from features\n",
    "bounds = {} # will store lower and upper bounds for each feature\n",
    "\n",
    "#Get bounds for each column\n",
    "for col in cols:\n",
    "    quantiles = train_df.approxQuantile(col, [0.25, 0.75], 0.05)\n",
    "    IQR = quantiles[1] - quantiles[0]\n",
    "\n",
    "    bounds[col] = [\n",
    "     quantiles[0] - 1.5 * IQR,\n",
    "     quantiles[1] + 1.5 * IQR\n",
    "    ]\n",
    "\n",
    "#Label outliers\n",
    "outliers = train_df.select(*['building_id'] + [\n",
    " (\n",
    " (train_df[c] < bounds[c][0]) | (train_df[c] > bounds[c][1]))\n",
    "    .alias(c + '_outlier') for c in ['latitude', 'longitude']\n",
    "])\n",
    "\n",
    "#Create new columns of labels\n",
    "c = 'latitude'\n",
    "test = train_df.withColumn('latitude_outlier', ((train_df[c] < bounds[c][0]) | (train_df[c] > bounds[c][1])))\n",
    "\n",
    "\n",
    "c = 'longitude'\n",
    "test = test.withColumn('longitude_outlier', ((train_df[c] < bounds[c][0]) | (train_df[c] > bounds[c][1])))\n"
   ]
  },
  {
   "cell_type": "code",
   "execution_count": null,
   "metadata": {},
   "outputs": [],
   "source": [
    "from pyspark.sql.functions import stddev as _stddev, col\n",
    "from pyspark.sql.functions import abs\n",
    "\n",
    "#Get medians of each column\n",
    "med_lat = train_df.approxQuantile('latitude', [.5], .05)[0]\n",
    "med_long = train_df.approxQuantile('longitude', [.5], .05)[0]\n",
    "\n",
    "#If latitude_outlier[i] is True, then set to median, otherwise keep it\n",
    "#Do same for longitude\n",
    "test = test.withColumn('latitude', \\\n",
    "                          F.when(test.latitude_outlier == True, med_lat) \\\n",
    "                       .otherwise(test['latitude']))\n",
    "                       \n",
    "test = test.withColumn('longitude', \\\n",
    "               F.when(test.longitude_outlier == True, med_long) \\\n",
    "               .otherwise(test.longitude))\n",
    "\n",
    "train_df = test.drop('latitude_outlier', 'longitude_outlier')\n",
    "\n",
    "data_pd = train_df.toPandas()"
   ]
  },
  {
   "cell_type": "markdown",
   "metadata": {},
   "source": [
    "## 1.3 Empty Strings in Description"
   ]
  },
  {
   "cell_type": "code",
   "execution_count": null,
   "metadata": {},
   "outputs": [],
   "source": [
    "# How many blanks?\n",
    "data_pd[\"word_count\"] = data_pd['description'].str.split().str.len()\n",
    "data_sparkdf = spark.createDataFrame(data_pd)"
   ]
  },
  {
   "cell_type": "code",
   "execution_count": null,
   "metadata": {},
   "outputs": [],
   "source": [
    "49352 - data_pd[\"word_count\"].astype(bool).sum(axis=0)"
   ]
  },
  {
   "cell_type": "markdown",
   "metadata": {},
   "source": [
    "There are 3333 rentals with no words in their listings. However, each empty listing is not simply a \"nan\", '', or \" \"; several include multiple empty spaces. Therefore, we created a function to deal with these:"
   ]
  },
  {
   "cell_type": "code",
   "execution_count": null,
   "metadata": {},
   "outputs": [],
   "source": [
    "from pyspark.sql.functions import when, lit, col\n",
    "\n",
    "def replace(column1, column2, value):\n",
    "    return when(column1 != value, column2).otherwise(lit(\"none\"))\n",
    "\n",
    "data_sparkdf2 = data_sparkdf.withColumn(\"description\", replace(col(\"word_count\"),col(\"description\"), 0))"
   ]
  },
  {
   "cell_type": "code",
   "execution_count": null,
   "metadata": {},
   "outputs": [],
   "source": [
    "data_pd = data_sparkdf2.toPandas() # convert back to pandas df"
   ]
  },
  {
   "cell_type": "markdown",
   "metadata": {},
   "source": [
    "# 2 Exploratory Data Analysis"
   ]
  },
  {
   "cell_type": "markdown",
   "metadata": {},
   "source": [
    "We will use a pandas dataframe for plotting, since it offers much for functionality for visualizations than pyspark dfs."
   ]
  },
  {
   "cell_type": "code",
   "execution_count": null,
   "metadata": {},
   "outputs": [],
   "source": [
    "interest_level_count = dict()\n",
    "for j in [t for t in data_pd[\"interest_level\"].tolist()]:\n",
    "    interest_level_count[j] = interest_level_count.get(j,0) + 1\n",
    "interest_level_count"
   ]
  },
  {
   "cell_type": "markdown",
   "metadata": {},
   "source": [
    "We have counted the number of medium, low, and high. And as you can see, The data is a little bit imbalanced but not severe. "
   ]
  },
  {
   "cell_type": "markdown",
   "metadata": {},
   "source": [
    "## 2.1 bathrooms and bedrooms"
   ]
  },
  {
   "cell_type": "markdown",
   "metadata": {},
   "source": [
    "We start by plotting some hisograms to see if anything stands out."
   ]
  },
  {
   "cell_type": "code",
   "execution_count": null,
   "metadata": {},
   "outputs": [],
   "source": [
    "data_pd[\"bathrooms\"].hist()"
   ]
  },
  {
   "cell_type": "code",
   "execution_count": null,
   "metadata": {},
   "outputs": [],
   "source": [
    "data_pd[\"bedrooms\"].hist()"
   ]
  },
  {
   "cell_type": "markdown",
   "metadata": {},
   "source": [
    "Continue with plotting."
   ]
  },
  {
   "cell_type": "code",
   "execution_count": null,
   "metadata": {},
   "outputs": [],
   "source": [
    "from matplotlib import pyplot as plt\n",
    "plt.plot(data_pd[\"bedrooms\"], data_pd[\"bathrooms\"], 'o')"
   ]
  },
  {
   "cell_type": "markdown",
   "metadata": {},
   "source": [
    "From this plot, we can see there is a strange house that has 10 bathrooms but only 2 bedrooms, which warrants a closer look."
   ]
  },
  {
   "cell_type": "code",
   "execution_count": null,
   "metadata": {},
   "outputs": [],
   "source": [
    "data_pd[data_pd[\"bathrooms\"]==10][\"description\"].tolist()[0]"
   ]
  },
  {
   "cell_type": "markdown",
   "metadata": {},
   "source": [
    "We check the images assosiated with the rental unit."
   ]
  },
  {
   "cell_type": "code",
   "execution_count": null,
   "metadata": {},
   "outputs": [],
   "source": [
    "from PIL import Image\n",
    "import requests\n",
    "from io import BytesIO\n",
    "\n",
    "fig = plt.figure()\n",
    "img_urls = data_pd[data_pd[\"bathrooms\"]==10][\"photos\"].tolist()\n",
    "\n",
    "for i in range(0, len(img_urls[0])):\n",
    "    response = requests.get(img_urls[0][i])\n",
    "    img = Image.open(BytesIO(response.content))\n",
    "    ax = fig.add_subplot(3, 2, i+1)\n",
    "    ax.imshow(img)\n",
    "    \n",
    "plt.show()"
   ]
  },
  {
   "cell_type": "markdown",
   "metadata": {},
   "source": [
    "After checking thses images, we conclude that 10 bathrooms is an entry mistake. Continue to check the correlation between the two."
   ]
  },
  {
   "cell_type": "code",
   "execution_count": null,
   "metadata": {},
   "outputs": [],
   "source": [
    "from sklearn.linear_model import LinearRegression\n",
    "import scipy\n",
    "scipy.stats.pearsonr(data_pd[\"bathrooms\"], data_pd[\"bedrooms\"])"
   ]
  },
  {
   "cell_type": "markdown",
   "metadata": {},
   "source": [
    "The **bathrooms** and **bedrooms** are correlated, as expected."
   ]
  },
  {
   "cell_type": "markdown",
   "metadata": {},
   "source": [
    "Most NYC rentals have fewer than three bedrooms and no more than two bathrooms."
   ]
  },
  {
   "cell_type": "code",
   "execution_count": null,
   "metadata": {},
   "outputs": [],
   "source": [
    "import seaborn\n",
    "seaborn.catplot(x=\"interest_level\", y=\"bathrooms\", hue = \"bedrooms\",data = data_pd, order=[\"low\",\"medium\",\"high\"])"
   ]
  },
  {
   "cell_type": "code",
   "execution_count": null,
   "metadata": {},
   "outputs": [],
   "source": [
    "seaborn.catplot(x=\"interest_level\", y=\"bedrooms\", hue = \"bathrooms\",data = data_pd, order=[\"low\",\"medium\",\"high\"])"
   ]
  },
  {
   "cell_type": "markdown",
   "metadata": {},
   "source": [
    "We have observed that if there are more than 5 bathrooms or more than 4 bathrooms in a house, the **interest_level** associated with that house is rarely high."
   ]
  },
  {
   "cell_type": "markdown",
   "metadata": {},
   "source": [
    "## 2.2 price"
   ]
  },
  {
   "cell_type": "markdown",
   "metadata": {},
   "source": [
    "We now investigate the price of for the rental units."
   ]
  },
  {
   "cell_type": "code",
   "execution_count": null,
   "metadata": {},
   "outputs": [],
   "source": [
    "mypal = {\"low\": \"#6da39c\", \"medium\": \"#ff9a16\", \"high\":\"#77043e\"}"
   ]
  },
  {
   "cell_type": "markdown",
   "metadata": {},
   "source": [
    "We plot the `interest_level` vs the `price`."
   ]
  },
  {
   "cell_type": "code",
   "execution_count": null,
   "metadata": {},
   "outputs": [],
   "source": [
    "g = seaborn.catplot(x=\"interest_level\", y=\"price\",data = data_pd, order=[\"low\",\"medium\",\"high\"], palette=mypal).set(ylim=(0, 50000))"
   ]
  },
  {
   "cell_type": "markdown",
   "metadata": {},
   "source": [
    "And we can see the housing rental prices in NYC is very expensive. However, if a house's rental price is more than 10000, the interest level can rarely be high. "
   ]
  },
  {
   "cell_type": "markdown",
   "metadata": {},
   "source": [
    "## 2.3 latitude and longitude"
   ]
  },
  {
   "cell_type": "markdown",
   "metadata": {},
   "source": [
    "First let's plot the longitude and latitude of the units and color based on the interest level."
   ]
  },
  {
   "cell_type": "code",
   "execution_count": null,
   "metadata": {},
   "outputs": [],
   "source": [
    "plt.subplots(figsize = (8, 8))\n",
    "sns.scatterplot(x=\"longitude\",\n",
    "                y=\"latitude\",\n",
    "                hue = \"interest_level\",\n",
    "                data = data_pd)"
   ]
  },
  {
   "cell_type": "markdown",
   "metadata": {},
   "source": [
    "We can see an unnatural cross form in our data. This is from imputing either latitude or longitude depending on whether each was flagged as an outlier or not. Although it gives some innaccuracies in our plot, for modeling we wouldn't want all outliers to have the same lat/long coords in the center of our data.\n",
    "\n",
    "Apart from that, it's hard to see if there are any spatial groupings in the data based on interest level."
   ]
  },
  {
   "cell_type": "markdown",
   "metadata": {},
   "source": [
    "Let's split the data into three plots for each interest_level class."
   ]
  },
  {
   "cell_type": "code",
   "execution_count": null,
   "metadata": {},
   "outputs": [],
   "source": [
    "plt.subplots(figsize = (12, 12))\n",
    "sns.scatterplot(x = 'longitude',\n",
    "                y = 'latitude',\n",
    "                data = data_pd[data_pd.interest_level == 'low'],\n",
    "                color='blue',\n",
    "                alpha=0.1)\n",
    "plt.subplots(figsize = (12, 12))\n",
    "sns.scatterplot(x = 'longitude',\n",
    "                y = 'latitude',\n",
    "                data = data_pd[data_pd.interest_level == 'medium'],\n",
    "                color='orange',\n",
    "                alpha=0.1)\n",
    "plt.subplots(figsize = (12, 12))\n",
    "sns.scatterplot(x = 'longitude',\n",
    "                y = 'latitude',\n",
    "                data = data_pd[data_pd.interest_level == 'high'],\n",
    "                color='red',\n",
    "                alpha=0.1)"
   ]
  },
  {
   "cell_type": "markdown",
   "metadata": {},
   "source": [
    "When we split them up we get a visual representation of the class imbalance between the interest levels. However, it's still unclear if these classes are forming groups dinstinct from the others. \n",
    "\n",
    "We want to use a clustering algorithm on the coordinates to see if there is predictive power within that data. Therefore, a gaussian mixture model or k-means may help in this case. "
   ]
  },
  {
   "cell_type": "markdown",
   "metadata": {},
   "source": [
    "To plot the apartments we use the package `folium` which can make interactive plots and we can get more information of the rental units in the plot.\n",
    "\n",
    "Inspiration from blogpost: https://nbviewer.jupyter.org/github/vincentropy/python_cartography_tutorial/blob/master/part1_basic_folium_maps.ipynb"
   ]
  },
  {
   "cell_type": "markdown",
   "metadata": {},
   "source": [
    "Uncomment to install `folium`."
   ]
  },
  {
   "cell_type": "code",
   "execution_count": null,
   "metadata": {},
   "outputs": [],
   "source": [
    "!pip install --upgrade folium\n",
    "import folium"
   ]
  },
  {
   "cell_type": "markdown",
   "metadata": {},
   "source": [
    "We create a function that places each of the units on the map. The color of the apartment corresponds to the factor `interest_level` which has not been investigated thoroughly yet. The size of the circle is based on the price which can be displayed by *klicking* the circle, along with the `street_address`."
   ]
  },
  {
   "cell_type": "code",
   "execution_count": null,
   "metadata": {},
   "outputs": [],
   "source": [
    "def plot_rental_locatinos(rental_locatinos):\n",
    "        # generate a new map\n",
    "    folium_map = folium.Map(location=[40.738, -73.98],\n",
    "                            zoom_start=13,\n",
    "                            tiles=\"CartoDB dark_matter\",\n",
    "                            width='50%')\n",
    "\n",
    "            \n",
    "    for index, row in rental_locatinos.iterrows():\n",
    "        \n",
    "            popup_text = \"{}<br> Price: {}<br>\"\n",
    "            popup_text = popup_text.format(row[\"street_address\"], row[\"price\"])\n",
    "            \n",
    "            if row[\"interest_level\"] == 'high':\n",
    "                color=\"#77043e\" # high\n",
    "            if row[\"interest_level\"] == 'medium':\n",
    "                color=\"#ff9a16\" # medium \n",
    "            if row[\"interest_level\"] == 'low':\n",
    "                color=\"#6da39c\" # low\n",
    "                \n",
    "            radius = row[\"price\"]/1000\n",
    "        \n",
    "            folium.CircleMarker(location=(row[\"latitude\"],\n",
    "                                          row[\"longitude\"]),\n",
    "                                          radius=radius,\n",
    "                                          color=color,\n",
    "                                          popup=popup_text,\n",
    "                                          fill=True).add_to(folium_map)\n",
    "    return folium_map"
   ]
  },
  {
   "cell_type": "markdown",
   "metadata": {},
   "source": [
    "Since our data set is too big for all rental units to be displayed a subsample of 1000 units are changed into a pandas data frame which is then plotted using the above constructed function `plot_rental_locatinos`."
   ]
  },
  {
   "cell_type": "code",
   "execution_count": null,
   "metadata": {},
   "outputs": [],
   "source": [
    "sample_pd = data_pd.sample(n = 1000)"
   ]
  },
  {
   "cell_type": "markdown",
   "metadata": {},
   "source": [
    "The user constructed function `plot_rental_locatinos` is used on the `sample_df`. Try draging, scrolling and moving around and klick different rental units for some basic information."
   ]
  },
  {
   "cell_type": "code",
   "execution_count": null,
   "metadata": {},
   "outputs": [],
   "source": [
    "plot_rental_locatinos(sample_pd)"
   ]
  },
  {
   "cell_type": "markdown",
   "metadata": {},
   "source": [
    "## 2.4 Time Created"
   ]
  },
  {
   "cell_type": "markdown",
   "metadata": {},
   "source": [
    "We now investigate when listing was created."
   ]
  },
  {
   "cell_type": "code",
   "execution_count": null,
   "metadata": {},
   "outputs": [],
   "source": [
    "## * NOTE: I am getting an error here"
   ]
  },
  {
   "cell_type": "code",
   "execution_count": null,
   "metadata": {},
   "outputs": [],
   "source": [
    "createdUnixTime = list(map(lambda s:time.mktime(datetime.datetime.strptime(s, \n",
    "                                                         \"%Y-%m-%d %H:%M:%S\").timetuple()), \n",
    "         data_pd[\"created\"].tolist()))"
   ]
  },
  {
   "cell_type": "code",
   "execution_count": null,
   "metadata": {},
   "outputs": [],
   "source": [
    "import matplotlib.pyplot as plt\n",
    "\n",
    "# An \"interface\" to matplotlib.axes.Axes.hist() method\n",
    "n, bins, patches = plt.hist(x=createdUnixTime, \n",
    "                            bins=20, \n",
    "                            color='#0504aa',\n",
    "                            alpha=0.7, rwidth=2)\n",
    "plt.grid(axis='y', alpha=0.75)\n",
    "plt.xlabel('Value')\n",
    "plt.ylabel('Frequency')\n",
    "maxfreq = n.max()\n",
    "# Set a clean upper y-axis limit.\n",
    "plt.ylim(ymax=np.ceil(maxfreq / 10) * 10 if maxfreq % 10 else maxfreq + 10)"
   ]
  },
  {
   "cell_type": "code",
   "execution_count": null,
   "metadata": {},
   "outputs": [],
   "source": [
    "data_pd[\"createdUnixTime\"] = createdUnixTime"
   ]
  },
  {
   "cell_type": "code",
   "execution_count": null,
   "metadata": {},
   "outputs": [],
   "source": [
    "seaborn.catplot(x=\"interest_level\", y=\"createdUnixTime\",data = data_pd)"
   ]
  },
  {
   "cell_type": "markdown",
   "metadata": {},
   "source": [
    "As you can see the created time for **high** has some gaps that **medium** and **low** does not have, so we may be able to utilize that after some careful feature engineering. "
   ]
  },
  {
   "cell_type": "markdown",
   "metadata": {},
   "source": [
    "## 2.5 features"
   ]
  },
  {
   "cell_type": "markdown",
   "metadata": {},
   "source": [
    "The column called `features` (the naming has caused some confusion to say the least!) consists of different features assosiated with the rental unit. For example: _doorman, cats allowed, loft_."
   ]
  },
  {
   "cell_type": "markdown",
   "metadata": {},
   "source": [
    "We plot the number of features for the different units."
   ]
  },
  {
   "cell_type": "code",
   "execution_count": null,
   "metadata": {},
   "outputs": [],
   "source": [
    "import matplotlib.pyplot as plt\n",
    "\n",
    "# An \"interface\" to matplotlib.axes.Axes.hist() method\n",
    "n, bins, patches = plt.hist(x=[len(t) for t in data_pd[\"features\"].tolist()], \n",
    "                            bins=20, \n",
    "                            color='#0504aa',\n",
    "                            alpha=0.7, rwidth=2)\n",
    "plt.grid(axis='y', alpha=0.75)\n",
    "plt.xlabel('Number of features')\n",
    "plt.ylabel('Frequency')\n",
    "maxfreq = n.max()\n",
    "# Set a clean upper y-axis limit.\n",
    "plt.ylim(ymax=np.ceil(maxfreq / 10) * 10 if maxfreq % 10 else maxfreq + 10)"
   ]
  },
  {
   "cell_type": "markdown",
   "metadata": {},
   "source": [
    "And most rows in the **features** column have less than 10 items"
   ]
  },
  {
   "cell_type": "code",
   "execution_count": null,
   "metadata": {},
   "outputs": [],
   "source": [
    "data_pd[\"features_len\"] = list(map(len, data_pd[\"features\"].tolist()))"
   ]
  },
  {
   "cell_type": "markdown",
   "metadata": {},
   "source": [
    "Here are the numbers of features assosiated with the different interest levels."
   ]
  },
  {
   "cell_type": "code",
   "execution_count": null,
   "metadata": {},
   "outputs": [],
   "source": [
    "seaborn.catplot(x=\"interest_level\",\n",
    "                    y=\"features_len\",\n",
    "                    data = data_pd)"
   ]
  },
  {
   "cell_type": "markdown",
   "metadata": {},
   "source": [
    "And seems like the length of the **features** does not help..."
   ]
  },
  {
   "cell_type": "markdown",
   "metadata": {},
   "source": [
    "# 2.6 Description"
   ]
  },
  {
   "cell_type": "markdown",
   "metadata": {},
   "source": [
    "The column named 'description' contains a string with a narrative about the rental property. First we will simply look at the length of the descriptions and then we will generate word clouds to compare the relative importance of certain words in the description."
   ]
  },
  {
   "cell_type": "code",
   "execution_count": null,
   "metadata": {},
   "outputs": [],
   "source": [
    "data_pd.hist(\"word_count\",\"interest_level\", bins=50) "
   ]
  },
  {
   "cell_type": "markdown",
   "metadata": {},
   "source": [
    "For the most part, the distributions appear similar - most listings have word counts around 80-100 words, and this does not vary by interest level. However, one thing that does jump out immediately is that the proportion of listings with no description (word count=0) is much higher for low interest properties than for medium and high interest properties. "
   ]
  },
  {
   "cell_type": "markdown",
   "metadata": {},
   "source": [
    "To make word clouds, we first removed common words that didn't add much to our understanding of what was going on. After viewing these, we also added 'bedroom' and 'apartment' since these words also dominated the word clouds."
   ]
  },
  {
   "cell_type": "code",
   "execution_count": null,
   "metadata": {},
   "outputs": [],
   "source": [
    "add_stopwords = [\"a\",\"the\",\"it\",\"of\",\"the\",\"is\",\"and\",\"A\",\"this\",\"in\",\"for\", \"with\", \"bedroom\", \"apartment\"] "
   ]
  },
  {
   "cell_type": "code",
   "execution_count": null,
   "metadata": {},
   "outputs": [],
   "source": [
    "!pip install wordcloud # <----- uncomment to install\n",
    "from wordcloud import WordCloud\n",
    "\n",
    "low_data = data_pd[data_pd[\"interest_level\"]== \"low\"]\n",
    "low_data.head(2)\n",
    "\n",
    "lowwordcloud = WordCloud(\n",
    "                          background_color='white',\n",
    "                          stopwords=add_stopwords, # common in all descriptions\n",
    "                          max_words=200,\n",
    "                          #max_font_size=40, \n",
    "                          random_state=42\n",
    "                         ).generate(str(low_data['description']))\n",
    "\n",
    "plt.imshow(lowwordcloud)\n",
    "plt.axis('off')\n",
    "plt.show()\n",
    "med_data = data_pd[data_pd[\"interest_level\"]== \"medium\"]\n",
    "medwordcloud = WordCloud(\n",
    "                          background_color='lightgray',\n",
    "                          stopwords=add_stopwords,\n",
    "                          max_words=200,\n",
    "                          #max_font_size=40, \n",
    "                          random_state=42\n",
    "                         ).generate(str(med_data['description']))\n",
    "plt.imshow(medwordcloud)\n",
    "plt.axis('off')\n",
    "plt.show()\n",
    "high_data = data_pd[data_pd[\"interest_level\"]== \"high\"]\n",
    "highwordcloud = WordCloud(\n",
    "                          background_color='darkgray',\n",
    "                          stopwords=add_stopwords,\n",
    "                          max_words=200,\n",
    "                          #max_font_size=40, \n",
    "                          random_state=42\n",
    "                         ).generate(str(high_data['description']))\n",
    "plt.imshow(highwordcloud)\n",
    "plt.axis('off')\n",
    "plt.show()"
   ]
  },
  {
   "cell_type": "markdown",
   "metadata": {},
   "source": [
    "Above, word clouds are show from low to high interest levels. It looks like rentals that are described as one bedroom studios are generating the most interest. Additionally, we can see that upper east and west are showing up in the word clouds of medium and high interest properties, indicating that these neighborhoods might also be important. Additionally, 'no fee' shows up in medium and high interest word clouds, indicating that a bigram analysis might be helpful later on."
   ]
  },
  {
   "cell_type": "markdown",
   "metadata": {},
   "source": [
    "# 3 Feature Engineering"
   ]
  },
  {
   "cell_type": "markdown",
   "metadata": {},
   "source": [
    "The different columns in the data set that will be used for feature engineering are:\n",
    "- `features`\n",
    "- `manager_id`\n",
    "- `latitude and longitude`\n",
    "- `description`\n",
    "- `images`\n",
    "\n",
    "Here follows the course of action for each of these columns in code."
   ]
  },
  {
   "cell_type": "markdown",
   "metadata": {},
   "source": [
    "Since the exploratory data analysis was done using a panadas data frame we will now convert it into a pySpark data fram called `df`."
   ]
  },
  {
   "cell_type": "code",
   "execution_count": 4,
   "metadata": {},
   "outputs": [],
   "source": [
    "df = sqlCtx.createDataFrame(data_pd)"
   ]
  },
  {
   "cell_type": "markdown",
   "metadata": {},
   "source": [
    "Printing the schema. Seems to be ok for most part. The `created` should be changed from string to time object."
   ]
  },
  {
   "cell_type": "code",
   "execution_count": 5,
   "metadata": {},
   "outputs": [
    {
     "name": "stdout",
     "output_type": "stream",
     "text": [
      "root\n",
      " |-- bathrooms: double (nullable = true)\n",
      " |-- bedrooms: long (nullable = true)\n",
      " |-- building_id: string (nullable = true)\n",
      " |-- created: string (nullable = true)\n",
      " |-- description: string (nullable = true)\n",
      " |-- display_address: string (nullable = true)\n",
      " |-- features: array (nullable = true)\n",
      " |    |-- element: string (containsNull = true)\n",
      " |-- latitude: double (nullable = true)\n",
      " |-- listing_id: long (nullable = true)\n",
      " |-- longitude: double (nullable = true)\n",
      " |-- manager_id: string (nullable = true)\n",
      " |-- photos: array (nullable = true)\n",
      " |    |-- element: string (containsNull = true)\n",
      " |-- price: long (nullable = true)\n",
      " |-- street_address: string (nullable = true)\n",
      " |-- interest_level: string (nullable = true)\n",
      "\n"
     ]
    }
   ],
   "source": [
    "df.printSchema()"
   ]
  },
  {
   "cell_type": "code",
   "execution_count": 5,
   "metadata": {},
   "outputs": [
    {
     "data": {
      "text/plain": [
       "DataFrame[bathrooms: double, bedrooms: bigint, building_id: string, created: timestamp, description: string, display_address: string, features: array<string>, latitude: double, listing_id: bigint, longitude: double, manager_id: string, photos: array<string>, price: bigint, street_address: string, interest_level: string]"
      ]
     },
     "execution_count": 5,
     "metadata": {},
     "output_type": "execute_result"
    }
   ],
   "source": [
    "df = df.withColumn(\"created\", F.to_timestamp(\"created\"))\n",
    "df.cache()"
   ]
  },
  {
   "cell_type": "markdown",
   "metadata": {},
   "source": [
    "## 3.1 The column `features`"
   ]
  },
  {
   "cell_type": "markdown",
   "metadata": {},
   "source": [
    "The goal here is to divide the different individual features into different clusters. And make 1 new column per cluster in the data set and then fit a regression model on the clusters. How ever the implementation when running the model was a little different"
   ]
  },
  {
   "cell_type": "markdown",
   "metadata": {},
   "source": [
    "We have to handle the rentals with missing featurses by adding `missing feature` as a feature. Here are the 2 first listings with missing features."
   ]
  },
  {
   "cell_type": "code",
   "execution_count": 7,
   "metadata": {},
   "outputs": [
    {
     "name": "stdout",
     "output_type": "stream",
     "text": [
      "+----------+--------+\n",
      "|listing_id|features|\n",
      "+----------+--------+\n",
      "|   7211212|      []|\n",
      "|   6894514|      []|\n",
      "+----------+--------+\n",
      "only showing top 2 rows\n",
      "\n"
     ]
    }
   ],
   "source": [
    "df.filter(F.size(\"features\")==0)[[\"listing_id\", \"features\"]].show(2)"
   ]
  },
  {
   "cell_type": "markdown",
   "metadata": {},
   "source": [
    "But first since the column `features` is a list containing strings, we want to mearge the list of strings to one string. We do this by constructing a `UserDefinedFunction` named `string_assembler` which uses the `','.join()` to join strings in a list and separating them with a **,** . This is what we do: \\['dog', 'cat'\\] -> 'dog,cat'."
   ]
  },
  {
   "cell_type": "code",
   "execution_count": 6,
   "metadata": {},
   "outputs": [],
   "source": [
    "string_assembler = F.UserDefinedFunction(lambda x: ','.join(x), typ.StringType())"
   ]
  },
  {
   "cell_type": "markdown",
   "metadata": {},
   "source": [
    "The function `string_assembler` is used on the column `features`."
   ]
  },
  {
   "cell_type": "code",
   "execution_count": 7,
   "metadata": {},
   "outputs": [],
   "source": [
    "df = df.withColumn(\"features\", string_assembler(df[\"features\"]))"
   ]
  },
  {
   "cell_type": "markdown",
   "metadata": {},
   "source": [
    "All strings are set to lower case."
   ]
  },
  {
   "cell_type": "code",
   "execution_count": 8,
   "metadata": {},
   "outputs": [],
   "source": [
    "df = df.withColumn(\"features\", F.lower(df[\"features\"]))"
   ]
  },
  {
   "cell_type": "markdown",
   "metadata": {},
   "source": [
    "A display of what we have done. Note that the first row is missing any `features`. This is valuable information as well since a listing ad without information about the rental place could determin the popularity of the place.\n"
   ]
  },
  {
   "cell_type": "code",
   "execution_count": 11,
   "metadata": {},
   "outputs": [
    {
     "name": "stdout",
     "output_type": "stream",
     "text": [
      "+--------------------+\n",
      "|            features|\n",
      "+--------------------+\n",
      "|                    |\n",
      "|doorman,elevator,...|\n",
      "|laundry in buildi...|\n",
      "|hardwood floors,n...|\n",
      "|             pre-war|\n",
      "+--------------------+\n",
      "only showing top 5 rows\n",
      "\n"
     ]
    }
   ],
   "source": [
    "df[[\"features\"]].show(5)"
   ]
  },
  {
   "cell_type": "markdown",
   "metadata": {},
   "source": [
    "We impute all missing `features` with the string \"missing feature\" and show the results."
   ]
  },
  {
   "cell_type": "code",
   "execution_count": 9,
   "metadata": {},
   "outputs": [
    {
     "name": "stdout",
     "output_type": "stream",
     "text": [
      "+--------------------+\n",
      "|            features|\n",
      "+--------------------+\n",
      "|    missing features|\n",
      "|doorman,elevator,...|\n",
      "|laundry in buildi...|\n",
      "|hardwood floors,n...|\n",
      "|             pre-war|\n",
      "+--------------------+\n",
      "only showing top 5 rows\n",
      "\n"
     ]
    }
   ],
   "source": [
    "df = df.withColumn(\"features\", \n",
    "                    F.when(df[\"features\"] == '', 'missing features')\n",
    "                    .otherwise(df[\"features\"]))\n",
    "df[[\"features\"]].show(5)"
   ]
  },
  {
   "cell_type": "markdown",
   "metadata": {},
   "source": [
    "We want to split the `features` string on **\",\"** and on __\"*\"__ since some listings had all features in one long string with * separating the different features. "
   ]
  },
  {
   "cell_type": "code",
   "execution_count": 10,
   "metadata": {},
   "outputs": [
    {
     "name": "stdout",
     "output_type": "stream",
     "text": [
      "+--------------------+\n",
      "|       features_list|\n",
      "+--------------------+\n",
      "|  [missing features]|\n",
      "|[doorman, elevato...|\n",
      "|[laundry in build...|\n",
      "|[hardwood floors,...|\n",
      "|           [pre-war]|\n",
      "+--------------------+\n",
      "only showing top 5 rows\n",
      "\n"
     ]
    }
   ],
   "source": [
    "feat_df = df.withColumn(\"features_list\", F.split(df[\"features\"], ',| \\* '))\n",
    "feat_df[[\"features_list\"]].show(5)"
   ]
  },
  {
   "cell_type": "markdown",
   "metadata": {},
   "source": [
    "Now we want to create one feature be uniqe feature in the `features`. The first step is to 'explode' the features so that each single feature gets it's own row.\n",
    "\n",
    "![Explode%20column.jpg](attachment:Explode%20column.jpg)"
   ]
  },
  {
   "cell_type": "code",
   "execution_count": 11,
   "metadata": {},
   "outputs": [],
   "source": [
    "feat_df_ex = feat_df.withColumn(\"ex_features_list\", F.explode(feat_df[\"features_list\"]))"
   ]
  },
  {
   "cell_type": "markdown",
   "metadata": {},
   "source": [
    "We create a data frame called `clustering_df` which contains all different featurese."
   ]
  },
  {
   "cell_type": "code",
   "execution_count": 12,
   "metadata": {},
   "outputs": [
    {
     "name": "stdout",
     "output_type": "stream",
     "text": [
      "+----------------+\n",
      "|ex_features_list|\n",
      "+----------------+\n",
      "|missing features|\n",
      "|         doorman|\n",
      "|        elevator|\n",
      "|  fitness center|\n",
      "|    cats allowed|\n",
      "+----------------+\n",
      "only showing top 5 rows\n",
      "\n"
     ]
    }
   ],
   "source": [
    "clustering_df = feat_df_ex[[\"ex_features_list\"]]\n",
    "clustering_df.cache()\n",
    "clustering_df.show(5)"
   ]
  },
  {
   "cell_type": "markdown",
   "metadata": {},
   "source": [
    "Change the name of the column from \"ex_features_list\" to \"text\"."
   ]
  },
  {
   "cell_type": "code",
   "execution_count": 13,
   "metadata": {},
   "outputs": [
    {
     "data": {
      "text/plain": [
       "['text']"
      ]
     },
     "execution_count": 13,
     "metadata": {},
     "output_type": "execute_result"
    }
   ],
   "source": [
    "clustering_df = clustering_df.withColumnRenamed(\"ex_features_list\", \"text\")\n",
    "clustering_df.columns"
   ]
  },
  {
   "cell_type": "markdown",
   "metadata": {},
   "source": [
    "Here we create a new data frame `pipelined_df`. In the pipeline we use `Tokenizer`, to divide features with several words into as few meaningful components as possible, `StopWordsRemover` to remove unnecessary words, `HashingTF` to convert the strings into number, and finally, `IDF` (inverse document frequency) which is a measurement of the importance of a word in a document."
   ]
  },
  {
   "cell_type": "code",
   "execution_count": 14,
   "metadata": {},
   "outputs": [],
   "source": [
    "from pyspark.ml.feature import HashingTF, IDF, Tokenizer, CountVectorizer, StopWordsRemover\n",
    "from pyspark.ml.pipeline import Pipeline\n",
    "\n",
    "tokenizer = Tokenizer(inputCol=\"text\", outputCol=\"tokens\")\n",
    "remover = StopWordsRemover(inputCol=\"tokens\", outputCol=\"stopWordsRemovedTokens\")\n",
    "hashingTF = HashingTF(inputCol=\"stopWordsRemovedTokens\", outputCol=\"rawFeatures\", numFeatures=2000)\n",
    "idf = IDF(inputCol=\"rawFeatures\", outputCol=\"features\", minDocFreq=5)\n",
    "\n",
    "pipeline = Pipeline(stages=[tokenizer, remover, hashingTF, idf])\n",
    "pipelined_df = pipeline.fit(clustering_df).transform(clustering_df)"
   ]
  },
  {
   "cell_type": "markdown",
   "metadata": {},
   "source": [
    "The pipelined data frame can be seen here:"
   ]
  },
  {
   "cell_type": "code",
   "execution_count": 18,
   "metadata": {},
   "outputs": [
    {
     "name": "stdout",
     "output_type": "stream",
     "text": [
      "+----------------+-------------------+----------------------+--------------------+--------------------+\n",
      "|            text|             tokens|stopWordsRemovedTokens|         rawFeatures|            features|\n",
      "+----------------+-------------------+----------------------+--------------------+--------------------+\n",
      "|missing features|[missing, features]|   [missing, features]|(2000,[1525,1755]...|(2000,[1525,1755]...|\n",
      "|         doorman|          [doorman]|             [doorman]|  (2000,[825],[1.0])|(2000,[825],[2.55...|\n",
      "|        elevator|         [elevator]|            [elevator]|   (2000,[31],[1.0])|(2000,[31],[2.335...|\n",
      "|  fitness center|  [fitness, center]|     [fitness, center]|(2000,[1173,1966]...|(2000,[1173,1966]...|\n",
      "|    cats allowed|    [cats, allowed]|       [cats, allowed]|(2000,[1350,1966]...|(2000,[1350,1966]...|\n",
      "+----------------+-------------------+----------------------+--------------------+--------------------+\n",
      "only showing top 5 rows\n",
      "\n"
     ]
    }
   ],
   "source": [
    "pipelined_df.show(5)"
   ]
  },
  {
   "cell_type": "markdown",
   "metadata": {},
   "source": [
    "We are not ready to cluseter the data frame `pipelined_df` which by default uses K-means on the column `features`. `BisectingKMeans` is used for clustering. It was choosen since the normal K-means clustered allmost all observations in the same cluster while `BisectingKMeans` had the observations more eavenly spread out over different clusters."
   ]
  },
  {
   "cell_type": "markdown",
   "metadata": {},
   "source": [
    "To find the best number of clusters `k` the elbow method is used. __These lines of code takes time to run and could be skipped__, k = 18 using the Elbow method."
   ]
  },
  {
   "cell_type": "code",
   "execution_count": 19,
   "metadata": {},
   "outputs": [],
   "source": [
    "# Sum_of_squared_distances = []\n",
    "# K = [2,10,12,14,16,17,18,19,20,22,30,40]\n",
    "\n",
    "# for i in K:\n",
    "#     km = BisectingKMeans(k = i)\n",
    "#     model = km.fit(pipelined_df)\n",
    "#     Sum_of_squared_distances.append(model.computeCost(pipelined_df))\n",
    "#     print(i)\n",
    " \n",
    "# plt.plot(K, Sum_of_squared_distances, 'bx-')\n",
    "# plt.xlabel('k')\n",
    "# plt.ylabel('Sum_of_squared_distances')\n",
    "# plt.title('Elbow Method For Optimal k')\n",
    "# plt.show()"
   ]
  },
  {
   "cell_type": "markdown",
   "metadata": {},
   "source": [
    "From the plot and the elbow method for optimal `k` indikates k = 18."
   ]
  },
  {
   "cell_type": "code",
   "execution_count": 15,
   "metadata": {},
   "outputs": [],
   "source": [
    "num_k = 18"
   ]
  },
  {
   "cell_type": "markdown",
   "metadata": {},
   "source": [
    "We train the model using the `k` choosen by the elbow method."
   ]
  },
  {
   "cell_type": "code",
   "execution_count": 16,
   "metadata": {},
   "outputs": [],
   "source": [
    "km = BisectingKMeans(k = num_k)\n",
    "model = km.fit(pipelined_df)"
   ]
  },
  {
   "cell_type": "markdown",
   "metadata": {},
   "source": [
    "The results are printed."
   ]
  },
  {
   "cell_type": "code",
   "execution_count": 17,
   "metadata": {},
   "outputs": [
    {
     "name": "stdout",
     "output_type": "stream",
     "text": [
      "+----------------+-------------------+----------------------+--------------------+--------------------+----------+\n",
      "|            text|             tokens|stopWordsRemovedTokens|         rawFeatures|            features|prediction|\n",
      "+----------------+-------------------+----------------------+--------------------+--------------------+----------+\n",
      "|missing features|[missing, features]|   [missing, features]|(2000,[1525,1755]...|(2000,[1525,1755]...|        16|\n",
      "|         doorman|          [doorman]|             [doorman]|  (2000,[825],[1.0])|(2000,[825],[2.55...|         0|\n",
      "|        elevator|         [elevator]|            [elevator]|   (2000,[31],[1.0])|(2000,[31],[2.335...|         3|\n",
      "|  fitness center|  [fitness, center]|     [fitness, center]|(2000,[1173,1966]...|(2000,[1173,1966]...|         2|\n",
      "|    cats allowed|    [cats, allowed]|       [cats, allowed]|(2000,[1350,1966]...|(2000,[1350,1966]...|        13|\n",
      "+----------------+-------------------+----------------------+--------------------+--------------------+----------+\n",
      "only showing top 5 rows\n",
      "\n"
     ]
    }
   ],
   "source": [
    "results = model.transform(pipelined_df)\n",
    "results.cache()\n",
    "results.show(5)"
   ]
  },
  {
   "cell_type": "markdown",
   "metadata": {},
   "source": [
    "The column default output column `precidtion` is changed to `clusters`."
   ]
  },
  {
   "cell_type": "code",
   "execution_count": 18,
   "metadata": {},
   "outputs": [],
   "source": [
    "results = results.withColumnRenamed(\"prediction\", \"clusters\")"
   ]
  },
  {
   "cell_type": "code",
   "execution_count": 19,
   "metadata": {},
   "outputs": [
    {
     "name": "stdout",
     "output_type": "stream",
     "text": [
      "+--------------------+--------+\n",
      "|                text|clusters|\n",
      "+--------------------+--------+\n",
      "|    missing features|      16|\n",
      "|             doorman|       0|\n",
      "|            elevator|       3|\n",
      "|      fitness center|       2|\n",
      "|        cats allowed|      13|\n",
      "|        dogs allowed|      10|\n",
      "| laundry in building|      14|\n",
      "|          dishwasher|       0|\n",
      "|     hardwood floors|       5|\n",
      "|pets allowed case...|      13|\n",
      "+--------------------+--------+\n",
      "only showing top 10 rows\n",
      "\n"
     ]
    }
   ],
   "source": [
    "join_df = results.drop(*[\"tokens\", \"stopWordsRemovedTokens\", \"rawFeatures\", \"features\"])\n",
    "join_df.show(10)"
   ]
  },
  {
   "cell_type": "markdown",
   "metadata": {},
   "source": [
    "Some examples of cluseters are displayed bellow where we can see what features get clustered together."
   ]
  },
  {
   "cell_type": "code",
   "execution_count": 25,
   "metadata": {},
   "outputs": [
    {
     "name": "stdout",
     "output_type": "stream",
     "text": [
      "Doorman cluster:\n",
      "+--------------------+--------+\n",
      "|                text|clusters|\n",
      "+--------------------+--------+\n",
      "|• on-site lifesty...|       0|\n",
      "|dogs under 20 lbs...|       0|\n",
      "|  short term allowed|       0|\n",
      "|  pre-war small dogs|       0|\n",
      "|       small dogs ok|       0|\n",
      "+--------------------+--------+\n",
      "only showing top 5 rows\n",
      "\n",
      "Loft cluster:\n",
      "+--------+--------+\n",
      "|    text|clusters|\n",
      "+--------+--------+\n",
      "|elevator|       1|\n",
      "+--------+--------+\n",
      "\n",
      "Washer cluster:\n",
      "+--------------------+--------+\n",
      "|                text|clusters|\n",
      "+--------------------+--------+\n",
      "|        24hr doorman|      10|\n",
      "|24hr white-gloved...|      10|\n",
      "|   full-time doorman|      10|\n",
      "|   part-time doorman|      10|\n",
      "|        24/7 doorman|      10|\n",
      "+--------------------+--------+\n",
      "only showing top 5 rows\n",
      "\n"
     ]
    }
   ],
   "source": [
    "print(\"Doorman cluster:\")\n",
    "join_df.filter(join_df[\"clusters\"] == 0).distinct().show(5)\n",
    "print(\"Loft cluster:\")\n",
    "join_df.filter(join_df[\"clusters\"] == 1).distinct().show(5)\n",
    "print(\"Washer cluster:\")\n",
    "join_df.filter(join_df[\"clusters\"] == 10).distinct().show(5)"
   ]
  },
  {
   "cell_type": "markdown",
   "metadata": {},
   "source": [
    "Now we want to join the two data sets together and create a column to add on."
   ]
  },
  {
   "cell_type": "code",
   "execution_count": 20,
   "metadata": {},
   "outputs": [],
   "source": [
    "join_df = join_df.withColumn(\"join_col\", F.monotonically_increasing_id())\n",
    "feat_df_ex = feat_df_ex.withColumn(\"join_col\", F.monotonically_increasing_id())"
   ]
  },
  {
   "cell_type": "markdown",
   "metadata": {},
   "source": [
    "The 2 data frames are shown bellow."
   ]
  },
  {
   "cell_type": "code",
   "execution_count": 27,
   "metadata": {},
   "outputs": [
    {
     "name": "stdout",
     "output_type": "stream",
     "text": [
      "+----------------+--------+--------+\n",
      "|            text|clusters|join_col|\n",
      "+----------------+--------+--------+\n",
      "|missing features|       9|       0|\n",
      "|         doorman|      10|       1|\n",
      "|        elevator|       1|       2|\n",
      "+----------------+--------+--------+\n",
      "only showing top 3 rows\n",
      "\n",
      "+----------------+--------+\n",
      "|ex_features_list|join_col|\n",
      "+----------------+--------+\n",
      "|missing features|       0|\n",
      "|         doorman|       1|\n",
      "|        elevator|       2|\n",
      "+----------------+--------+\n",
      "only showing top 3 rows\n",
      "\n"
     ]
    }
   ],
   "source": [
    "join_df.show(3)\n",
    "feat_df_ex[[\"ex_features_list\", \"join_col\"]].show(3)"
   ]
  },
  {
   "cell_type": "markdown",
   "metadata": {},
   "source": [
    "We join the 2 data frames based on the created column, which after the join is droped. The columns are displayed below."
   ]
  },
  {
   "cell_type": "code",
   "execution_count": 21,
   "metadata": {},
   "outputs": [],
   "source": [
    "joined_df = feat_df_ex.join(join_df, feat_df_ex[\"join_col\"] == join_df[\"join_col\"], how = \"left\")\n",
    "joined_df = joined_df.drop(\"join_col\")"
   ]
  },
  {
   "cell_type": "markdown",
   "metadata": {},
   "source": [
    "The columns `text` and `prediction` are shown."
   ]
  },
  {
   "cell_type": "code",
   "execution_count": 22,
   "metadata": {},
   "outputs": [
    {
     "name": "stdout",
     "output_type": "stream",
     "text": [
      "+----------+---------------+--------+\n",
      "|listing_id|           text|clusters|\n",
      "+----------+---------------+--------+\n",
      "|   6867392|laundry in unit|      15|\n",
      "|   6867392|  outdoor space|       6|\n",
      "|   6848778|laundry in unit|      15|\n",
      "|   6862351|   cats allowed|      13|\n",
      "|   6898347|on-site laundry|      14|\n",
      "+----------+---------------+--------+\n",
      "only showing top 5 rows\n",
      "\n"
     ]
    }
   ],
   "source": [
    "joined_df[[\"listing_id\", \"text\", \"clusters\"]].show(5)"
   ]
  },
  {
   "cell_type": "markdown",
   "metadata": {},
   "source": [
    "We then use the function `collect_set` to assemble the clusters assosiated with each `listing_id`."
   ]
  },
  {
   "cell_type": "code",
   "execution_count": 23,
   "metadata": {},
   "outputs": [
    {
     "name": "stdout",
     "output_type": "stream",
     "text": [
      "+----------+--------------------+\n",
      "|listing_id|       clusters_list|\n",
      "+----------+--------------------+\n",
      "|   6813946|[0, 13, 5, 3, 10,...|\n",
      "|   6816559|[0, 5, 2, 17, 3, ...|\n",
      "|   6817923|        [12, 13, 10]|\n",
      "|   6819131|[0, 15, 5, 2, 17,...|\n",
      "|   6820763| [0, 5, 2, 3, 14, 8]|\n",
      "+----------+--------------------+\n",
      "only showing top 5 rows\n",
      "\n"
     ]
    }
   ],
   "source": [
    "collect_df = joined_df.groupBy('listing_id').agg(collect_set('clusters').alias('clusters_list'))\n",
    "collect_df.show(5)"
   ]
  },
  {
   "cell_type": "markdown",
   "metadata": {},
   "source": [
    "Finaly we add the new column to the data set."
   ]
  },
  {
   "cell_type": "code",
   "execution_count": 44,
   "metadata": {},
   "outputs": [
    {
     "data": {
      "text/plain": [
       "['listing_id',\n",
       " 'bathrooms',\n",
       " 'bedrooms',\n",
       " 'building_id',\n",
       " 'created',\n",
       " 'description',\n",
       " 'display_address',\n",
       " 'features',\n",
       " 'latitude',\n",
       " 'longitude',\n",
       " 'manager_id',\n",
       " 'photos',\n",
       " 'price',\n",
       " 'street_address',\n",
       " 'interest_level',\n",
       " 'clusters_list']"
      ]
     },
     "execution_count": 44,
     "metadata": {},
     "output_type": "execute_result"
    }
   ],
   "source": [
    "new_df = df.join(collect_df, on = \"listing_id\", how = \"left\")\n",
    "new_df.columns"
   ]
  },
  {
   "cell_type": "markdown",
   "metadata": {},
   "source": [
    "We conclude that the column `clusters_list` has been added to the data frame and store the final data frame as `amenities_df` for later use."
   ]
  },
  {
   "cell_type": "code",
   "execution_count": 45,
   "metadata": {},
   "outputs": [],
   "source": [
    "amenities_df = new_df # rename for compatibility"
   ]
  },
  {
   "cell_type": "code",
   "execution_count": 46,
   "metadata": {},
   "outputs": [
    {
     "name": "stdout",
     "output_type": "stream",
     "text": [
      "+----------+---------+--------+--------------------+-------------------+--------------------+---------------+--------------------+--------+---------+--------------------+--------------------+-----+---------------+--------------+--------------------+\n",
      "|listing_id|bathrooms|bedrooms|         building_id|            created|         description|display_address|            features|latitude|longitude|          manager_id|              photos|price| street_address|interest_level|       clusters_list|\n",
      "+----------+---------+--------+--------------------+-------------------+--------------------+---------------+--------------------+--------+---------+--------------------+--------------------+-----+---------------+--------------+--------------------+\n",
      "|   6813946|      1.0|       0|e84a788c193121f20...|2016-04-02 02:50:04|Renovated studio ...|    W 44 Street|roof deck,elevato...| 40.7609| -73.9941|624c1fbd75e5f99e6...|[https://photos.r...| 1995|461 W 44 Street|           low|[0, 13, 5, 3, 10,...|\n",
      "|   6816559|      1.0|       3|dd7b281c0dbafc8b5...|2016-04-02 06:02:48|Luxurious and spa...|       2nd Ave.|roof deck,doorman...| 40.7413| -73.9779|66ad3cc67d71f41d5...|[https://photos.r...| 3900|   520 2nd Ave.|           low|[0, 5, 2, 17, 3, ...|\n",
      "+----------+---------+--------+--------------------+-------------------+--------------------+---------------+--------------------+--------+---------+--------------------+--------------------+-----+---------------+--------------+--------------------+\n",
      "only showing top 2 rows\n",
      "\n"
     ]
    }
   ],
   "source": [
    "amenities_df.show(2)"
   ]
  },
  {
   "cell_type": "markdown",
   "metadata": {},
   "source": [
    "## 3.2 The column `manager_id`\n"
   ]
  },
  {
   "cell_type": "markdown",
   "metadata": {},
   "source": [
    "The managers are not equally skilled in making an add for the rental unit that would cause a high interest level. Therefore we can create a new feature that captures the skill of the manager. \n"
   ]
  },
  {
   "cell_type": "markdown",
   "metadata": {},
   "source": [
    "We create a new column `count` where the number of rentals for each manager is."
   ]
  },
  {
   "cell_type": "code",
   "execution_count": null,
   "metadata": {},
   "outputs": [],
   "source": [
    "manager_df = df\n",
    "join_df = manager_df[[\"manager_id\"]].groupBy(\"manager_id\").count()\n",
    "manager_df = manager_df.join(join_df, on = \"manager_id\")"
   ]
  },
  {
   "cell_type": "code",
   "execution_count": null,
   "metadata": {},
   "outputs": [],
   "source": [
    "df[[\"manager_id\"]].groupBy(\"manager_id\").count().sort(\"count\", ascending = False).show(4)"
   ]
  },
  {
   "cell_type": "markdown",
   "metadata": {},
   "source": [
    "The `interest_level` are changed into low = 0, medium = 1, high = 2. "
   ]
  },
  {
   "cell_type": "code",
   "execution_count": null,
   "metadata": {},
   "outputs": [],
   "source": [
    "manager_df = manager_df.withColumn(\"interest_level\", F.when(manager_df[\"interest_level\"] == 'low', 0)\n",
    "                                         .when(manager_df[\"interest_level\"] == 'medium', 1)\n",
    "                                         .otherwise(2))\n",
    "manager_df.cache()\n",
    "manager_df[[\"manager_id\", \"count\", \"interest_level\"]].show(4)"
   ]
  },
  {
   "cell_type": "markdown",
   "metadata": {},
   "source": [
    "We create a data frame `manager_skill` where for each maneger their skill `manager_skill` was calculated by summing up all of their rentals and give 2 points for interest level \"high\", 1 point for interest level \"medium\" and 0 points for interest level \"low\" and then taking the mean."
   ]
  },
  {
   "cell_type": "code",
   "execution_count": null,
   "metadata": {},
   "outputs": [],
   "source": [
    "manager_skill = manager_df.groupBy(\"manager_id\").agg({\"interest_level\": \"mean\"})\n",
    "manager_skill.show(5)"
   ]
  },
  {
   "cell_type": "markdown",
   "metadata": {},
   "source": [
    "The name of the column is changed from `avg(interest_level)` to `manager_skill`."
   ]
  },
  {
   "cell_type": "code",
   "execution_count": null,
   "metadata": {},
   "outputs": [],
   "source": [
    "manager_skill = manager_skill.withColumnRenamed(\"avg(interest_level)\", \"manager_skill\")"
   ]
  },
  {
   "cell_type": "markdown",
   "metadata": {},
   "source": [
    "We join the dataframes so there is a column `manager_skill` for the original data."
   ]
  },
  {
   "cell_type": "code",
   "execution_count": null,
   "metadata": {},
   "outputs": [],
   "source": [
    "manager_df = manager_df.join(manager_skill, on = \"manager_id\", how = \"left\")\n",
    "manager_df[[\"interest_level\", \"manager_id\", \"manager_skill\"]].show(3)"
   ]
  },
  {
   "cell_type": "markdown",
   "metadata": {},
   "source": [
    "Lastly we bucket the manager skills into different buckets.   \n",
    "__Note:__ Here the buckets get cast into 3 bucets choosen by a person. The ranges of the buckets should be choosen by K-means or Gaussian Mixture Models. The bucketing was a last minute change which improved the results over not using bucketing anyways. That is the reason the choosing of buckets was not implemented using K-means or Gaussian Mixture Models."
   ]
  },
  {
   "cell_type": "code",
   "execution_count": null,
   "metadata": {},
   "outputs": [],
   "source": [
    "splits = [0,0.66,1.33,float(\"Inf\")]\n",
    "buck = Bucketizer(splits = splits, inputCol = \"manager_skill\", outputCol = \"manager_bucket\")\n",
    "manager_skill_bucket = buck.transform(manager_skill)\n",
    "manager_skill_bucket.show(5)"
   ]
  },
  {
   "cell_type": "markdown",
   "metadata": {},
   "source": [
    "Lastly we add the new column `manager_bucket` and `manager_skill` to the original data frame."
   ]
  },
  {
   "cell_type": "code",
   "execution_count": null,
   "metadata": {},
   "outputs": [],
   "source": [
    "new_df = df.join(manager_skill_bucket, on = \"manager_id\")\n",
    "new_df.columns"
   ]
  },
  {
   "cell_type": "markdown",
   "metadata": {},
   "source": [
    "We see that the 2 columns have been added to the data frame. And save it as `df_amenities` for later use."
   ]
  },
  {
   "cell_type": "code",
   "execution_count": 57,
   "metadata": {},
   "outputs": [],
   "source": [
    "df_amenities = new_df"
   ]
  },
  {
   "cell_type": "markdown",
   "metadata": {},
   "source": [
    "## 3.3 Time created"
   ]
  },
  {
   "cell_type": "markdown",
   "metadata": {},
   "source": [
    "For both model tesing the prediction, the **created** is converted to the unix time, so that becomes a real number suitable for various of models. "
   ]
  },
  {
   "cell_type": "code",
   "execution_count": null,
   "metadata": {},
   "outputs": [],
   "source": [
    "! cat projectModelRunner.py | grep \"mktime\""
   ]
  },
  {
   "cell_type": "markdown",
   "metadata": {},
   "source": [
    "## 3.4 latitude and longitude"
   ]
  },
  {
   "cell_type": "code",
   "execution_count": null,
   "metadata": {},
   "outputs": [],
   "source": [
    "! head -49 Miscellaneous/ModelPipConfig.py | tail -15"
   ]
  },
  {
   "cell_type": "markdown",
   "metadata": {},
   "source": [
    "Because we assume that houses' 2D locations with different interest level are distributed in NYC by different Gaussian mixtures. Points are clustered and one hot encoded and then fitted into the model"
   ]
  },
  {
   "cell_type": "markdown",
   "metadata": {},
   "source": [
    "## Extreme Value Imputation"
   ]
  },
  {
   "cell_type": "markdown",
   "metadata": {},
   "source": [
    "I believe that observations with a modified z-score (based on the median absolute deviation) greater than 5.5 are extreme outliers and are entered mistakenly. I wrote the following code for cleaning those outliers. "
   ]
  },
  {
   "cell_type": "code",
   "execution_count": null,
   "metadata": {
    "scrolled": true
   },
   "outputs": [],
   "source": [
    "! cat FeaturesMakers/OutlierSmoother.py"
   ]
  },
  {
   "cell_type": "markdown",
   "metadata": {},
   "source": [
    "Basically, the above code will set each of the extreme outliers' values to the average of the remaining data. "
   ]
  },
  {
   "cell_type": "markdown",
   "metadata": {},
   "source": [
    "## 3.5 Description Column"
   ]
  },
  {
   "cell_type": "markdown",
   "metadata": {},
   "source": [
    "We conducted three different methods of text analysis and used the best one in our final model:\n",
    "1. Count Vector\n",
    "2. TF-IDF\n",
    "3. Word2Vec"
   ]
  },
  {
   "cell_type": "markdown",
   "metadata": {},
   "source": [
    "### 3.5.1 Count Vector"
   ]
  },
  {
   "cell_type": "markdown",
   "metadata": {},
   "source": [
    "We first use the simple count vector method."
   ]
  },
  {
   "cell_type": "code",
   "execution_count": 31,
   "metadata": {},
   "outputs": [],
   "source": [
    "# Make pyspark df using the updated dataframe\n",
    "train_data_df = sqlCtx.createDataFrame(data_pd)"
   ]
  },
  {
   "cell_type": "code",
   "execution_count": 32,
   "metadata": {},
   "outputs": [],
   "source": [
    "# Change the response to integer values\n",
    "from pyspark.sql.types import IntegerType\n",
    "from pyspark.sql.functions import udf\n",
    "\n",
    "def modify_values(r):\n",
    "    if r == \"high\":\n",
    "        return 2\n",
    "    else:\n",
    "        if r == \"medium\":\n",
    "            return 1\n",
    "        else:\n",
    "            return 0\n",
    "ol_val = udf(modify_values, IntegerType())\n",
    "new_df2 = train_data_df.withColumn(\"label\",ol_val(train_data_df.interest_level))"
   ]
  },
  {
   "cell_type": "markdown",
   "metadata": {},
   "source": [
    "Here we create a pipeline that tokenizes the words, removes stopwords, counts the words, and generates an logistic regression model."
   ]
  },
  {
   "cell_type": "code",
   "execution_count": 33,
   "metadata": {},
   "outputs": [],
   "source": [
    "from pyspark.ml.feature import RegexTokenizer, StopWordsRemover, CountVectorizer\n",
    "from pyspark.ml.classification import LogisticRegression\n",
    "from pyspark.ml import Pipeline\n",
    "from pyspark.ml.linalg import DenseVector\n",
    "from pyspark.sql.functions import col\n",
    "from pyspark.sql.types import IntegerType\n",
    "\n",
    "# regular expression tokenizer\n",
    "regexTokenizer = RegexTokenizer(inputCol=\"description\", outputCol=\"words\", pattern=\"\\\\W\") # I don't know what W is...\n",
    "# stop words\n",
    "add_stopwords = [\"a\",\"the\",\"it\",\"of\",\"the\",\"is\",\"and\",\"A\",\"this\",\"in\",\"for\"]\n",
    "stopwordsRemover = StopWordsRemover(inputCol=\"words\", outputCol=\"filtered\").setStopWords(add_stopwords)\n",
    "# count vectors\n",
    "countVectors = CountVectorizer(inputCol=\"filtered\", outputCol=\"features\", vocabSize=10000, minDF=5)\n",
    "# logistic regression\n",
    "mlr = LogisticRegression(maxIter=10, regParam=0.3, elasticNetParam=0, family = \"multinomial\")\n",
    "    \n",
    "pipeline = Pipeline(stages=[regexTokenizer, stopwordsRemover, countVectors, mlr])"
   ]
  },
  {
   "cell_type": "markdown",
   "metadata": {},
   "source": [
    "We now split the data into the training and testing sets; however, we will do this twice to ensure that we are not making model-builing decisions (i.e. selecting the best text-analysis model) from the testing set."
   ]
  },
  {
   "cell_type": "code",
   "execution_count": 35,
   "metadata": {},
   "outputs": [],
   "source": [
    "# First select only the description and output\n",
    "(train_set, test_set) = new_df2.select(\"description\",\"label\").randomSplit([0.8, 0.2], seed = 1337) # first split\n",
    "(train2, test2) = train_set.randomSplit([0.8, 0.2], seed = 1000) # second split on training data only"
   ]
  },
  {
   "cell_type": "code",
   "execution_count": null,
   "metadata": {},
   "outputs": [],
   "source": [
    "train2.show(5)"
   ]
  },
  {
   "cell_type": "markdown",
   "metadata": {},
   "source": [
    "We now make a simple cross-validation grid to determine the best model. Specifically, we will see if changing the regularization parameter and vocab size can improve predictions."
   ]
  },
  {
   "cell_type": "code",
   "execution_count": 37,
   "metadata": {},
   "outputs": [],
   "source": [
    "# This takes a couple of minutes to run\n",
    "from pyspark.ml.tuning import CrossValidator, ParamGridBuilder\n",
    "from pyspark.ml.evaluation import MulticlassClassificationEvaluator\n",
    "\n",
    "paramGrid = ParamGridBuilder() \\\n",
    "    .addGrid(countVectors.vocabSize, [1000, 5000, 10000]) \\\n",
    "    .addGrid(mlr.regParam, [0.1, 0.3]) \\\n",
    "    .build()\n",
    "\n",
    "crossval = CrossValidator(estimator=pipeline,\n",
    "                         estimatorParamMaps=paramGrid,\n",
    "                         evaluator=MulticlassClassificationEvaluator(),\n",
    "                         numFolds=5)\n",
    "\n",
    "cvModel = crossval.fit(train2)"
   ]
  },
  {
   "cell_type": "code",
   "execution_count": null,
   "metadata": {},
   "outputs": [],
   "source": [
    "prediction = cvModel.transform(test2)"
   ]
  },
  {
   "cell_type": "code",
   "execution_count": null,
   "metadata": {},
   "outputs": [],
   "source": [
    "evaluator = MulticlassClassificationEvaluator()\n",
    "print(\"testing set F1:\" + str(evaluator.evaluate(prediction)))"
   ]
  },
  {
   "cell_type": "code",
   "execution_count": null,
   "metadata": {},
   "outputs": [],
   "source": [
    "We created a function to calculate the log-loss:"
   ]
  },
  {
   "cell_type": "code",
   "execution_count": null,
   "metadata": {},
   "outputs": [],
   "source": [
    "from numpy import log\n",
    "\n",
    "def log_loss(prediction, labels = \"label\", probability = \"probability\"):    \n",
    "    labs_and_preds = prediction[labels, probability]\n",
    "    \n",
    "    return - labs_and_preds\\\n",
    "                .rdd\\\n",
    "                .map(lambda x: log(x[1][x[0]]))\\\n",
    "                .reduce(lambda x,y: x + y) / labs_and_preds.count()"
   ]
  },
  {
   "cell_type": "code",
   "execution_count": null,
   "metadata": {},
   "outputs": [],
   "source": [
    "log_loss(prediction)"
   ]
  },
  {
   "cell_type": "code",
   "execution_count": null,
   "metadata": {},
   "outputs": [],
   "source": [
    "We can also examine model details to see which parameters generated the best model:"
   ]
  },
  {
   "cell_type": "code",
   "execution_count": null,
   "metadata": {},
   "outputs": [],
   "source": [
    "# Details on the model:\n",
    "print (\"Best regularization parameter value:\" + str(cvModel.bestModel.stages[-1]._java_obj.parent().getRegParam()))\n",
    "print (\"Best number of words:\" + str(cvModel.bestModel.stages[2]._java_obj.parent().getVocabSize()))"
   ]
  },
  {
   "cell_type": "markdown",
   "metadata": {},
   "source": [
    "### 3.5.2 TF-IDF"
   ]
  },
  {
   "cell_type": "markdown",
   "metadata": {},
   "source": [
    "The next method we considered was the TF-IDF method, which accounts for word frequencies more delicately than the count vectorizer. First we make a new pipeline:"
   ]
  },
  {
   "cell_type": "code",
   "execution_count": null,
   "metadata": {},
   "outputs": [],
   "source": [
    "from pyspark.ml.feature import HashingTF, IDF, Tokenizer\n",
    "from pyspark.ml.feature import StringIndexer\n",
    "\n",
    "tokenizer = Tokenizer(inputCol=\"description\", outputCol=\"words\")\n",
    "hashtf = HashingTF(numFeatures=10000, inputCol=\"words\", outputCol='tf')\n",
    "idf = IDF(inputCol='tf', outputCol=\"features\", minDocFreq=5) #minDocFreq: remove sparse terms\n",
    "mlr = LogisticRegression(maxIter=10, regParam=0.3, elasticNetParam=0, family = \"multinomial\")\n",
    "\n",
    "pipeline = Pipeline(stages=[tokenizer, hashtf, idf, mlr])"
   ]
  },
  {
   "cell_type": "markdown",
   "metadata": {},
   "source": [
    "We also update the parameter grid to see if varying the number of features and minimum document frequency improves predictions."
   ]
  },
  {
   "cell_type": "code",
   "execution_count": null,
   "metadata": {},
   "outputs": [],
   "source": [
    "# This takes about 10-15 minutes to run\n",
    "paramGrid = ParamGridBuilder() \\\n",
    "    .addGrid(hashtf.numFeatures, [1000, 5000, 10000]) \\\n",
    "    .addGrid(idf.minDocFreq, [2, 5])\\\n",
    "    .addGrid(mlr.regParam, [0.1, 0.3]) \\\n",
    "    .build()\n",
    "\n",
    "crossval = CrossValidator(estimator=pipeline,\n",
    "                         estimatorParamMaps=paramGrid,\n",
    "                         evaluator=MulticlassClassificationEvaluator(),\n",
    "                         numFolds=5)\n",
    "\n",
    "cvModel2 = crossval.fit(train2)"
   ]
  },
  {
   "cell_type": "code",
   "execution_count": null,
   "metadata": {},
   "outputs": [],
   "source": [
    "prediction2 = cvModel2.transform(test2)"
   ]
  },
  {
   "cell_type": "code",
   "execution_count": null,
   "metadata": {},
   "outputs": [],
   "source": [
    "evaluator = MulticlassClassificationEvaluator()\n",
    "print(\"testing set F1:\" + str(evaluator.evaluate(prediction2)))"
   ]
  },
  {
   "cell_type": "code",
   "execution_count": null,
   "metadata": {},
   "outputs": [],
   "source": [
    "log_loss(prediction2)"
   ]
  },
  {
   "cell_type": "code",
   "execution_count": null,
   "metadata": {},
   "outputs": [],
   "source": [
    "#print(\"Best number of features:\" + str(cvModel2.bestModel.stages[1]._java_obj.parent().getNumFeatures()))\n",
    "print(\"Best min doc frequency:\" + str(cvModel2.bestModel.stages[2]._java_obj.parent().getMinDocFreq()))\n",
    "print(\"Best regularization:\" + str(cvModel2.bestModel.stages[-1]._java_obj.parent().getRegParam()))"
   ]
  },
  {
   "cell_type": "markdown",
   "metadata": {},
   "source": [
    "### 3.5.3 Word2Vec"
   ]
  },
  {
   "cell_type": "markdown",
   "metadata": {},
   "source": [
    "Finally, we consider the Word2Vec method, which accounts for a word's context in making predictions."
   ]
  },
  {
   "cell_type": "code",
   "execution_count": null,
   "metadata": {},
   "outputs": [],
   "source": [
    "from pyspark.ml.feature import Word2Vec\n",
    "\n",
    "word2Vec = Word2Vec(vectorSize=50, minCount=5, inputCol=\"filtered\", outputCol=\"features\")\n",
    "# It takes way too long if we use a vector that's much larger than this\n",
    "\n",
    "pipeline = Pipeline(stages=[regexTokenizer, stopwordsRemover, word2Vec, mlr])"
   ]
  },
  {
   "cell_type": "markdown",
   "metadata": {},
   "source": [
    "This method is computationally-expensive, so we are limited in the parameter space tested using cross-validation. Luckily, we know that the average description is about 80-100 words, so vectors do not need to be huge."
   ]
  },
  {
   "cell_type": "code",
   "execution_count": null,
   "metadata": {},
   "outputs": [],
   "source": [
    "# This takes several minutes to run\n",
    "from pyspark.ml.tuning import CrossValidator, ParamGridBuilder\n",
    "from pyspark.ml.evaluation import MulticlassClassificationEvaluator\n",
    "\n",
    "paramGrid = ParamGridBuilder() \\\n",
    "    .addGrid(word2Vec.vectorSize, [10,50]) \\\n",
    "    .addGrid(mlr.regParam, [0.1, 0.3]) \\\n",
    "    .build()\n",
    "\n",
    "crossval = CrossValidator(estimator=pipeline,\n",
    "                         estimatorParamMaps=paramGrid,\n",
    "                         evaluator=MulticlassClassificationEvaluator(),\n",
    "                         numFolds=5)\n",
    "\n",
    "cvModel3 = crossval.fit(train2)"
   ]
  },
  {
   "cell_type": "code",
   "execution_count": null,
   "metadata": {},
   "outputs": [],
   "source": [
    "prediction3 = cvModel3.transform(test2)"
   ]
  },
  {
   "cell_type": "code",
   "execution_count": null,
   "metadata": {},
   "outputs": [],
   "source": [
    "evaluator = MulticlassClassificationEvaluator()\n",
    "print(\"testing set F1:\" + str(evaluator.evaluate(prediction3)))"
   ]
  },
  {
   "cell_type": "code",
   "execution_count": null,
   "metadata": {},
   "outputs": [],
   "source": [
    "log_loss(prediction3)"
   ]
  },
  {
   "cell_type": "code",
   "execution_count": null,
   "metadata": {},
   "outputs": [],
   "source": [
    "print(\"Best vector size:\" + str(cvModel3.bestModel.stages[2]._java_obj.parent().getVectorSize()))\n",
    "print(\"Best regularization:\" + str(cvModel3.bestModel.stages[-1]._java_obj.parent().getRegParam()))"
   ]
  },
  {
   "cell_type": "markdown",
   "metadata": {},
   "source": [
    "# 4. Model Selection, Parameter Tunning, and Cross Validation"
   ]
  },
  {
   "cell_type": "markdown",
   "metadata": {},
   "source": [
    "We compared several different models from three different machine-learning families: Multinomial logistic regression, random forests, and decision trees.\n",
    "    For each of these model types, we compared 1) a simple baseline model with bedrooms, bathrooms, price, and location clustering 2) Amenities 3) Description and 4) All models together."
   ]
  },
  {
   "cell_type": "markdown",
   "metadata": {},
   "source": [
    "## 4.1 Baseline model"
   ]
  },
  {
   "cell_type": "markdown",
   "metadata": {},
   "source": [
    "### 4.1.1 Baseline logistic"
   ]
  },
  {
   "cell_type": "code",
   "execution_count": null,
   "metadata": {},
   "outputs": [],
   "source": [
    "! python3 projectModelRunner.py finalClassifier:LogisticRegression doTest:true"
   ]
  },
  {
   "cell_type": "markdown",
   "metadata": {},
   "source": [
    "### 4.1.2 Baseline random forest"
   ]
  },
  {
   "cell_type": "code",
   "execution_count": null,
   "metadata": {},
   "outputs": [],
   "source": [
    "! python3 projectModelRunner.py finalClassifier:RandomForest doTest:true"
   ]
  },
  {
   "cell_type": "markdown",
   "metadata": {},
   "source": [
    "### 4.1.3 Baseline decision tree"
   ]
  },
  {
   "cell_type": "code",
   "execution_count": null,
   "metadata": {},
   "outputs": [],
   "source": [
    "! python3 projectModelRunner.py finalClassifier:DecisionTree doTest:true"
   ]
  },
  {
   "cell_type": "markdown",
   "metadata": {},
   "source": [
    "The model selected in this case is Random Forest. Because there are some \"cutting points\" in the plots, a tree model might help. More trees will increase the robustness of the prediction, and here we use 10 trees. "
   ]
  },
  {
   "cell_type": "markdown",
   "metadata": {},
   "source": [
    "Since we have clusterd the **latitude** and **longitude** with GMM, the number of clusters are unknown, so we need to tune that also. "
   ]
  },
  {
   "cell_type": "code",
   "execution_count": null,
   "metadata": {},
   "outputs": [],
   "source": [
    "! head -73 Miscellaneous/ModelPipConfig.py | tail -5"
   ]
  },
  {
   "cell_type": "markdown",
   "metadata": {},
   "source": [
    "So we tune the number of clusters from 3 to 10"
   ]
  },
  {
   "cell_type": "markdown",
   "metadata": {},
   "source": [
    "The cross validation is used to tune the parameters. In this case, we are using the logloss which is defined as follows:\n",
    "\n",
    "$$\n",
    "log loss = -\\frac{1}{N}\\sum_{i=1}^N\\sum_{j=1}^My_{ij}\\log(p_{ij}),\n",
    "$$"
   ]
  },
  {
   "cell_type": "markdown",
   "metadata": {},
   "source": [
    "The log loss is a metric that gives an insidation of how correct your model is and how certain it is of beeing correct. Below is an implementation of calculation of the _logloss_ called `log_loss`. The function takes in the data frame that is created when we call the transform on a created model for the data set we want, i.e. model.transform(test)"
   ]
  },
  {
   "cell_type": "code",
   "execution_count": null,
   "metadata": {},
   "outputs": [],
   "source": [
    "from numpy import log\n",
    "\n",
    "def log_loss(results_transformed, lables = \"label\", probability = \"probability\"):    \n",
    "    labs_and_preds = results_transformed[lables, probability]\n",
    "    \n",
    "    return - labs_and_preds\\\n",
    "                .rdd\\\n",
    "                .map(lambda x: log(x[1][x[0]]))\\\n",
    "                .reduce(lambda x,y: x + y) / labs_and_preds.count()"
   ]
  },
  {
   "cell_type": "code",
   "execution_count": null,
   "metadata": {},
   "outputs": [],
   "source": [
    "! cat ModelEvaluators/MultiClassLogLossEvaluator.py"
   ]
  },
  {
   "cell_type": "markdown",
   "metadata": {},
   "source": [
    "This metric is better when it is smaller. And the above evaluator is passed in the cross validator"
   ]
  },
  {
   "cell_type": "code",
   "execution_count": null,
   "metadata": {},
   "outputs": [],
   "source": [
    "! head -58 Miscellaneous/ModelPipConfig.py | tail -1"
   ]
  },
  {
   "cell_type": "code",
   "execution_count": null,
   "metadata": {},
   "outputs": [],
   "source": [
    "! head -133 projectModelRunner.py | tail -5"
   ]
  },
  {
   "cell_type": "code",
   "execution_count": null,
   "metadata": {},
   "outputs": [],
   "source": [
    "! tail project.log"
   ]
  },
  {
   "cell_type": "markdown",
   "metadata": {},
   "source": [
    "Here is the confusion matrix based on the default threshold. The last line of this file gives a variable importance measure for each variable used in the random forest stage of the pipeline"
   ]
  },
  {
   "cell_type": "code",
   "execution_count": null,
   "metadata": {},
   "outputs": [],
   "source": [
    "! head -56 Miscellaneous/ModelPipConfig.py | tail -8"
   ]
  },
  {
   "cell_type": "markdown",
   "metadata": {},
   "source": [
    "Here is the order of the variables that we fitted into the random forest classifier. And as you can see, price is the most important variable follows by number of bathrooms and number of bedrooms. The optimal number of the GMM mixtures after the tunning is 2. Time created and GMM clusters are important, even more important than the number of bathrooms. "
   ]
  },
  {
   "cell_type": "markdown",
   "metadata": {},
   "source": [
    "# The business goal"
   ]
  },
  {
   "cell_type": "markdown",
   "metadata": {},
   "source": [
    "The business goal for this project is to predict the interest level of each listing of houses in NYC given their listing information. \n",
    "And we have generated estimated probabilities of each listing for different use cases. "
   ]
  },
  {
   "cell_type": "code",
   "execution_count": null,
   "metadata": {},
   "outputs": [],
   "source": [
    "probabilities = list(map(eval,pd.read_csv(\"predictionOutput.csv\")[\"probability\"].tolist()))\n",
    "np.array(probabilities)"
   ]
  },
  {
   "cell_type": "code",
   "execution_count": null,
   "metadata": {},
   "outputs": [],
   "source": [
    "labels = pd.read_csv(\"predictionOutput.csv\")[\"label\"].tolist()"
   ]
  },
  {
   "cell_type": "code",
   "execution_count": null,
   "metadata": {},
   "outputs": [],
   "source": [
    "def getPredictionLabel(probabilities, weight):\n",
    "    #make sure the summation of thresh is 1\n",
    "    #make sure the indicies correspond with labels\n",
    "    output = []\n",
    "    for currProbVec in probabilities:\n",
    "        output.append(np.argmax( np.array(currProbVec)*np.array(weight) ))\n",
    "    return output"
   ]
  },
  {
   "cell_type": "markdown",
   "metadata": {},
   "source": [
    "We want to plot a nice looking confusion matrix. This is done by the function `plot_confusion_matrix` implemented bellow. The function is taken from https://scikit-learn.org and the link to the function is here: https://scikit-learn.org/stable/auto_examples/model_selection/plot_confusion_matrix.html "
   ]
  },
  {
   "cell_type": "code",
   "execution_count": null,
   "metadata": {},
   "outputs": [],
   "source": [
    "from sklearn.metrics import confusion_matrix\n",
    "import numpy as np\n",
    "import itertools"
   ]
  },
  {
   "cell_type": "code",
   "execution_count": null,
   "metadata": {},
   "outputs": [],
   "source": [
    "def plot_confusion_matrix(cm, classes,\n",
    "                          normalize=False,\n",
    "                          title='Confusion matrix',\n",
    "                          cmap=plt.cm.Blues):\n",
    "    \"\"\"\n",
    "    This function prints and plots the confusion matrix.\n",
    "    Normalization can be applied by setting `normalize=True`.\n",
    "    \"\"\"\n",
    "    if normalize:\n",
    "        cm = cm.astype('float') / cm.sum(axis=1)[:, np.newaxis]\n",
    "        print(\"Normalized confusion matrix\")\n",
    "    else:\n",
    "        print('Confusion matrix, without normalization')\n",
    "\n",
    "    print(cm)\n",
    "\n",
    "    plt.imshow(cm, interpolation='nearest', cmap=cmap)\n",
    "    plt.title(title)\n",
    "    plt.colorbar()\n",
    "    tick_marks = np.arange(len(classes))\n",
    "    plt.xticks(tick_marks, classes, rotation=45)\n",
    "    plt.yticks(tick_marks, classes)\n",
    "\n",
    "    fmt = '.2f' if normalize else 'd'\n",
    "    thresh = cm.max() / 2.\n",
    "    for i, j in itertools.product(range(cm.shape[0]), range(cm.shape[1])):\n",
    "        plt.text(j, i, format(cm[i, j], fmt),\n",
    "                 horizontalalignment=\"center\",\n",
    "                 color=\"white\" if cm[i, j] > thresh else \"black\")\n",
    "\n",
    "    plt.ylabel('True label')\n",
    "    plt.xlabel('Predicted label')\n",
    "    plt.tight_layout()"
   ]
  },
  {
   "cell_type": "code",
   "execution_count": null,
   "metadata": {},
   "outputs": [],
   "source": [
    "class_names = [\"low\", \"medium\", \"high\"]"
   ]
  },
  {
   "cell_type": "code",
   "execution_count": null,
   "metadata": {},
   "outputs": [],
   "source": [
    "cm = confusion_matrix(labels,getPredictionLabel(probabilities, [1,1,1]))\n",
    "plot_confusion_matrix(cm, classes=class_names, normalize = False,\n",
    "                      title='Confusion matrix, without normalization')"
   ]
  },
  {
   "cell_type": "markdown",
   "metadata": {},
   "source": [
    "The above confusion matrix is generated by using the default threshold. \n",
    "We have obtained 77/(77+45+31) percition and 77/(77+11+687) recall. Which is quite good actually. "
   ]
  },
  {
   "cell_type": "markdown",
   "metadata": {},
   "source": [
    "To increase the recall, we can add more weight to the first label"
   ]
  },
  {
   "cell_type": "code",
   "execution_count": null,
   "metadata": {},
   "outputs": [],
   "source": [
    "cm = confusion_matrix(labels,getPredictionLabel(probabilities, [4,1,1]))\n",
    "plot_confusion_matrix(cm, classes=class_names, normalize = False,\n",
    "                      title='Confusion matrix, without normalization')"
   ]
  },
  {
   "cell_type": "markdown",
   "metadata": {},
   "source": [
    "Now the recall increased to about 50 percent, and precision is"
   ]
  },
  {
   "cell_type": "code",
   "execution_count": null,
   "metadata": {},
   "outputs": [],
   "source": [
    "252/(252+295+346)"
   ]
  },
  {
   "cell_type": "markdown",
   "metadata": {},
   "source": [
    "Which is still not bad... And actually 28 percent precision is far above the threshold for generating leads for a shortening a sales cycle. "
   ]
  },
  {
   "cell_type": "markdown",
   "metadata": {},
   "source": [
    "If we want to increase the precision, we can do:"
   ]
  },
  {
   "cell_type": "code",
   "execution_count": null,
   "metadata": {},
   "outputs": [],
   "source": [
    "cm = confusion_matrix(labels,getPredictionLabel(probabilities, [0.5,1,1]))\n",
    "plot_confusion_matrix(cm, classes=class_names, normalize = False,\n",
    "                      title='Confusion matrix, without normalization')"
   ]
  },
  {
   "cell_type": "markdown",
   "metadata": {},
   "source": [
    "## 4.2 Amenities only"
   ]
  },
  {
   "cell_type": "markdown",
   "metadata": {},
   "source": [
    "### 4.2.1 Amenities logistic"
   ]
  },
  {
   "cell_type": "markdown",
   "metadata": {},
   "source": [
    "We rejoined the amenity cluster assignments to the listing labels, creating a column for each cluster assignment. We then combined these assigments into a feature vector and reassigned integer values to the label, split into training and testing sets, and create a new pipeline for crossvalidation."
   ]
  },
  {
   "cell_type": "code",
   "execution_count": 71,
   "metadata": {},
   "outputs": [],
   "source": [
    "results = results.withColumnRenamed(\"prediction\", \"clusters\")"
   ]
  },
  {
   "cell_type": "code",
   "execution_count": 72,
   "metadata": {},
   "outputs": [
    {
     "name": "stdout",
     "output_type": "stream",
     "text": [
      "+----------------+-------------------+----------------------+--------------------+--------------------+--------+\n",
      "|            text|             tokens|stopWordsRemovedTokens|         rawFeatures|            features|clusters|\n",
      "+----------------+-------------------+----------------------+--------------------+--------------------+--------+\n",
      "|missing features|[missing, features]|   [missing, features]|(2000,[1525,1755]...|(2000,[1525,1755]...|      16|\n",
      "|         doorman|          [doorman]|             [doorman]|  (2000,[825],[1.0])|(2000,[825],[2.55...|       0|\n",
      "+----------------+-------------------+----------------------+--------------------+--------------------+--------+\n",
      "only showing top 2 rows\n",
      "\n"
     ]
    }
   ],
   "source": [
    "results.show(2)"
   ]
  },
  {
   "cell_type": "code",
   "execution_count": 73,
   "metadata": {},
   "outputs": [
    {
     "name": "stdout",
     "output_type": "stream",
     "text": [
      "+----------------+--------+\n",
      "|            text|clusters|\n",
      "+----------------+--------+\n",
      "|missing features|      16|\n",
      "|         doorman|       0|\n",
      "+----------------+--------+\n",
      "only showing top 2 rows\n",
      "\n"
     ]
    }
   ],
   "source": [
    "join_df = results.drop(*[\"tokens\", \"stopWordsRemovedTokens\", \"rawFeatures\", \"features\"])\n",
    "join_df.show(2)"
   ]
  },
  {
   "cell_type": "code",
   "execution_count": 74,
   "metadata": {},
   "outputs": [],
   "source": [
    "join_df = join_df.withColumn(\"join_col\", F.monotonically_increasing_id())\n",
    "feat_df_ex = feat_df_ex.withColumn(\"join_col\", F.monotonically_increasing_id())"
   ]
  },
  {
   "cell_type": "code",
   "execution_count": 75,
   "metadata": {},
   "outputs": [],
   "source": [
    "joined_df = feat_df_ex.join(join_df, feat_df_ex[\"join_col\"] == join_df[\"join_col\"], how = \"left\")\n",
    "joined_df = joined_df.drop(\"join_col\")"
   ]
  },
  {
   "cell_type": "code",
   "execution_count": 76,
   "metadata": {},
   "outputs": [],
   "source": [
    "joined_df = joined_df.withColumn(\"constant_val\", F.lit(1))"
   ]
  },
  {
   "cell_type": "code",
   "execution_count": 77,
   "metadata": {},
   "outputs": [
    {
     "data": {
      "text/plain": [
       "49352"
      ]
     },
     "execution_count": 77,
     "metadata": {},
     "output_type": "execute_result"
    }
   ],
   "source": [
    "df_piv = joined_df\\\n",
    "                   .groupBy(\"listing_id\")\\\n",
    "                   .pivot(\"clusters\")\\\n",
    "                   .agg(F.coalesce(F.first(\"constant_val\")))\n",
    "df_piv.cache()\n",
    "df_piv.count()"
   ]
  },
  {
   "cell_type": "code",
   "execution_count": 78,
   "metadata": {},
   "outputs": [
    {
     "name": "stdout",
     "output_type": "stream",
     "text": [
      "49352\n",
      "33\n"
     ]
    }
   ],
   "source": [
    "joined_df = train_data_df.join(df_piv, on = \"listing_id\", how = \"left\")\n",
    "joined_df.cache()\n",
    "print(joined_df.count())\n",
    "print(len(joined_df.columns))"
   ]
  },
  {
   "cell_type": "code",
   "execution_count": 79,
   "metadata": {},
   "outputs": [],
   "source": [
    "cluster_col = df_piv.columns\n",
    "cluster_col.remove(\"listing_id\")"
   ]
  },
  {
   "cell_type": "code",
   "execution_count": 80,
   "metadata": {},
   "outputs": [],
   "source": [
    "joined_df = joined_df.fillna(0, subset = cluster_col)"
   ]
  },
  {
   "cell_type": "code",
   "execution_count": 81,
   "metadata": {},
   "outputs": [],
   "source": [
    "cols_to_drop = train_data_df.columns\n",
    "cols_to_drop.remove(\"interest_level\")\n",
    "cluseters_df = joined_df.drop(*cols_to_drop)"
   ]
  },
  {
   "cell_type": "code",
   "execution_count": 82,
   "metadata": {},
   "outputs": [],
   "source": [
    "imput_data = cluseters_df.rdd.map(lambda x: (x[0], DenseVector(x[1:])))\n",
    "df_dense = sqlCtx.createDataFrame(imput_data, ['label','features'])"
   ]
  },
  {
   "cell_type": "code",
   "execution_count": 83,
   "metadata": {},
   "outputs": [
    {
     "name": "stdout",
     "output_type": "stream",
     "text": [
      "+------+--------------------+\n",
      "| label|            features|\n",
      "+------+--------------------+\n",
      "|medium|[0.0,0.0,0.0,0.0,...|\n",
      "|   low|[1.0,0.0,1.0,1.0,...|\n",
      "+------+--------------------+\n",
      "only showing top 2 rows\n",
      "\n"
     ]
    }
   ],
   "source": [
    "df_dense.show(2)"
   ]
  },
  {
   "cell_type": "code",
   "execution_count": 84,
   "metadata": {},
   "outputs": [
    {
     "data": {
      "text/plain": [
       "DataFrame[label: int, features: vector]"
      ]
     },
     "execution_count": 84,
     "metadata": {},
     "output_type": "execute_result"
    }
   ],
   "source": [
    "df_dense = df_dense.withColumn(\"label\", F.when(df_dense[\"label\"] == 'low', 0)\n",
    "                                         .when(df_dense[\"label\"] == 'medium', 1)\n",
    "                                         .otherwise(2))\n",
    "df_dense.cache()"
   ]
  },
  {
   "cell_type": "code",
   "execution_count": 85,
   "metadata": {},
   "outputs": [
    {
     "name": "stdout",
     "output_type": "stream",
     "text": [
      "+-----+--------------------+\n",
      "|label|            features|\n",
      "+-----+--------------------+\n",
      "|    1|[0.0,0.0,0.0,0.0,...|\n",
      "+-----+--------------------+\n",
      "only showing top 1 row\n",
      "\n"
     ]
    }
   ],
   "source": [
    "df_dense.show(1)"
   ]
  },
  {
   "cell_type": "code",
   "execution_count": 89,
   "metadata": {},
   "outputs": [],
   "source": [
    "# Split data\n",
    "(train, test) = df_dense.select(\"features\",\"label\").randomSplit(seed = 1337, weights = [0.8, 0.2])"
   ]
  },
  {
   "cell_type": "code",
   "execution_count": 87,
   "metadata": {},
   "outputs": [],
   "source": [
    "# new pipeline\n",
    "mlr = LogisticRegression(maxIter=10, regParam = 0.1, family=\"multinomial\")\n",
    "pipeline2 = Pipeline(stages=[mlr])"
   ]
  },
  {
   "cell_type": "code",
   "execution_count": 90,
   "metadata": {},
   "outputs": [],
   "source": [
    "from pyspark.ml.tuning import CrossValidator, ParamGridBuilder\n",
    "from pyspark.ml.evaluation import MulticlassClassificationEvaluator\n",
    "# Create a new parameter grid for model optimization\n",
    "paramGrid = ParamGridBuilder() \\\n",
    "    .addGrid(mlr.regParam, [0.01, 0.1, 0.3])\\\n",
    "    .build()\n",
    "\n",
    "crossval = CrossValidator(estimator=pipeline2,\n",
    "                         estimatorParamMaps=paramGrid,\n",
    "                         evaluator=MulticlassClassificationEvaluator(),\n",
    "                         numFolds=5)\n",
    "\n",
    "cvModel4 = crossval.fit(train)"
   ]
  },
  {
   "cell_type": "code",
   "execution_count": null,
   "metadata": {},
   "outputs": [],
   "source": [
    "prediction4 = cvModel4.transform(test)\n",
    "\n",
    "evaluator = MulticlassClassificationEvaluator()\n",
    "print(\"testing set F1:\" + str(evaluator.evaluate(prediction4)))"
   ]
  },
  {
   "cell_type": "code",
   "execution_count": null,
   "metadata": {},
   "outputs": [],
   "source": [
    "log_loss(prediction4)"
   ]
  },
  {
   "cell_type": "code",
   "execution_count": null,
   "metadata": {},
   "outputs": [],
   "source": [
    "cvModel4.bestModel.stages[-1]._java_obj.parent().getRegParam()"
   ]
  },
  {
   "cell_type": "markdown",
   "metadata": {},
   "source": [
    "### 4.2.2 Amenities random forest"
   ]
  },
  {
   "cell_type": "code",
   "execution_count": null,
   "metadata": {},
   "outputs": [],
   "source": [
    "from pyspark.ml.classification import RandomForestClassifier\n",
    "\n",
    "rf = RandomForestClassifier(maxDepth=5, numTrees=50)\n",
    "pipeline2 = Pipeline(stages=[rf])"
   ]
  },
  {
   "cell_type": "code",
   "execution_count": null,
   "metadata": {},
   "outputs": [],
   "source": [
    "paramGrid = ParamGridBuilder() \\\n",
    "    .addGrid(rf.maxDepth, [2, 5]) \\\n",
    "    .addGrid(rf.numTrees, [50, 100])\\\n",
    "    .build()\n",
    "\n",
    "crossval = CrossValidator(estimator=pipeline2,\n",
    "                         estimatorParamMaps=paramGrid,\n",
    "                         evaluator=MulticlassClassificationEvaluator(),\n",
    "                         numFolds=5)\n",
    "\n",
    "cvModel5 = crossval.fit(train)"
   ]
  },
  {
   "cell_type": "code",
   "execution_count": null,
   "metadata": {},
   "outputs": [],
   "source": [
    "prediction5 = cvModel5.transform(test)"
   ]
  },
  {
   "cell_type": "code",
   "execution_count": null,
   "metadata": {},
   "outputs": [],
   "source": [
    "evaluator = MulticlassClassificationEvaluator()\n",
    "print(\"testing set F1:\" + str(evaluator.evaluate(prediction6)))"
   ]
  },
  {
   "cell_type": "code",
   "execution_count": null,
   "metadata": {},
   "outputs": [],
   "source": [
    "log_loss(prediction5)"
   ]
  },
  {
   "cell_type": "code",
   "execution_count": null,
   "metadata": {},
   "outputs": [],
   "source": [
    "cvModel5.bestModel.stages[-1]._java_obj.parent().getMaxDepth()\n",
    "cvModel5.bestModel.stages[-1]._java_obj.parent().getNumTrees()"
   ]
  },
  {
   "cell_type": "markdown",
   "metadata": {},
   "source": [
    "### 4.2.3 Amenities decision tree"
   ]
  },
  {
   "cell_type": "code",
   "execution_count": null,
   "metadata": {},
   "outputs": [],
   "source": [
    "from pyspark.ml.classification import DecisionTreeClassifier\n",
    "dt = DecisionTreeClassifier(maxDepth=5)\n",
    "pipeline = Pipeline(stages=[dt])"
   ]
  },
  {
   "cell_type": "code",
   "execution_count": null,
   "metadata": {},
   "outputs": [],
   "source": [
    "from pyspark.ml.tuning import CrossValidator, ParamGridBuilder\n",
    "from pyspark.ml.evaluation import MulticlassClassificationEvaluator\n",
    "\n",
    "\n",
    "paramGrid = ParamGridBuilder() \\\n",
    "    .addGrid(rf.maxDepth, [2, 5]) \\\n",
    "    .build()\n",
    "\n",
    "crossval = CrossValidator(estimator=pipeline,\n",
    "                         estimatorParamMaps=paramGrid,\n",
    "                         evaluator=MulticlassClassificationEvaluator(),\n",
    "                         numFolds=5)\n",
    "\n",
    "cvModel6 = crossval.fit(train)"
   ]
  },
  {
   "cell_type": "code",
   "execution_count": null,
   "metadata": {},
   "outputs": [],
   "source": [
    "prediction6 = cvModel6.transform(test)"
   ]
  },
  {
   "cell_type": "code",
   "execution_count": null,
   "metadata": {},
   "outputs": [],
   "source": [
    "evaluator = MulticlassClassificationEvaluator()\n",
    "print(\"testing set F1:\" + str(evaluator.evaluate(prediction8)))"
   ]
  },
  {
   "cell_type": "code",
   "execution_count": null,
   "metadata": {},
   "outputs": [],
   "source": [
    "log_loss(prediction6)"
   ]
  },
  {
   "cell_type": "code",
   "execution_count": null,
   "metadata": {},
   "outputs": [],
   "source": [
    "cvModel6.bestModel.stages[-1]._java_obj.parent().getMaxDepth()"
   ]
  },
  {
   "cell_type": "markdown",
   "metadata": {},
   "source": [
    "## 4.3 Description"
   ]
  },
  {
   "cell_type": "markdown",
   "metadata": {},
   "source": [
    "### 4.3.1 Description Logistic\n",
    "We have already run this once to determine that the count-vector method is the best. Here we will refit the model using the full training set and evaluate on the testing set."
   ]
  },
  {
   "cell_type": "code",
   "execution_count": null,
   "metadata": {},
   "outputs": [],
   "source": [
    "from pyspark.ml.feature import RegexTokenizer, StopWordsRemover, CountVectorizer\n",
    "from pyspark.ml.classification import LogisticRegression\n",
    "from pyspark.ml import Pipeline\n",
    "from pyspark.ml.linalg import DenseVector\n",
    "from pyspark.sql.functions import col\n",
    "from pyspark.sql.types import IntegerType\n",
    "\n",
    "# regular expression tokenizer\n",
    "regexTokenizer = RegexTokenizer(inputCol=\"description\", outputCol=\"words\", pattern=\"\\\\W\") # I don't know what W is...\n",
    "# stop words\n",
    "add_stopwords = [\"a\",\"the\",\"it\",\"of\",\"the\",\"is\",\"and\",\"A\",\"this\",\"in\",\"for\"]\n",
    "stopwordsRemover = StopWordsRemover(inputCol=\"words\", outputCol=\"filtered\").setStopWords(add_stopwords)\n",
    "# count vectors\n",
    "countVectors = CountVectorizer(inputCol=\"filtered\", outputCol=\"features\", vocabSize=10000, minDF=5)\n",
    "# logistic regression\n",
    "mlr = LogisticRegression(maxIter=10, regParam=0.3, elasticNetParam=0, family = \"multinomial\")\n",
    "    \n",
    "pipeline = Pipeline(stages=[regexTokenizer, stopwordsRemover, countVectors,mlr])"
   ]
  },
  {
   "cell_type": "markdown",
   "metadata": {},
   "source": [
    "We now use the full training set to train the model using the best parameters from cross-validation"
   ]
  },
  {
   "cell_type": "code",
   "execution_count": null,
   "metadata": {},
   "outputs": [],
   "source": [
    "# This takes a couple of minutes to run\n",
    "from pyspark.ml.tuning import CrossValidator, ParamGridBuilder\n",
    "from pyspark.ml.evaluation import MulticlassClassificationEvaluator\n",
    "\n",
    "paramGrid = ParamGridBuilder() \\\n",
    "    .addGrid(countVectors.vocabSize, [5000, 10000]) \\\n",
    "    .addGrid(mlr.regParam, [0.1, 0.3]) \\\n",
    "    .build()\n",
    "\n",
    "crossval = CrossValidator(estimator=pipeline,\n",
    "                         estimatorParamMaps=paramGrid,\n",
    "                         evaluator=MulticlassClassificationEvaluator(),\n",
    "                         numFolds=5)\n",
    "\n",
    "cvModel7 = crossval.fit(train2)"
   ]
  },
  {
   "cell_type": "code",
   "execution_count": null,
   "metadata": {},
   "outputs": [],
   "source": [
    "prediction7 = cvModel7.transform(test2)"
   ]
  },
  {
   "cell_type": "code",
   "execution_count": null,
   "metadata": {},
   "outputs": [],
   "source": [
    "# Details on the model:\n",
    "print (\"Best regularization parameter value:\" + str(cvModel.bestModel.stages[-1]._java_obj.parent().getRegParam()))\n",
    "print (\"Best number of words:\" + str(cvModel.bestModel.stages[2]._java_obj.parent().getVocabSize()))"
   ]
  },
  {
   "cell_type": "code",
   "execution_count": null,
   "metadata": {},
   "outputs": [],
   "source": [
    "log_loss(prediction7)"
   ]
  },
  {
   "cell_type": "code",
   "execution_count": null,
   "metadata": {},
   "outputs": [],
   "source": [
    "evaluator = MulticlassClassificationEvaluator()\n",
    "print(\"testing set F1:\" + str(evaluator.evaluate(prediction7)))"
   ]
  },
  {
   "cell_type": "markdown",
   "metadata": {},
   "source": [
    "### 4.3.2 Description Random Forest"
   ]
  },
  {
   "cell_type": "markdown",
   "metadata": {},
   "source": [
    "Now we would like to see how the Count Vector method works using a Random Forest classifier. We will perform cross-validation for this step."
   ]
  },
  {
   "cell_type": "code",
   "execution_count": null,
   "metadata": {},
   "outputs": [],
   "source": [
    "from pyspark.ml.classification import RandomForestClassifier\n"
   ]
  },
  {
   "cell_type": "code",
   "execution_count": null,
   "metadata": {},
   "outputs": [],
   "source": [
    "# regular expression tokenizer\n",
    "regexTokenizer = RegexTokenizer(inputCol=\"description\", outputCol=\"words\", pattern=\"\\\\W\") # I don't know what W is...\n",
    "\n",
    "# stop words\n",
    "add_stopwords = [\"a\",\"the\",\"it\",\"of\",\"the\",\"is\",\"and\",\"A\",\"this\",\"in\",\"for\", \"with\"]\n",
    "stopwordsRemover = StopWordsRemover(inputCol=\"words\", outputCol=\"filtered\").setStopWords(add_stopwords)\n",
    "\n",
    "# bag of words count\n",
    "countVectors = CountVectorizer(inputCol=\"filtered\", outputCol=\"features\", vocabSize=5000, minDF=5)\n",
    "\n",
    "rf = RandomForestClassifier(maxDepth=5, numTrees=50)\n",
    "\n",
    "pipeline = Pipeline(stages=[regexTokenizer, stopwordsRemover, countVectors, rf])\n"
   ]
  },
  {
   "cell_type": "code",
   "execution_count": null,
   "metadata": {},
   "outputs": [],
   "source": [
    "from pyspark.ml.tuning import CrossValidator, ParamGridBuilder\n",
    "from pyspark.ml.evaluation import MulticlassClassificationEvaluator\n",
    "\n",
    "\n",
    "paramGrid = ParamGridBuilder() \\\n",
    "    .addGrid(countVectors.vocabSize, [1000, 5000]) \\\n",
    "    .addGrid(rf.maxDepth, [2, 5]) \\\n",
    "    .addGrid(rf.numTrees, [50, 100])\\\n",
    "    .build()\n",
    "\n",
    "crossval = CrossValidator(estimator=pipeline,\n",
    "                         estimatorParamMaps=paramGrid,\n",
    "                         evaluator=MulticlassClassificationEvaluator(),\n",
    "                         numFolds=5)\n",
    "\n",
    "cvModel8 = crossval.fit(train_set)"
   ]
  },
  {
   "cell_type": "code",
   "execution_count": null,
   "metadata": {},
   "outputs": [],
   "source": [
    "prediction8 = cvModel8.transform(test_set)"
   ]
  },
  {
   "cell_type": "code",
   "execution_count": null,
   "metadata": {},
   "outputs": [],
   "source": [
    "evaluator = MulticlassClassificationEvaluator()\n",
    "print(\"testing set F1:\" + str(evaluator.evaluate(prediction8)))"
   ]
  },
  {
   "cell_type": "code",
   "execution_count": null,
   "metadata": {},
   "outputs": [],
   "source": [
    "log_loss(prediction8) # note, this is different from the first time I ran this"
   ]
  },
  {
   "cell_type": "code",
   "execution_count": null,
   "metadata": {},
   "outputs": [],
   "source": [
    "cvModel8.bestModel.stages[-1]._java_obj.parent().getMaxDepth()\n",
    "cvModel8.bestModel.stages[-1]._java_obj.parent().getNumTrees()\n",
    "cvModel8.bestModel.stages[2]._java_obj.parent().getVocabSize()"
   ]
  },
  {
   "cell_type": "markdown",
   "metadata": {},
   "source": [
    "### 4.3.3 Description Decision Tree"
   ]
  },
  {
   "cell_type": "code",
   "execution_count": null,
   "metadata": {},
   "outputs": [],
   "source": [
    "# Decision Trees\n",
    "from pyspark.ml.classification import DecisionTreeClassifier"
   ]
  },
  {
   "cell_type": "code",
   "execution_count": null,
   "metadata": {},
   "outputs": [],
   "source": [
    "dt = DecisionTreeClassifier(maxDepth=5)\n",
    "pipeline = Pipeline(stages=[regexTokenizer, stopwordsRemover, countVectors, dt])"
   ]
  },
  {
   "cell_type": "code",
   "execution_count": null,
   "metadata": {},
   "outputs": [],
   "source": [
    "from pyspark.ml.tuning import CrossValidator, ParamGridBuilder\n",
    "from pyspark.ml.evaluation import MulticlassClassificationEvaluator\n",
    "\n",
    "\n",
    "paramGrid = ParamGridBuilder() \\\n",
    "    .addGrid(countVectors.vocabSize, [1000, 5000]) \\\n",
    "    .addGrid(dt.maxDepth, [2, 5]) \\\n",
    "    .build()\n",
    "\n",
    "crossval = CrossValidator(estimator=pipeline,\n",
    "                         estimatorParamMaps=paramGrid,\n",
    "                         evaluator=MulticlassClassificationEvaluator(),\n",
    "                         numFolds=5)\n",
    "\n",
    "cvModel9 = crossval.fit(train_set)"
   ]
  },
  {
   "cell_type": "code",
   "execution_count": null,
   "metadata": {},
   "outputs": [],
   "source": [
    "prediction9 = cvModel9.transform(test_set)"
   ]
  },
  {
   "cell_type": "code",
   "execution_count": null,
   "metadata": {},
   "outputs": [],
   "source": [
    "evaluator = MulticlassClassificationEvaluator()\n",
    "print(\"testing set F1:\" + str(evaluator.evaluate(prediction9)))"
   ]
  },
  {
   "cell_type": "code",
   "execution_count": null,
   "metadata": {
    "scrolled": true
   },
   "outputs": [],
   "source": [
    "log_loss(prediction9) # "
   ]
  },
  {
   "cell_type": "code",
   "execution_count": null,
   "metadata": {},
   "outputs": [],
   "source": [
    "cvModel9.bestModel.stages[-1]._java_obj.parent().getMaxDepth()\n",
    "cvModel9.bestModel.stages[2]._java_obj.parent().getVocabSize()"
   ]
  },
  {
   "cell_type": "markdown",
   "metadata": {},
   "source": [
    "## 4.4 Mega-Model"
   ]
  },
  {
   "cell_type": "markdown",
   "metadata": {},
   "source": [
    "### Logistic Regression"
   ]
  },
  {
   "cell_type": "code",
   "execution_count": null,
   "metadata": {},
   "outputs": [],
   "source": [
    "!python3 projectModelRunnerMega.py finalClassifier:LogisticRegression doTest:true "
   ]
  },
  {
   "cell_type": "markdown",
   "metadata": {},
   "source": [
    "### Decision Tree"
   ]
  },
  {
   "cell_type": "code",
   "execution_count": null,
   "metadata": {},
   "outputs": [],
   "source": [
    "!python3 projectModelRunnerMega.py finalClassifier:DecisionTree doTest:true "
   ]
  },
  {
   "cell_type": "markdown",
   "metadata": {},
   "source": [
    "### Random Forest"
   ]
  },
  {
   "cell_type": "code",
   "execution_count": null,
   "metadata": {},
   "outputs": [],
   "source": [
    "!python3 projectModelRunnerMega.py finalClassifier:RandomForest doTest:true "
   ]
  },
  {
   "cell_type": "markdown",
   "metadata": {},
   "source": [
    "# 5. Evaluation"
   ]
  },
  {
   "cell_type": "markdown",
   "metadata": {},
   "source": [
    "We created a confusion matrix to visualize performance of the best models from each model type."
   ]
  },
  {
   "cell_type": "code",
   "execution_count": null,
   "metadata": {},
   "outputs": [],
   "source": [
    "import numpy as np\n",
    "import itertools\n",
    "import matplotlib.pyplot as plt\n",
    "\n",
    "def plot_confusion_matrix(cm, classes,\n",
    "                          normalize=False,\n",
    "                          title='Confusion matrix',\n",
    "                          cmap=plt.cm.Blues):\n",
    "    \"\"\"\n",
    "    This function prints and plots the confusion matrix.\n",
    "    Normalization can be applied by setting `normalize=True`.\n",
    "    \"\"\"\n",
    "    if normalize:\n",
    "        cm = cm.astype('float') / cm.sum(axis=1)[:, np.newaxis]\n",
    "        print(\"Normalized confusion matrix\")\n",
    "    else:\n",
    "        print('Confusion matrix, without normalization')\n",
    "\n",
    "    print(cm)\n",
    "\n",
    "    plt.imshow(cm, interpolation='nearest', cmap=cmap)\n",
    "    plt.title(title)\n",
    "    plt.colorbar()\n",
    "    tick_marks = np.arange(len(classes))\n",
    "    plt.xticks(tick_marks, classes, rotation=45)\n",
    "    plt.yticks(tick_marks, classes)\n",
    "\n",
    "    fmt = '.2f' if normalize else 'd'\n",
    "    thresh = cm.max() / 2.\n",
    "    for i, j in itertools.product(range(cm.shape[0]), range(cm.shape[1])):\n",
    "        plt.text(j, i, format(cm[i, j], fmt),\n",
    "                 horizontalalignment=\"center\",\n",
    "                 color=\"white\" if cm[i, j] > thresh else \"black\")\n",
    "\n",
    "    plt.ylabel('True label')\n",
    "    plt.xlabel('Predicted label')\n",
    "    plt.tight_layout()"
   ]
  },
  {
   "cell_type": "markdown",
   "metadata": {},
   "source": [
    "First, the amenities column: (logistic)"
   ]
  },
  {
   "cell_type": "code",
   "execution_count": null,
   "metadata": {},
   "outputs": [],
   "source": [
    "test_confusion_matrix_pd = prediction4.select(\"label\", \"prediction\").toPandas()\n",
    "\n",
    "from sklearn.metrics import confusion_matrix\n",
    "\n",
    "\n",
    "cnf_matrix = confusion_matrix(test_confusion_matrix_pd[\"label\"], test_confusion_matrix_pd[\"prediction\"])\n",
    "\n",
    "plt.figure()\n",
    "class_names = [\"low\", \"medium\", \"high\"]\n",
    "plot_confusion_matrix(cnf_matrix, classes=class_names, normalize = False,\n",
    "                      title='Confusion matrix, without normalization')"
   ]
  },
  {
   "cell_type": "code",
   "execution_count": null,
   "metadata": {},
   "outputs": [],
   "source": [
    "The description column: (logistic)"
   ]
  },
  {
   "cell_type": "code",
   "execution_count": null,
   "metadata": {},
   "outputs": [],
   "source": [
    "test_confusion_matrix_pd = prediction7.select(\"label\", \"prediction\").toPandas()\n",
    "\n",
    "from sklearn.metrics import confusion_matrix\n",
    "\n",
    "\n",
    "cnf_matrix = confusion_matrix(test_confusion_matrix_pd[\"label\"], test_confusion_matrix_pd[\"prediction\"])\n",
    "\n",
    "plt.figure()\n",
    "class_names = [\"low\", \"medium\", \"high\"]\n",
    "plot_confusion_matrix(cnf_matrix, classes=class_names, normalize = False,\n",
    "                      title='Confusion matrix, without normalization')"
   ]
  },
  {
   "cell_type": "markdown",
   "metadata": {},
   "source": [
    "# 6. Additional work"
   ]
  },
  {
   "cell_type": "markdown",
   "metadata": {},
   "source": [
    "## 6.1 Time\n",
    "We have fitted the time variable in the random forest as the unix time. In the random forest setting, that time will be cutted by the mean in between each two observations at each step chosen by the lowest Gini value. However, by this method the time variable is not important in this model. We may fit time as categories such as Months of a year, and that may improve the model performance.  "
   ]
  },
  {
   "cell_type": "markdown",
   "metadata": {},
   "source": [
    "## 6.2 Extract 'Hot' Neighborhoods\n",
    "\n",
    "We expected that neighborhood designation might be an important predictor in the model. However, the dataset provided did not include this information. Therefore, we mined the description column for words that indicated which NYC neighborhood the listing might be in. We went to rentHop's website and searched the text for the neighborhoods used online."
   ]
  },
  {
   "cell_type": "code",
   "execution_count": null,
   "metadata": {},
   "outputs": [],
   "source": [
    "# These are all the neighborhoods listed on the renthop website that users can use to filter\n",
    "def hot_hoods(df):\n",
    "    train5 = df.withColumn('Lenox_Hill', F.expr(\"IF(INSTR(description, 'Lenox Hill') > 0, 1, 0)\"))\\\n",
    "    .withColumn('Roosevelt_Island', F.expr(\"IF(INSTR(description, 'Roosevelt Island') > 0, 1, 0)\"))\\\n",
    "    .withColumn('CP', F.expr(\"IF(INSTR(description, 'Central Park') >0,1,0)\"))\\\n",
    "    .withColumn('Turtle_Bay', F.expr(\"IF(INSTR(description, 'Turtle Bay') > 0, 1, 0)\"))\\\n",
    "    .withColumn('Upper_East', F.expr(\"IF(INSTR(description, 'Upper East')|INSTR(description, 'upper East') >0,1,0)\"))\\\n",
    "    .withColumn('Upper_West', F.expr(\"IF(INSTR(description, 'Upper West')|INSTR(description, 'upper East') >0,1,0)\"))\\\n",
    "    .withColumn('Brooklyn', F.expr(\"IF(INSTR(description, 'Brooklyn') >0,1,0)\"))\\\n",
    "    .withColumn('HK', F.expr(\"IF(INSTR(description, 'Hell') >0,1,0)\"))\\\n",
    "    .withColumn('Midtown', F.expr(\"IF(INSTR(description, 'Midtown') >0,1,0)\"))\\\n",
    "    .withColumn('CH', F.expr(\"IF(INSTR(description, 'Carnegie Hill') >0,1,0)\"))\\\n",
    "    .withColumn('GD', F.expr(\"IF(INSTR(description, 'Garment') >0,1,0)\"))\\\n",
    "    .withColumn('MHill', F.expr(\"IF(INSTR(description, 'Murray') >0,1,0)\"))\\\n",
    "    .withColumn('Yorkville', F.expr(\"IF(INSTR(description, 'Yorkville') >0,1,0)\"))\\\n",
    "    .withColumn('TD', F.expr(\"IF(INSTR(description, 'Theater District') >0,1,0)\"))\\\n",
    "    .withColumn('SP', F.expr(\"IF(INSTR(description, 'Sutton Place') >0,1,0)\"))\\\n",
    "    .withColumn('Manhattan', F.expr(\"IF(INSTR(description, 'Manhattan') >0,1,0)\"))\\\n",
    "    .withColumn('TC', F.expr(\"IF(INSTR(description, 'Tudor') >0,1,0)\"))\\\n",
    "    .withColumn('Koreatown', F.expr(\"IF(INSTR(description, 'Koreatown') >0,1,0)\"))\\\n",
    "    .withColumn('LS', F.expr(\"IF(INSTR(description, 'Little Senegal') >0,1,0)\"))\\\n",
    "    .withColumn('Lincoln_Sq', F.expr(\"IF(INSTR(description, 'Lincoln Square') >0,1,0)\"))\n",
    "    \n",
    "    return train5"
   ]
  },
  {
   "cell_type": "code",
   "execution_count": null,
   "metadata": {},
   "outputs": [],
   "source": [
    "dataset_3 = hot_hoods(train_data_df)"
   ]
  },
  {
   "cell_type": "code",
   "execution_count": null,
   "metadata": {},
   "outputs": [],
   "source": [
    "dataset_3.printSchema"
   ]
  },
  {
   "cell_type": "markdown",
   "metadata": {},
   "source": [
    "We can even build a quick model to see how it does:"
   ]
  },
  {
   "cell_type": "code",
   "execution_count": null,
   "metadata": {},
   "outputs": [],
   "source": [
    "# Make input/output vectors\n",
    "from pyspark.sql.types import IntegerType\n",
    "from pyspark.ml.linalg import DenseVector\n",
    "\n",
    "\n",
    "dataset_3B = dataset_3.select(\"interest_level\", \"price\", \"Lenox_Hill\",\"Roosevelt_Island\",\"CP\",\"Turtle_Bay\",\"Upper_East\",\"Upper_West\",\"Brooklyn\",\"HK\",\"Midtown\",\"CH\",\"GD\",\"MHill\",\"Yorkville\",\"TD\",\"SP\",\"Manhattan\",\"TC\",\"Koreatown\",\"LS\",\"Lincoln_Sq\")\n",
    "input_data = dataset_3B.rdd.map(lambda x: (x[0], DenseVector(x[2:])))\n",
    "df2 = sqlCtx.createDataFrame(input_data, [\"label\", \"features\"])\n",
    "df2 = withColumn(\"label\", )\n",
    "df2.show(2)"
   ]
  },
  {
   "cell_type": "code",
   "execution_count": null,
   "metadata": {},
   "outputs": [],
   "source": [
    "from pyspark.sql.types import IntegerType\n",
    "from pyspark.sql.functions import udf\n",
    "\n",
    "def modify_values(r):\n",
    "    if r == \"high\":\n",
    "        return 2\n",
    "    else:\n",
    "        if r == \"medium\":\n",
    "            return 1\n",
    "        else:\n",
    "            return 0\n",
    "ol_val = udf(modify_values, IntegerType())\n",
    "new_df2 = df2.withColumn(\"label\",ol_val(df2.label))"
   ]
  },
  {
   "cell_type": "code",
   "execution_count": null,
   "metadata": {},
   "outputs": [],
   "source": [
    "(train_set2, test_set2) = new_df2.randomSplit([0.8, 0.2], seed = 1337)"
   ]
  },
  {
   "cell_type": "code",
   "execution_count": null,
   "metadata": {},
   "outputs": [],
   "source": [
    "# new pipeline\n",
    "mlr = LogisticRegression(maxIter=10, regParam = 0.1, family=\"multinomial\")\n",
    "pipeline2 = Pipeline(stages=[mlr])"
   ]
  },
  {
   "cell_type": "code",
   "execution_count": null,
   "metadata": {},
   "outputs": [],
   "source": [
    "mod = pipeline2.fit(train_set2)"
   ]
  },
  {
   "cell_type": "code",
   "execution_count": null,
   "metadata": {},
   "outputs": [],
   "source": [
    "preds = mod.transform(test_set2)"
   ]
  },
  {
   "cell_type": "code",
   "execution_count": null,
   "metadata": {},
   "outputs": [],
   "source": [
    "evaluator = MulticlassClassificationEvaluator()\n",
    "print(\"testing set F1:\" + str(evaluator.evaluate(preds)))"
   ]
  },
  {
   "cell_type": "markdown",
   "metadata": {},
   "source": [
    "We can see that extracting the neighborhoods does not do too much to improve predictions! We can play around with using different regularization levels and thresholds, but this is unilikely to solve all of our prediction problems!"
   ]
  },
  {
   "cell_type": "markdown",
   "metadata": {},
   "source": [
    "## 6.3 Symbols and text attributes\n",
    "\n",
    "While word analysis might be very helpful, there might be other elements that influence a person's interest in a listing aside from actual words. Use of '******' might be eye-catching, and too many exclamations might be viewed as unprofessional. Additionally, excessive all caps words might also be seen as more likely to be a scam."
   ]
  },
  {
   "cell_type": "markdown",
   "metadata": {},
   "source": [
    "## 6.4 Count Photos\n",
    "\n",
    "People love pictures, so it's probably likely that potential renters won't be too interested in listings with zero pictures. We'd hazard a guess that listings with three or fewer photos might have less interest, but that beyond 7-8 it probably doesn't make too much difference. This nonlinear relationship might warrant bucketizing, but for now, we will simply use photo counts as a predictor."
   ]
  },
  {
   "cell_type": "code",
   "execution_count": null,
   "metadata": {},
   "outputs": [],
   "source": [
    "def photo_taker(df):\n",
    "    train_data_df_p = df.select(\"interest_level\", \"photos\")\n",
    "    photo_rdd = train_data_df_p.rdd\n",
    "    photo_rdd = photo_rdd.map(lambda x: (x[0], len(x[1])))\n",
    "    photo_df = sqlCtx.createDataFrame(photo_rdd, [\"label\", \"features\"])\n",
    "    return photo_df[\"features\"]"
   ]
  },
  {
   "cell_type": "code",
   "execution_count": null,
   "metadata": {},
   "outputs": [],
   "source": [
    "# Need to extract photo_df from above to run this part to make the histogram\n",
    "photo_pd = photo_df.toPandas()\n",
    "photo_pd.hist(\"features\",\"label\")"
   ]
  }
 ],
 "metadata": {
  "kernelspec": {
   "display_name": "Python 3",
   "language": "python",
   "name": "python3"
  },
  "language_info": {
   "codemirror_mode": {
    "name": "ipython",
    "version": 3
   },
   "file_extension": ".py",
   "mimetype": "text/x-python",
   "name": "python",
   "nbconvert_exporter": "python",
   "pygments_lexer": "ipython3",
   "version": "3.6.8"
  }
 },
 "nbformat": 4,
 "nbformat_minor": 2
}
